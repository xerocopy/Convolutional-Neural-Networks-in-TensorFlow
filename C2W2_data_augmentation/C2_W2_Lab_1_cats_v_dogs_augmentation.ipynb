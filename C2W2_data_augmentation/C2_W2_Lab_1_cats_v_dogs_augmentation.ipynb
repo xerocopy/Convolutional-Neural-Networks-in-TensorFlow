{
 "cells": [
  {
   "cell_type": "markdown",
   "metadata": {
    "id": "IVh890TlF6Jr"
   },
   "source": [
    "<a href=\"https://colab.research.google.com/github/https-deeplearning-ai/tensorflow-1-public/blob/master/C2/W2/ungraded_labs/C2_W2_Lab_1_cats_v_dogs_augmentation.ipynb\" target=\"_parent\"><img src=\"https://colab.research.google.com/assets/colab-badge.svg\" alt=\"Open In Colab\"/></a>"
   ]
  },
  {
   "cell_type": "markdown",
   "metadata": {
    "id": "gGxCD4mGHHjG"
   },
   "source": [
    "# Ungraded Lab: Data Augmentation\n",
    "\n",
    "In the previous lessons, you saw that having a high training accuracy does not automatically mean having a good predictive model. It can still perform poorly on new data because it has overfit to the training set. In this lab, you will see how to avoid that using _data augmentation_. This increases the amount of training data by modifying the existing training data's properties. For example, in image data, you can apply different preprocessing techniques such as rotate, flip, shear, or zoom on your existing images so you can simulate other data that the model should also learn from. This way, the model would see more variety in the images during training so it will infer better on new, previously unseen data.\n",
    "\n",
    "Let's see how you can do this in the following sections."
   ]
  },
  {
   "cell_type": "markdown",
   "metadata": {
    "id": "kJJqX4DxcQs8"
   },
   "source": [
    "## Baseline Performance\n",
    "\n",
    "You will start with a model that's very effective at learning `Cats vs Dogs` without data augmentation. It's similar to the previous models that you have used. Note that there are four convolutional layers with 32, 64, 128 and 128 convolutions respectively. The code is basically the same from the previous lab so we won't go over the details step by step since you've already seen it before.\n",
    "\n",
    "You will train only for 20 epochs to save time but feel free to increase this if you want."
   ]
  },
  {
   "cell_type": "code",
   "execution_count": 2,
   "metadata": {},
   "outputs": [
    {
     "name": "stdout",
     "output_type": "stream",
     "text": [
      "Collecting gdown\n",
      "  Downloading gdown-4.3.1.tar.gz (13 kB)\n",
      "  Installing build dependencies: started\n",
      "  Installing build dependencies: finished with status 'done'\n",
      "  Getting requirements to build wheel: started\n",
      "  Getting requirements to build wheel: finished with status 'done'\n",
      "    Preparing wheel metadata: started\n",
      "    Preparing wheel metadata: finished with status 'done'\n",
      "Collecting tqdm\n",
      "  Using cached tqdm-4.62.3-py2.py3-none-any.whl (76 kB)\n",
      "Requirement already satisfied: six in c:\\users\\jingc\\anaconda3\\envs\\python37\\lib\\site-packages (from gdown) (1.16.0)\n",
      "Collecting beautifulsoup4\n",
      "  Downloading beautifulsoup4-4.10.0-py3-none-any.whl (97 kB)\n",
      "Requirement already satisfied: requests[socks] in c:\\users\\jingc\\anaconda3\\envs\\python37\\lib\\site-packages (from gdown) (2.27.1)\n",
      "Collecting filelock\n",
      "  Downloading filelock-3.6.0-py3-none-any.whl (10.0 kB)\n",
      "Collecting soupsieve>1.2\n",
      "  Downloading soupsieve-2.3.1-py3-none-any.whl (37 kB)\n",
      "Requirement already satisfied: urllib3<1.27,>=1.21.1 in c:\\users\\jingc\\anaconda3\\envs\\python37\\lib\\site-packages (from requests[socks]->gdown) (1.26.8)\n",
      "Requirement already satisfied: charset-normalizer~=2.0.0 in c:\\users\\jingc\\anaconda3\\envs\\python37\\lib\\site-packages (from requests[socks]->gdown) (2.0.12)\n",
      "Requirement already satisfied: idna<4,>=2.5 in c:\\users\\jingc\\anaconda3\\envs\\python37\\lib\\site-packages (from requests[socks]->gdown) (3.3)\n",
      "Requirement already satisfied: certifi>=2017.4.17 in c:\\users\\jingc\\anaconda3\\envs\\python37\\lib\\site-packages (from requests[socks]->gdown) (2021.10.8)\n",
      "Collecting PySocks!=1.5.7,>=1.5.6\n",
      "  Downloading PySocks-1.7.1-py3-none-any.whl (16 kB)\n",
      "Requirement already satisfied: colorama in c:\\users\\jingc\\anaconda3\\envs\\python37\\lib\\site-packages (from tqdm->gdown) (0.4.4)\n",
      "Building wheels for collected packages: gdown\n",
      "  Building wheel for gdown (PEP 517): started\n",
      "  Building wheel for gdown (PEP 517): finished with status 'done'\n",
      "  Created wheel for gdown: filename=gdown-4.3.1-py3-none-any.whl size=14493 sha256=c33cbb7cd5ac997745b1c22865970bd6eb555a7a10edd4b652385d0ddb50712b\n",
      "  Stored in directory: c:\\users\\jingc\\appdata\\local\\pip\\cache\\wheels\\39\\13\\56\\88209f07bace2c1af0614ee3326de4a00aad74afb0f4be921d\n",
      "Successfully built gdown\n",
      "Installing collected packages: soupsieve, PySocks, tqdm, filelock, beautifulsoup4, gdown\n",
      "Successfully installed PySocks-1.7.1 beautifulsoup4-4.10.0 filelock-3.6.0 gdown-4.3.1 soupsieve-2.3.1 tqdm-4.62.3\n"
     ]
    }
   ],
   "source": [
    "!pip install gdown"
   ]
  },
  {
   "cell_type": "code",
   "execution_count": 3,
   "metadata": {
    "id": "zJZIF29-dIRv"
   },
   "outputs": [
    {
     "name": "stderr",
     "output_type": "stream",
     "text": [
      "Downloading...\n",
      "From: https://drive.google.com/uc?id=1RL0T7Rg4XqQNRCkjfnLo4goOJQ7XZro9\n",
      "To: C:\\Users\\jingc\\Documents\\GitHub\\Convolutional-Neural-Networks-in-TensorFlow\\C2W2_dataaugmentation\\cats_and_dogs_filtered.zip\n",
      "\n",
      "  0%|          | 0.00/68.6M [00:00<?, ?B/s]\n",
      "  1%|          | 524k/68.6M [00:00<00:38, 1.76MB/s]\n",
      "  2%|2         | 1.57M/68.6M [00:00<00:17, 3.84MB/s]\n",
      "  4%|3         | 2.62M/68.6M [00:00<00:13, 5.07MB/s]\n",
      "  5%|5         | 3.67M/68.6M [00:00<00:11, 5.70MB/s]\n",
      "  7%|6         | 4.72M/68.6M [00:00<00:12, 5.16MB/s]\n",
      "  8%|8         | 5.77M/68.6M [00:01<00:11, 5.46MB/s]\n",
      " 10%|9         | 6.82M/68.6M [00:01<00:10, 6.05MB/s]\n",
      " 11%|#1        | 7.86M/68.6M [00:01<00:09, 6.09MB/s]\n",
      " 13%|#2        | 8.91M/68.6M [00:01<00:09, 6.55MB/s]\n",
      " 15%|#4        | 9.96M/68.6M [00:01<00:09, 6.39MB/s]\n",
      " 16%|#6        | 11.0M/68.6M [00:01<00:08, 6.69MB/s]\n",
      " 18%|#7        | 12.1M/68.6M [00:02<00:08, 6.82MB/s]\n",
      " 19%|#9        | 13.1M/68.6M [00:02<00:08, 6.84MB/s]\n",
      " 21%|##        | 14.2M/68.6M [00:02<00:08, 6.79MB/s]\n",
      " 22%|##2       | 15.2M/68.6M [00:02<00:07, 6.84MB/s]\n",
      " 24%|##3       | 16.3M/68.6M [00:02<00:07, 6.65MB/s]\n",
      " 25%|##5       | 17.3M/68.6M [00:02<00:07, 6.98MB/s]\n",
      " 27%|##6       | 18.4M/68.6M [00:02<00:07, 6.95MB/s]\n",
      " 28%|##8       | 19.4M/68.6M [00:03<00:07, 6.89MB/s]\n",
      " 30%|##9       | 20.4M/68.6M [00:03<00:06, 6.92MB/s]\n",
      " 31%|###1      | 21.5M/68.6M [00:03<00:06, 6.79MB/s]\n",
      " 33%|###2      | 22.5M/68.6M [00:03<00:06, 6.92MB/s]\n",
      " 34%|###4      | 23.6M/68.6M [00:03<00:06, 6.68MB/s]\n",
      " 36%|###5      | 24.6M/68.6M [00:03<00:06, 6.70MB/s]\n",
      " 37%|###7      | 25.7M/68.6M [00:04<00:06, 6.87MB/s]\n",
      " 39%|###8      | 26.7M/68.6M [00:04<00:06, 6.78MB/s]\n",
      " 41%|####      | 27.8M/68.6M [00:04<00:06, 6.73MB/s]\n",
      " 42%|####2     | 28.8M/68.6M [00:04<00:05, 6.80MB/s]\n",
      " 44%|####3     | 29.9M/68.6M [00:04<00:05, 6.87MB/s]\n",
      " 45%|####5     | 30.9M/68.6M [00:04<00:05, 6.93MB/s]\n",
      " 47%|####6     | 32.0M/68.6M [00:04<00:05, 6.91MB/s]\n",
      " 48%|####8     | 33.0M/68.6M [00:05<00:05, 6.95MB/s]\n",
      " 50%|####9     | 34.1M/68.6M [00:05<00:05, 6.89MB/s]\n",
      " 51%|#####1    | 35.1M/68.6M [00:05<00:04, 6.71MB/s]\n",
      " 53%|#####2    | 36.2M/68.6M [00:05<00:04, 6.84MB/s]\n",
      " 54%|#####4    | 37.2M/68.6M [00:05<00:04, 6.85MB/s]\n",
      " 56%|#####5    | 38.3M/68.6M [00:05<00:04, 6.86MB/s]\n",
      " 57%|#####7    | 39.3M/68.6M [00:06<00:04, 6.86MB/s]\n",
      " 59%|#####8    | 40.4M/68.6M [00:06<00:04, 6.86MB/s]\n",
      " 60%|######    | 41.4M/68.6M [00:06<00:04, 6.26MB/s]\n",
      " 62%|######1   | 42.5M/68.6M [00:06<00:04, 5.49MB/s]\n",
      " 63%|######3   | 43.5M/68.6M [00:06<00:04, 5.84MB/s]\n",
      " 65%|######4   | 44.6M/68.6M [00:06<00:03, 6.11MB/s]\n",
      " 66%|######6   | 45.6M/68.6M [00:07<00:03, 6.01MB/s]\n",
      " 68%|######8   | 46.7M/68.6M [00:07<00:03, 6.41MB/s]\n",
      " 70%|######9   | 47.7M/68.6M [00:07<00:03, 6.68MB/s]\n",
      " 71%|#######1  | 48.8M/68.6M [00:07<00:02, 6.64MB/s]\n",
      " 73%|#######2  | 49.8M/68.6M [00:07<00:02, 6.74MB/s]\n",
      " 74%|#######4  | 50.9M/68.6M [00:07<00:02, 6.89MB/s]\n",
      " 76%|#######5  | 51.9M/68.6M [00:08<00:02, 6.85MB/s]\n",
      " 77%|#######7  | 53.0M/68.6M [00:08<00:02, 6.70MB/s]\n",
      " 79%|#######8  | 54.0M/68.6M [00:08<00:02, 6.73MB/s]\n",
      " 80%|########  | 55.1M/68.6M [00:08<00:01, 6.81MB/s]\n",
      " 82%|########1 | 56.1M/68.6M [00:08<00:01, 6.73MB/s]\n",
      " 83%|########3 | 57.1M/68.6M [00:08<00:01, 6.78MB/s]\n",
      " 85%|########4 | 58.2M/68.6M [00:08<00:01, 6.80MB/s]\n",
      " 86%|########6 | 59.2M/68.6M [00:09<00:01, 6.59MB/s]\n",
      " 88%|########7 | 60.3M/68.6M [00:09<00:01, 6.34MB/s]\n",
      " 89%|########9 | 61.3M/68.6M [00:09<00:01, 6.20MB/s]\n",
      " 91%|######### | 62.4M/68.6M [00:09<00:01, 5.99MB/s]\n",
      " 92%|#########2| 63.4M/68.6M [00:09<00:00, 6.20MB/s]\n",
      " 94%|#########3| 64.5M/68.6M [00:09<00:00, 6.28MB/s]\n",
      " 96%|#########5| 65.5M/68.6M [00:10<00:00, 6.38MB/s]\n",
      " 97%|#########7| 66.6M/68.6M [00:10<00:00, 6.64MB/s]\n",
      " 99%|#########8| 67.6M/68.6M [00:10<00:00, 6.30MB/s]\n",
      "100%|##########| 68.6M/68.6M [00:10<00:00, 5.71MB/s]\n",
      "100%|##########| 68.6M/68.6M [00:10<00:00, 6.42MB/s]\n"
     ]
    }
   ],
   "source": [
    "# Download the dataset\n",
    "!gdown --id 1RL0T7Rg4XqQNRCkjfnLo4goOJQ7XZro9"
   ]
  },
  {
   "cell_type": "code",
   "execution_count": 4,
   "metadata": {
    "id": "_DyUfCTgdwa8"
   },
   "outputs": [],
   "source": [
    "import os\n",
    "import zipfile\n",
    "\n",
    "# Extract the archive\n",
    "zip_ref = zipfile.ZipFile(\"./cats_and_dogs_filtered.zip\", 'r')\n",
    "zip_ref.extractall(\"tmp/\")\n",
    "zip_ref.close()\n",
    "\n",
    "# Assign training and validation set directories\n",
    "base_dir = 'tmp/cats_and_dogs_filtered'\n",
    "train_dir = os.path.join(base_dir, 'train')\n",
    "validation_dir = os.path.join(base_dir, 'validation')\n",
    "\n",
    "# Directory with training cat pictures\n",
    "train_cats_dir = os.path.join(train_dir, 'cats')\n",
    "\n",
    "# Directory with training dog pictures\n",
    "train_dogs_dir = os.path.join(train_dir, 'dogs')\n",
    "\n",
    "# Directory with validation cat pictures\n",
    "validation_cats_dir = os.path.join(validation_dir, 'cats')\n",
    "\n",
    "# Directory with validation dog pictures\n",
    "validation_dogs_dir = os.path.join(validation_dir, 'dogs')"
   ]
  },
  {
   "cell_type": "markdown",
   "metadata": {
    "id": "Ub_BdOJIfZ_Q"
   },
   "source": [
    "You will place the model creation inside a function so you can easily initialize a new one when you use data augmentation later in this notebook."
   ]
  },
  {
   "cell_type": "code",
   "execution_count": 5,
   "metadata": {
    "id": "uWllK_Wad-Mx"
   },
   "outputs": [],
   "source": [
    "import tensorflow as tf\n",
    "from tensorflow.keras.optimizers import RMSprop\n",
    "\n",
    "def create_model():\n",
    "  '''Creates a CNN with 4 convolutional layers'''\n",
    "  model = tf.keras.models.Sequential([\n",
    "      tf.keras.layers.Conv2D(32, (3,3), activation='relu', input_shape=(150, 150, 3)),\n",
    "      tf.keras.layers.MaxPooling2D(2, 2),\n",
    "      tf.keras.layers.Conv2D(64, (3,3), activation='relu'),\n",
    "      tf.keras.layers.MaxPooling2D(2,2),\n",
    "      tf.keras.layers.Conv2D(128, (3,3), activation='relu'),\n",
    "      tf.keras.layers.MaxPooling2D(2,2),\n",
    "      tf.keras.layers.Conv2D(128, (3,3), activation='relu'),\n",
    "      tf.keras.layers.MaxPooling2D(2,2),\n",
    "      tf.keras.layers.Flatten(),\n",
    "      tf.keras.layers.Dense(512, activation='relu'),\n",
    "      tf.keras.layers.Dense(1, activation='sigmoid')\n",
    "  ])\n",
    "\n",
    "  model.compile(loss='binary_crossentropy',\n",
    "                optimizer=RMSprop(learning_rate=1e-4),\n",
    "                metrics=['accuracy'])\n",
    "  \n",
    "  return model"
   ]
  },
  {
   "cell_type": "code",
   "execution_count": 6,
   "metadata": {
    "id": "MJPyDEzOqrKB"
   },
   "outputs": [
    {
     "name": "stdout",
     "output_type": "stream",
     "text": [
      "Found 2000 images belonging to 2 classes.\n",
      "Found 1000 images belonging to 2 classes.\n"
     ]
    }
   ],
   "source": [
    "from tensorflow.keras.preprocessing.image import ImageDataGenerator\n",
    "\n",
    "# All images will be rescaled by 1./255\n",
    "train_datagen = ImageDataGenerator(rescale=1./255)\n",
    "test_datagen = ImageDataGenerator(rescale=1./255)\n",
    "\n",
    "# Flow training images in batches of 20 using train_datagen generator\n",
    "train_generator = train_datagen.flow_from_directory(\n",
    "        train_dir,  # This is the source directory for training images\n",
    "        target_size=(150, 150),  # All images will be resized to 150x150\n",
    "        batch_size=20,\n",
    "        # Since we use binary_crossentropy loss, we need binary labels\n",
    "        class_mode='binary')\n",
    "\n",
    "# Flow validation images in batches of 20 using test_datagen generator\n",
    "validation_generator = test_datagen.flow_from_directory(\n",
    "        validation_dir,\n",
    "        target_size=(150, 150),\n",
    "        batch_size=20,\n",
    "        class_mode='binary')"
   ]
  },
  {
   "cell_type": "code",
   "execution_count": 12,
   "metadata": {},
   "outputs": [
    {
     "name": "stdout",
     "output_type": "stream",
     "text": [
      "Num GPUs Available:  0\n"
     ]
    }
   ],
   "source": [
    "#check out if the notebook is using GPU on local machine\n",
    "print(\"Num GPUs Available: \", len(tf.config.list_physical_devices('GPU')))"
   ]
  },
  {
   "cell_type": "code",
   "execution_count": 7,
   "metadata": {
    "id": "hdqUoF44esR3"
   },
   "outputs": [
    {
     "name": "stdout",
     "output_type": "stream",
     "text": [
      "Epoch 1/20\n",
      "100/100 - 62s - loss: 0.6866 - accuracy: 0.5420 - val_loss: 0.6969 - val_accuracy: 0.4990 - 62s/epoch - 622ms/step\n",
      "Epoch 2/20\n",
      "100/100 - 48s - loss: 0.6566 - accuracy: 0.6015 - val_loss: 0.6447 - val_accuracy: 0.5930 - 48s/epoch - 483ms/step\n",
      "Epoch 3/20\n",
      "100/100 - 49s - loss: 0.6043 - accuracy: 0.6605 - val_loss: 0.6034 - val_accuracy: 0.6570 - 49s/epoch - 486ms/step\n",
      "Epoch 4/20\n",
      "100/100 - 49s - loss: 0.5708 - accuracy: 0.7045 - val_loss: 0.5770 - val_accuracy: 0.6940 - 49s/epoch - 490ms/step\n",
      "Epoch 5/20\n",
      "100/100 - 48s - loss: 0.5339 - accuracy: 0.7205 - val_loss: 0.5929 - val_accuracy: 0.6770 - 48s/epoch - 484ms/step\n",
      "Epoch 6/20\n",
      "100/100 - 48s - loss: 0.5182 - accuracy: 0.7410 - val_loss: 0.5768 - val_accuracy: 0.6950 - 48s/epoch - 483ms/step\n",
      "Epoch 7/20\n",
      "100/100 - 49s - loss: 0.4905 - accuracy: 0.7575 - val_loss: 0.5568 - val_accuracy: 0.7170 - 49s/epoch - 487ms/step\n",
      "Epoch 8/20\n",
      "100/100 - 48s - loss: 0.4631 - accuracy: 0.7790 - val_loss: 0.5506 - val_accuracy: 0.7230 - 48s/epoch - 480ms/step\n",
      "Epoch 9/20\n",
      "100/100 - 48s - loss: 0.4339 - accuracy: 0.8000 - val_loss: 0.5490 - val_accuracy: 0.7210 - 48s/epoch - 478ms/step\n",
      "Epoch 10/20\n",
      "100/100 - 48s - loss: 0.4100 - accuracy: 0.8180 - val_loss: 0.5622 - val_accuracy: 0.7210 - 48s/epoch - 479ms/step\n",
      "Epoch 11/20\n",
      "100/100 - 46s - loss: 0.3814 - accuracy: 0.8285 - val_loss: 0.5645 - val_accuracy: 0.7270 - 46s/epoch - 462ms/step\n",
      "Epoch 12/20\n",
      "100/100 - 49s - loss: 0.3610 - accuracy: 0.8435 - val_loss: 0.6203 - val_accuracy: 0.7050 - 49s/epoch - 491ms/step\n",
      "Epoch 13/20\n",
      "100/100 - 49s - loss: 0.3259 - accuracy: 0.8625 - val_loss: 0.5635 - val_accuracy: 0.7330 - 49s/epoch - 494ms/step\n",
      "Epoch 14/20\n",
      "100/100 - 48s - loss: 0.3115 - accuracy: 0.8690 - val_loss: 0.6507 - val_accuracy: 0.7090 - 48s/epoch - 482ms/step\n",
      "Epoch 15/20\n",
      "100/100 - 48s - loss: 0.2831 - accuracy: 0.8825 - val_loss: 0.6125 - val_accuracy: 0.7150 - 48s/epoch - 482ms/step\n",
      "Epoch 16/20\n",
      "100/100 - 48s - loss: 0.2597 - accuracy: 0.8975 - val_loss: 0.5819 - val_accuracy: 0.7370 - 48s/epoch - 482ms/step\n",
      "Epoch 17/20\n",
      "100/100 - 49s - loss: 0.2510 - accuracy: 0.8960 - val_loss: 0.6278 - val_accuracy: 0.7280 - 49s/epoch - 487ms/step\n",
      "Epoch 18/20\n",
      "100/100 - 49s - loss: 0.2175 - accuracy: 0.9175 - val_loss: 0.6375 - val_accuracy: 0.7300 - 49s/epoch - 494ms/step\n",
      "Epoch 19/20\n",
      "100/100 - 49s - loss: 0.1922 - accuracy: 0.9305 - val_loss: 0.5976 - val_accuracy: 0.7530 - 49s/epoch - 486ms/step\n",
      "Epoch 20/20\n",
      "100/100 - 49s - loss: 0.1776 - accuracy: 0.9360 - val_loss: 0.6105 - val_accuracy: 0.7570 - 49s/epoch - 493ms/step\n"
     ]
    }
   ],
   "source": [
    "# Constant for epochs\n",
    "EPOCHS = 20\n",
    "\n",
    "# Create a new model\n",
    "model = create_model()\n",
    "\n",
    "# Train the model\n",
    "history = model.fit(\n",
    "      train_generator,\n",
    "      steps_per_epoch=100,  # 2000 images = batch_size * steps\n",
    "      epochs=EPOCHS,\n",
    "      validation_data=validation_generator,\n",
    "      validation_steps=50,  # 1000 images = batch_size * steps\n",
    "      verbose=2)"
   ]
  },
  {
   "cell_type": "markdown",
   "metadata": {
    "id": "Y-G0Am4cguNt"
   },
   "source": [
    "You will then visualize the loss and accuracy with respect to the training and validation set. You will again use a convenience function so it can be reused later. This function accepts a [History](https://www.tensorflow.org/api_docs/python/tf/keras/callbacks/History) object which contains the results of the `fit()` method you ran above."
   ]
  },
  {
   "cell_type": "code",
   "execution_count": 8,
   "metadata": {
    "id": "GZWPcmKWO303"
   },
   "outputs": [],
   "source": [
    "import matplotlib.pyplot as plt\n",
    "\n",
    "def plot_loss_acc(history):\n",
    "  '''Plots the training and validation loss and accuracy from a history object'''\n",
    "  acc = history.history['accuracy']\n",
    "  val_acc = history.history['val_accuracy']\n",
    "  loss = history.history['loss']\n",
    "  val_loss = history.history['val_loss']\n",
    "\n",
    "  epochs = range(len(acc))\n",
    "\n",
    "  plt.plot(epochs, acc, 'bo', label='Training accuracy')\n",
    "  plt.plot(epochs, val_acc, 'b', label='Validation accuracy')\n",
    "  plt.title('Training and validation accuracy')\n",
    "\n",
    "  plt.figure()\n",
    "\n",
    "  plt.plot(epochs, loss, 'bo', label='Training Loss')\n",
    "  plt.plot(epochs, val_loss, 'b', label='Validation Loss')\n",
    "  plt.title('Training and validation loss')\n",
    "  plt.legend()\n",
    "\n",
    "  plt.show()"
   ]
  },
  {
   "cell_type": "code",
   "execution_count": 9,
   "metadata": {
    "id": "Vojz4NYXiT_f"
   },
   "outputs": [
    {
     "data": {
      "image/png": "[encoded data removed]",
      "text/plain": [
       "<Figure size 432x288 with 1 Axes>"
      ]
     },
     "metadata": {
      "needs_background": "light"
     },
     "output_type": "display_data"
    },
    {
     "data": {
      "image/png": "[encoded data removed]",
      "text/plain": [
       "<Figure size 432x288 with 1 Axes>"
      ]
     },
     "metadata": {
      "needs_background": "light"
     },
     "output_type": "display_data"
    }
   ],
   "source": [
    "# Plot training results\n",
    "plot_loss_acc(history)"
   ]
  },
  {
   "cell_type": "markdown",
   "metadata": {
    "id": "zb81GvNov-Tg"
   },
   "source": [
    "From the results above, you'll see the training accuracy is more than 90%, and the validation accuracy is in the 70%-80% range. This is a great example of _overfitting_ -- which in short means that it can do very well with images it has seen before, but not so well with images it hasn't.\n"
   ]
  },
  {
   "cell_type": "markdown",
   "metadata": {
    "id": "5KBz-vFbjLZX"
   },
   "source": [
    "## Data augmentation\n",
    "\n",
    "One simple method to avoid overfitting is to augment the images a bit. If you think about it, most pictures of a cat are very similar -- the ears are at the top, then the eyes, then the mouth etc. Things like the distance between the eyes and ears will always be quite similar too. \n",
    "\n",
    "What if you tweak with the images a bit -- rotate the image, squash it, etc.  That's what image augementation is all about. And there's an API that makes it easy!\n",
    "\n",
    "Take a look at the [ImageDataGenerator](https://www.tensorflow.org/api_docs/python/tf/keras/preprocessing/image/ImageDataGenerator) which you have been using to rescale the image. There are other properties on it that you can use to augment the image. \n",
    "\n",
    "```\n",
    "# Updated to do image augmentation\n",
    "train_datagen = ImageDataGenerator(\n",
    "      rotation_range=40,\n",
    "      width_shift_range=0.2,\n",
    "      height_shift_range=0.2,\n",
    "      shear_range=0.2,\n",
    "      zoom_range=0.2,\n",
    "      horizontal_flip=True,\n",
    "      fill_mode='nearest')\n",
    "```\n",
    "\n",
    "These are just a few of the options available. Let's quickly go over it:\n",
    "\n",
    "* `rotation_range` is a value in degrees (0–180) within which to randomly rotate pictures.\n",
    "* `width_shift` and `height_shift` are ranges (as a fraction of total width or height) within which to randomly translate pictures vertically or horizontally.\n",
    "* `shear_range` is for randomly applying shearing transformations.\n",
    "* `zoom_range` is for randomly zooming inside pictures.\n",
    "* `horizontal_flip` is for randomly flipping half of the images horizontally. This is relevant when there are no assumptions of horizontal assymmetry (e.g. real-world pictures).\n",
    "* `fill_mode` is the strategy used for filling in newly created pixels, which can appear after a rotation or a width/height shift.\n",
    "\n",
    "\n",
    "Run the next cells to see the impact on the results. The code is similar to the baseline but the definition of `train_datagen` has been updated to use the parameters described above.\n"
   ]
  },
  {
   "cell_type": "code",
   "execution_count": 10,
   "metadata": {
    "id": "UK7_Fflgv8YC"
   },
   "outputs": [
    {
     "name": "stdout",
     "output_type": "stream",
     "text": [
      "Found 2000 images belonging to 2 classes.\n",
      "Found 1000 images belonging to 2 classes.\n",
      "Epoch 1/20\n",
      "100/100 - 53s - loss: 0.6957 - accuracy: 0.4955 - val_loss: 0.6861 - val_accuracy: 0.5980 - 53s/epoch - 533ms/step\n",
      "Epoch 2/20\n",
      "100/100 - 52s - loss: 0.6856 - accuracy: 0.5515 - val_loss: 0.6694 - val_accuracy: 0.6170 - 52s/epoch - 518ms/step\n",
      "Epoch 3/20\n",
      "100/100 - 52s - loss: 0.6711 - accuracy: 0.5835 - val_loss: 0.6437 - val_accuracy: 0.6250 - 52s/epoch - 516ms/step\n",
      "Epoch 4/20\n",
      "100/100 - 53s - loss: 0.6621 - accuracy: 0.5980 - val_loss: 0.6323 - val_accuracy: 0.6580 - 53s/epoch - 526ms/step\n",
      "Epoch 5/20\n",
      "100/100 - 51s - loss: 0.6397 - accuracy: 0.6385 - val_loss: 0.6147 - val_accuracy: 0.6530 - 51s/epoch - 510ms/step\n",
      "Epoch 6/20\n",
      "100/100 - 51s - loss: 0.6298 - accuracy: 0.6470 - val_loss: 0.6271 - val_accuracy: 0.6460 - 51s/epoch - 513ms/step\n",
      "Epoch 7/20\n",
      "100/100 - 53s - loss: 0.6235 - accuracy: 0.6490 - val_loss: 0.6649 - val_accuracy: 0.5990 - 53s/epoch - 528ms/step\n",
      "Epoch 8/20\n",
      "100/100 - 53s - loss: 0.6176 - accuracy: 0.6470 - val_loss: 0.6121 - val_accuracy: 0.6330 - 53s/epoch - 525ms/step\n",
      "Epoch 9/20\n",
      "100/100 - 50s - loss: 0.6063 - accuracy: 0.6695 - val_loss: 0.5663 - val_accuracy: 0.6960 - 50s/epoch - 498ms/step\n",
      "Epoch 10/20\n",
      "100/100 - 56s - loss: 0.5929 - accuracy: 0.6855 - val_loss: 0.5591 - val_accuracy: 0.7150 - 56s/epoch - 559ms/step\n",
      "Epoch 11/20\n",
      "100/100 - 52s - loss: 0.5925 - accuracy: 0.6780 - val_loss: 0.5451 - val_accuracy: 0.7200 - 52s/epoch - 520ms/step\n",
      "Epoch 12/20\n",
      "100/100 - 52s - loss: 0.5682 - accuracy: 0.7085 - val_loss: 0.5348 - val_accuracy: 0.7220 - 52s/epoch - 516ms/step\n",
      "Epoch 13/20\n",
      "100/100 - 52s - loss: 0.5781 - accuracy: 0.7045 - val_loss: 0.5346 - val_accuracy: 0.7300 - 52s/epoch - 516ms/step\n",
      "Epoch 14/20\n",
      "100/100 - 51s - loss: 0.5699 - accuracy: 0.7040 - val_loss: 0.5193 - val_accuracy: 0.7260 - 51s/epoch - 514ms/step\n",
      "Epoch 15/20\n",
      "100/100 - 52s - loss: 0.5612 - accuracy: 0.7095 - val_loss: 0.5764 - val_accuracy: 0.6860 - 52s/epoch - 524ms/step\n",
      "Epoch 16/20\n",
      "100/100 - 53s - loss: 0.5670 - accuracy: 0.7060 - val_loss: 0.5156 - val_accuracy: 0.7380 - 53s/epoch - 530ms/step\n",
      "Epoch 17/20\n",
      "100/100 - 52s - loss: 0.5557 - accuracy: 0.7170 - val_loss: 0.5293 - val_accuracy: 0.7170 - 52s/epoch - 518ms/step\n",
      "Epoch 18/20\n",
      "100/100 - 52s - loss: 0.5491 - accuracy: 0.7150 - val_loss: 0.5289 - val_accuracy: 0.7150 - 52s/epoch - 515ms/step\n",
      "Epoch 19/20\n",
      "100/100 - 49s - loss: 0.5447 - accuracy: 0.7270 - val_loss: 0.4986 - val_accuracy: 0.7570 - 49s/epoch - 491ms/step\n",
      "Epoch 20/20\n",
      "100/100 - 53s - loss: 0.5532 - accuracy: 0.7125 - val_loss: 0.6004 - val_accuracy: 0.6780 - 53s/epoch - 528ms/step\n"
     ]
    }
   ],
   "source": [
    "# Create new model\n",
    "model_for_aug = create_model()\n",
    "\n",
    "# This code has changed. Now instead of the ImageGenerator just rescaling\n",
    "# the image, we also rotate and do other operations\n",
    "train_datagen = ImageDataGenerator(\n",
    "      rescale=1./255,\n",
    "      rotation_range=40,\n",
    "      width_shift_range=0.2,\n",
    "      height_shift_range=0.2,\n",
    "      shear_range=0.2,\n",
    "      zoom_range=0.2,\n",
    "      horizontal_flip=True,\n",
    "      fill_mode='nearest')\n",
    "\n",
    "test_datagen = ImageDataGenerator(rescale=1./255)\n",
    "\n",
    "# Flow training images in batches of 20 using train_datagen generator\n",
    "train_generator = train_datagen.flow_from_directory(\n",
    "        train_dir,  # This is the source directory for training images\n",
    "        target_size=(150, 150),  # All images will be resized to 150x150\n",
    "        batch_size=20,\n",
    "        # Since we use binary_crossentropy loss, we need binary labels\n",
    "        class_mode='binary')\n",
    "\n",
    "# Flow validation images in batches of 20 using test_datagen generator\n",
    "validation_generator = test_datagen.flow_from_directory(\n",
    "        validation_dir,\n",
    "        target_size=(150, 150),\n",
    "        batch_size=20,\n",
    "        class_mode='binary')\n",
    "\n",
    "# Train the new model\n",
    "history_with_aug = model_for_aug.fit(\n",
    "      train_generator,\n",
    "      steps_per_epoch=100,  # 2000 images = batch_size * steps\n",
    "      epochs=EPOCHS,\n",
    "      validation_data=validation_generator,\n",
    "      validation_steps=50,  # 1000 images = batch_size * steps\n",
    "      verbose=2)"
   ]
  },
  {
   "cell_type": "code",
   "execution_count": 11,
   "metadata": {
    "id": "bnyRnwopT5aW"
   },
   "outputs": [
    {
     "data": {
      "image/png": "[encoded data removed]",
      "text/plain": [
       "<Figure size 432x288 with 1 Axes>"
      ]
     },
     "metadata": {
      "needs_background": "light"
     },
     "output_type": "display_data"
    },
    {
     "data": {
      "image/png": "[encoded data removed]",
      "text/plain": [
       "<Figure size 432x288 with 1 Axes>"
      ]
     },
     "metadata": {
      "needs_background": "light"
     },
     "output_type": "display_data"
    }
   ],
   "source": [
    "# Plot the results of training with data augmentation\n",
    "plot_loss_acc(history_with_aug)"
   ]
  },
  {
   "cell_type": "markdown",
   "metadata": {
    "id": "1D1hd5fqmJUx"
   },
   "source": [
    "As you can see, the training accuracy has gone down compared to the baseline. This is expected because (as a result of data augmentation) there are more variety in the images so the model will need more runs to learn from them. The good thing is the validation accuracy is no longer stalling and is more in line with the training results. This means that the model is now performing better on unseen data. \n",
    "\n",
    "\n"
   ]
  },
  {
   "cell_type": "markdown",
   "metadata": {
    "id": "z4B9b6GPnKg1"
   },
   "source": [
    "## Wrap Up\n",
    "\n",
    "This exercise showed a simple trick to avoid overfitting. You can improve your baseline results by simply tweaking the same images you have already. The `ImageDataGenerator` class has built-in parameters to do just that. Try to modify the values some more in the `train_datagen` and see what results you get.\n",
    "\n",
    "Take note that this will not work for all cases. In the next lesson, Laurence will show a scenario where data augmentation will not help improve your validation accuracy."
   ]
  }
 ],
 "metadata": {
  "accelerator": "GPU",
  "colab": {
   "collapsed_sections": [],
   "name": "C2_W2_Lab_1_cats_v_dogs_augmentation.ipynb",
   "private_outputs": true,
   "provenance": []
  },
  "kernelspec": {
   "display_name": "Python 3 (ipykernel)",
   "language": "python",
   "name": "python3"
  },
  "language_info": {
   "codemirror_mode": {
    "name": "ipython",
    "version": 3
   },
   "file_extension": ".py",
   "mimetype": "text/x-python",
   "name": "python",
   "nbconvert_exporter": "python",
   "pygments_lexer": "ipython3",
   "version": "3.7.11"
  }
 },
 "nbformat": 4,
 "nbformat_minor": 1
}
