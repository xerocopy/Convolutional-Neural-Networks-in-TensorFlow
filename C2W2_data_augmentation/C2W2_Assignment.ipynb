{
  "cells": [
    {
      "cell_type": "markdown",
      "metadata": {
        "id": "AuW-xg_bTsaF"
      },
      "source": [
        "# Week 2: Tackle Overfitting with Data Augmentation\n",
        "\n",
        "Welcome to this assignment! As in the previous week, you will be using the famous `cats vs dogs` dataset to train a model that can classify images of dogs from images of cats. For this, you will create your own Convolutional Neural Network in Tensorflow and leverage Keras' image preprocessing utilities, more so this time around since Keras provides excellent support for augmenting image data.\n",
        "\n",
        "You will also need to create the helper functions to move the images around the filesystem as you did last week, so if you need to refresh your memory with the `os` module be sure to take a look a the [docs](https://docs.python.org/3/library/os.html).\n",
        "\n",
        "Let's get started!"
      ]
    },
    {
      "cell_type": "code",
      "execution_count": 2,
      "metadata": {
        "id": "dn-6c02VmqiN"
      },
      "outputs": [],
      "source": [
        "import os\n",
        "import zipfile\n",
        "import random\n",
        "import shutil\n",
        "import tensorflow as tf\n",
        "from tensorflow.keras.preprocessing.image import ImageDataGenerator\n",
        "from shutil import copyfile\n",
        "import matplotlib.pyplot as plt"
      ]
    },
    {
      "cell_type": "markdown",
      "metadata": {
        "id": "bLTQd84RUs1j"
      },
      "source": [
        "Download the dataset from its original source by running the cell below. \n",
        "\n",
        "Note that the `zip` file that contains the images is unzipped under the `/tmp` directory."
      ]
    },
    {
      "cell_type": "code",
      "execution_count": 3,
      "metadata": {
        "id": "3sd9dQWa23aj",
        "lines_to_next_cell": 2,
        "colab": {
          "base_uri": "https://localhost:8080/"
        },
        "outputId": "d5b9eb99-eaf5-4040-d7ff-8749480b0dbd"
      },
      "outputs": [
        {
          "output_type": "stream",
          "name": "stdout",
          "text": [
            "--2022-02-25 22:08:13--  https://download.microsoft.com/download/3/E/1/3E1C3F21-ECDB-4869-8368-6DEBA77B919F/kagglecatsanddogs_3367a.zip\n",
            "Resolving download.microsoft.com (download.microsoft.com)... 23.219.32.233, 2600:1417:76:2aa::e59, 2600:1417:76:293::e59\n",
            "Connecting to download.microsoft.com (download.microsoft.com)|23.219.32.233|:443... connected.\n",
            "HTTP request sent, awaiting response... 200 OK\n",
            "Length: 824894548 (787M) [application/octet-stream]\n",
            "Saving to: ‘/tmp/cats-and-dogs.zip’\n",
            "\n",
            "/tmp/cats-and-dogs. 100%[===================>] 786.68M   117MB/s    in 6.5s    \n",
            "\n",
            "2022-02-25 22:08:20 (121 MB/s) - ‘/tmp/cats-and-dogs.zip’ saved [824894548/824894548]\n",
            "\n"
          ]
        }
      ],
      "source": [
        "# If the URL doesn't work, visit https://www.microsoft.com/en-us/download/confirmation.aspx?id=54765\n",
        "# And right click on the 'Download Manually' link to get a new URL to the dataset\n",
        "\n",
        "# Note: This is a very large dataset and will take some time to download\n",
        "\n",
        "!wget --no-check-certificate \\\n",
        "    \"https://download.microsoft.com/download/3/E/1/3E1C3F21-ECDB-4869-8368-6DEBA77B919F/kagglecatsanddogs_3367a.zip\" \\\n",
        "    -O \"/tmp/cats-and-dogs.zip\"\n",
        "\n",
        "local_zip = '/tmp/cats-and-dogs.zip'\n",
        "zip_ref   = zipfile.ZipFile(local_zip, 'r')\n",
        "zip_ref.extractall('/tmp')\n",
        "zip_ref.close()"
      ]
    },
    {
      "cell_type": "markdown",
      "metadata": {
        "id": "e_HsUV9WVJHL"
      },
      "source": [
        "Now the images are stored within the `/tmp/PetImages` directory. There is a subdirectory for each class, so one for dogs and one for cats."
      ]
    },
    {
      "cell_type": "code",
      "execution_count": 4,
      "metadata": {
        "id": "DM851ZmN28J3",
        "colab": {
          "base_uri": "https://localhost:8080/"
        },
        "outputId": "2c0c2842-017d-4b98-aea9-60dadb440741"
      },
      "outputs": [
        {
          "output_type": "stream",
          "name": "stdout",
          "text": [
            "There are 12501 images of dogs.\n",
            "There are 12501 images of cats.\n"
          ]
        }
      ],
      "source": [
        "source_path = '/tmp/PetImages'\n",
        "\n",
        "source_path_dogs = os.path.join(source_path, 'Dog')\n",
        "source_path_cats = os.path.join(source_path, 'Cat')\n",
        "\n",
        "\n",
        "# os.listdir returns a list containing all files under the given path\n",
        "print(f\"There are {len(os.listdir(source_path_dogs))} images of dogs.\")\n",
        "print(f\"There are {len(os.listdir(source_path_cats))} images of cats.\")"
      ]
    },
    {
      "cell_type": "markdown",
      "metadata": {
        "id": "G7dI86rmRGmC"
      },
      "source": [
        "**Expected Output:**\n",
        "\n",
        "```\n",
        "There are 12501 images of dogs.\n",
        "There are 12501 images of cats.\n",
        "```"
      ]
    },
    {
      "cell_type": "markdown",
      "metadata": {
        "id": "iFbMliudNIjW"
      },
      "source": [
        "You will need a directory for cats-v-dogs, and subdirectories for training\n",
        "and testing. These in turn will need subdirectories for 'cats' and 'dogs'. To accomplish this, complete the `create_train_test_dirs` below:"
      ]
    },
    {
      "cell_type": "code",
      "execution_count": 5,
      "metadata": {
        "cellView": "code",
        "id": "F-QkLjxpmyK2",
        "colab": {
          "base_uri": "https://localhost:8080/"
        },
        "outputId": "1d2d7b88-b395-4174-8c37-a03b524c54f5"
      },
      "outputs": [
        {
          "output_type": "stream",
          "name": "stdout",
          "text": [
            "/tmp/cats-v-dogs/training\n",
            "/tmp/cats-v-dogs/training/cats\n",
            "/tmp/cats-v-dogs/training/dogs\n",
            "/tmp/cats-v-dogs/testing\n",
            "/tmp/cats-v-dogs/testing/cats\n",
            "/tmp/cats-v-dogs/testing/dogs\n"
          ]
        }
      ],
      "source": [
        "# Define root directory\n",
        "root_dir = '/tmp/cats-v-dogs'\n",
        "\n",
        "# Empty directory to prevent FileExistsError is the function is run several times\n",
        "if os.path.exists(root_dir):\n",
        "  shutil.rmtree(root_dir)\n",
        "\n",
        "# GRADED FUNCTION: create_train_test_dirs\n",
        "def create_train_test_dirs(root_path):\n",
        "  ### START CODE HERE\n",
        "\n",
        "  # HINT:\n",
        "  # Use os.makedirs to create your directories with intermediate subdirectories\n",
        "  # Don't hardcode the paths. Use os.path.join to append the new directories to the root_path parameter\n",
        "  os.makedirs(root_dir)\n",
        "  \n",
        "  dir = os.path.join(root_dir, 'training')\n",
        "  os.makedirs(dir)\n",
        "  print(dir)\n",
        "  subdir = os.path.join(dir, 'cats')\n",
        "  os.makedirs(subdir)\n",
        "  print(subdir)\n",
        "  subdir = os.path.join(dir, 'dogs')\n",
        "  os.makedirs(subdir)\n",
        "  print(subdir)\n",
        "\n",
        "  dir = os.path.join(root_dir, 'testing')\n",
        "  os.makedirs(dir)\n",
        "  print(dir)\n",
        "  subdir = os.path.join(dir, 'cats')\n",
        "  os.makedirs(subdir)\n",
        "  print(subdir)\n",
        "  subdir = os.path.join(dir, 'dogs')\n",
        "  os.makedirs(subdir)\n",
        "  print(subdir)\n",
        "\n",
        "  pass\n",
        "  \n",
        "  ### END CODE HERE\n",
        "\n",
        "  \n",
        "try:\n",
        "  create_train_test_dirs(root_path=root_dir)\n",
        "except FileExistsError:\n",
        "  print(\"You should not be seeing this since the upper directory is removed beforehand\")"
      ]
    },
    {
      "cell_type": "code",
      "execution_count": 6,
      "metadata": {
        "id": "5dhtL344OK00",
        "colab": {
          "base_uri": "https://localhost:8080/"
        },
        "outputId": "01873c03-cf58-4c68-e8c1-aa7612465a82"
      },
      "outputs": [
        {
          "output_type": "stream",
          "name": "stdout",
          "text": [
            "/tmp/cats-v-dogs/testing\n",
            "/tmp/cats-v-dogs/training\n",
            "/tmp/cats-v-dogs/testing/cats\n",
            "/tmp/cats-v-dogs/testing/dogs\n",
            "/tmp/cats-v-dogs/training/cats\n",
            "/tmp/cats-v-dogs/training/dogs\n"
          ]
        }
      ],
      "source": [
        "# Test your create_train_test_dirs function\n",
        "\n",
        "for rootdir, dirs, files in os.walk(root_dir):\n",
        "  # print(rootdir)\n",
        "  # print(dirs)\n",
        "  # print(files)\n",
        "  for subdir in dirs:\n",
        "      #print(subdir)\n",
        "      print(os.path.join(rootdir, subdir))"
      ]
    },
    {
      "cell_type": "markdown",
      "metadata": {
        "id": "D7A0RK3IQsvg"
      },
      "source": [
        "**Expected Output (directory order might vary):**\n",
        "\n",
        "``` txt\n",
        "/tmp/cats-v-dogs/training\n",
        "/tmp/cats-v-dogs/testing\n",
        "/tmp/cats-v-dogs/training/cats\n",
        "/tmp/cats-v-dogs/training/dogs\n",
        "/tmp/cats-v-dogs/testing/cats\n",
        "/tmp/cats-v-dogs/testing/dogs\n",
        "\n",
        "```"
      ]
    },
    {
      "cell_type": "markdown",
      "metadata": {
        "id": "R93T7HdE5txZ"
      },
      "source": [
        "Code the `split_data` function which takes in the following arguments:\n",
        "- SOURCE: directory containing the files\n",
        "\n",
        "- TRAINING: directory that a portion of the files will be copied to (will be used for training)\n",
        "- TESTING: directory that a portion of the files will be copied to (will be used for testing)\n",
        "- SPLIT SIZE: to determine the portion\n",
        "\n",
        "The files should be randomized, so that the training set is a random sample of the files, and the test set is made up of the remaining files.\n",
        "\n",
        "For example, if `SOURCE` is `PetImages/Cat`, and `SPLIT` SIZE is .9 then 90% of the images in `PetImages/Cat` will be copied to the `TRAINING` dir\n",
        "and 10% of the images will be copied to the `TESTING` dir.\n",
        "\n",
        "All images should be checked before the copy, so if they have a zero file length, they will be omitted from the copying process. If this is the case then your function should print out a message such as `\"filename is zero length, so ignoring.\"`. **You should perform this check before the split so that only non-zero images are considered when doing the actual split.**\n",
        "\n",
        "\n",
        "Hints:\n",
        "\n",
        "- `os.listdir(DIRECTORY)` returns a list with the contents of that directory.\n",
        "\n",
        "- `os.path.getsize(PATH)` returns the size of the file\n",
        "\n",
        "- `copyfile(source, destination)` copies a file from source to destination\n",
        "\n",
        "- `random.sample(list, len(list))` shuffles a list"
      ]
    },
    {
      "cell_type": "code",
      "execution_count": 7,
      "metadata": {
        "cellView": "code",
        "id": "zvSODo0f9LaU"
      },
      "outputs": [],
      "source": [
        "# GRADED FUNCTION: split_data\n",
        "def split_data(SOURCE, TRAINING, TESTING, SPLIT_SIZE):\n",
        "\n",
        "  ### START CODE HERE\n",
        "  file_names = os.listdir(SOURCE)\n",
        "  valid_files = []\n",
        "  # numbers = os.path.getsize(SOURCE)\n",
        "  for name in file_names:\n",
        "    if os.path.getsize(SOURCE + name):\n",
        "      valid_files.append(name)\n",
        "    else:\n",
        "      print(\"{} is zero length, so ignoring.\".format(name))\n",
        "  \n",
        "  valid_files = random.sample(valid_files, len(valid_files))\n",
        "  split_point = int(len(valid_files)* SPLIT_SIZE)\n",
        "  \n",
        "\n",
        "  for file in valid_files[:split_point]: \n",
        "    source = os.path.join(SOURCE, file)\n",
        "    destination = os.path.join(TRAINING, file)\n",
        "    #print(\"source: \", source, \"destination: \", destination)\n",
        "    copyfile(source, destination)\n",
        "\n",
        "  for file in valid_files[split_point:]: \n",
        "    source = SOURCE + file\n",
        "    destination =TESTING + file\n",
        "    copyfile(source, destination)\n",
        "\n",
        "  pass\n",
        "\n",
        "  ### END CODE HERE\n"
      ]
    },
    {
      "cell_type": "code",
      "execution_count": 8,
      "metadata": {
        "id": "FlIdoUeX9S-9",
        "colab": {
          "base_uri": "https://localhost:8080/"
        },
        "outputId": "003c60b1-192f-474b-9ac9-81335ed9e358"
      },
      "outputs": [
        {
          "output_type": "stream",
          "name": "stdout",
          "text": [
            "666.jpg is zero length, so ignoring.\n",
            "11702.jpg is zero length, so ignoring.\n",
            "\n",
            "\n",
            "There are 11250 images of cats for training\n",
            "There are 11250 images of dogs for training\n",
            "There are 1250 images of cats for testing\n",
            "There are 1250 images of dogs for testing\n"
          ]
        }
      ],
      "source": [
        "# Test your split_data function\n",
        "\n",
        "# Define paths\n",
        "CAT_SOURCE_DIR = \"/tmp/PetImages/Cat/\"\n",
        "DOG_SOURCE_DIR = \"/tmp/PetImages/Dog/\"\n",
        "\n",
        "TRAINING_DIR = \"/tmp/cats-v-dogs/training/\"\n",
        "TESTING_DIR = \"/tmp/cats-v-dogs/testing/\"\n",
        "\n",
        "TRAINING_CATS_DIR = os.path.join(TRAINING_DIR, \"cats/\")\n",
        "TESTING_CATS_DIR = os.path.join(TESTING_DIR, \"cats/\")\n",
        "\n",
        "TRAINING_DOGS_DIR = os.path.join(TRAINING_DIR, \"dogs/\")\n",
        "TESTING_DOGS_DIR = os.path.join(TESTING_DIR, \"dogs/\")\n",
        "\n",
        "# Empty directories in case you run this cell multiple times\n",
        "if len(os.listdir(TRAINING_CATS_DIR)) > 0:\n",
        "  for file in os.scandir(TRAINING_CATS_DIR):\n",
        "    os.remove(file.path)\n",
        "if len(os.listdir(TRAINING_DOGS_DIR)) > 0:\n",
        "  for file in os.scandir(TRAINING_DOGS_DIR):\n",
        "    os.remove(file.path)\n",
        "if len(os.listdir(TESTING_CATS_DIR)) > 0:\n",
        "  for file in os.scandir(TESTING_CATS_DIR):\n",
        "    os.remove(file.path)\n",
        "if len(os.listdir(TESTING_DOGS_DIR)) > 0:\n",
        "  for file in os.scandir(TESTING_DOGS_DIR):\n",
        "    os.remove(file.path)\n",
        "\n",
        "# Define proportion of images used for training\n",
        "split_size = .9\n",
        "\n",
        "# Run the function\n",
        "# NOTE: Messages about zero length images should be printed out\n",
        "split_data(CAT_SOURCE_DIR, TRAINING_CATS_DIR, TESTING_CATS_DIR, split_size)\n",
        "split_data(DOG_SOURCE_DIR, TRAINING_DOGS_DIR, TESTING_DOGS_DIR, split_size)\n",
        "\n",
        "# Check that the number of images matches the expected output\n",
        "print(f\"\\n\\nThere are {len(os.listdir(TRAINING_CATS_DIR))} images of cats for training\")\n",
        "print(f\"There are {len(os.listdir(TRAINING_DOGS_DIR))} images of dogs for training\")\n",
        "print(f\"There are {len(os.listdir(TESTING_CATS_DIR))} images of cats for testing\")\n",
        "print(f\"There are {len(os.listdir(TESTING_DOGS_DIR))} images of dogs for testing\")"
      ]
    },
    {
      "cell_type": "markdown",
      "metadata": {
        "id": "hvskJNOFVSaz"
      },
      "source": [
        "**Expected Output:**\n",
        "\n",
        "```\n",
        "666.jpg is zero length, so ignoring.\n",
        "11702.jpg is zero length, so ignoring.\n",
        "```\n",
        "\n",
        "```\n",
        "There are 11250 images of cats for training\n",
        "There are 11250 images of dogs for training\n",
        "There are 1250 images of cats for testing\n",
        "There are 1250 images of dogs for testing\n",
        "```"
      ]
    },
    {
      "cell_type": "markdown",
      "metadata": {
        "id": "Zil4QmOD_mXF"
      },
      "source": [
        "Now that you have successfully organized the data in a way that can be easily fed to Keras' `ImageDataGenerator`, it is time for you to code the generators that will yield batches of images, both for training and validation. For this, complete the `train_val_generators` function below.\n",
        "\n",
        "Something important to note is that the images in this dataset come in a variety of resolutions. Luckily, the `flow_from_directory` method allows you to standarize this by defining a tuple called `target_size` that will be used to convert each image to this target resolution. **For this exercise use a `target_size` of (150, 150)**.\n",
        "\n",
        "**Note:** So far, you have seen the term `testing` being used a lot for referring to a subset of images within the dataset. In this exercise, all of the `testing` data is actually being used as `validation` data. This is not very important within the context of the task at hand but it is worth mentioning to avoid confusion."
      ]
    },
    {
      "cell_type": "code",
      "execution_count": 9,
      "metadata": {
        "cellView": "code",
        "id": "fQrZfVgz4j2g"
      },
      "outputs": [],
      "source": [
        "# GRADED FUNCTION: train_val_generators\n",
        "def train_val_generators(TRAINING_DIR, VALIDATION_DIR):\n",
        "  ### START CODE HERE\n",
        "\n",
        "  # Instantiate the ImageDataGenerator class (don't forget to set the arguments to augment the images)\n",
        "  train_datagen = ImageDataGenerator(rescale=1./255,\n",
        "                                     rotation_range=20,\n",
        "                                     width_shift_range=0.2,\n",
        "                                     height_shift_range=0.2,\n",
        "                                     shear_range=20,\n",
        "                                     zoom_range=0.2,\n",
        "                                     horizontal_flip=True,\n",
        "                                     fill_mode='nearest')\n",
        "\n",
        "  # Pass in the appropriate arguments to the flow_from_directory method\n",
        "  train_generator = train_datagen.flow_from_directory(directory=TRAINING_DIR,\n",
        "                                                      batch_size=20,\n",
        "                                                      class_mode='binary',\n",
        "                                                      target_size=(150, 150))\n",
        "\n",
        "  # Instantiate the ImageDataGenerator class (don't forget to set the rescale argument)\n",
        "  validation_datagen = ImageDataGenerator(rescale=1./255,\n",
        "                                     rotation_range=20,\n",
        "                                     width_shift_range=0.2,\n",
        "                                     height_shift_range=0.2,\n",
        "                                     shear_range=20,\n",
        "                                     zoom_range=0.2,\n",
        "                                     horizontal_flip=True,\n",
        "                                     fill_mode='nearest')\n",
        "\n",
        "  # Pass in the appropriate arguments to the flow_from_directory method\n",
        "  validation_generator = validation_datagen.flow_from_directory(directory=VALIDATION_DIR,\n",
        "                                                      batch_size=20,\n",
        "                                                      class_mode='binary',\n",
        "                                                      target_size=(150, 150))\n",
        "  ### END CODE HERE\n",
        "  return train_generator, validation_generator\n"
      ]
    },
    {
      "cell_type": "code",
      "execution_count": 10,
      "metadata": {
        "id": "qM7FxrjGiobD",
        "colab": {
          "base_uri": "https://localhost:8080/"
        },
        "outputId": "88c4e15b-8704-4013-dc03-11695ce018fd"
      },
      "outputs": [
        {
          "output_type": "stream",
          "name": "stdout",
          "text": [
            "Found 22498 images belonging to 2 classes.\n",
            "Found 2500 images belonging to 2 classes.\n"
          ]
        }
      ],
      "source": [
        "# Test your generators\n",
        "train_generator, validation_generator = train_val_generators(TRAINING_DIR, TESTING_DIR)"
      ]
    },
    {
      "cell_type": "markdown",
      "metadata": {
        "id": "tiPNmSfZjHwJ"
      },
      "source": [
        "**Expected Output:**\n",
        "\n",
        "```\n",
        "Found 22498 images belonging to 2 classes.\n",
        "Found 2500 images belonging to 2 classes.\n",
        "```\n"
      ]
    },
    {
      "cell_type": "markdown",
      "metadata": {
        "id": "TI3oEmyQCZoO"
      },
      "source": [
        "One last step before training is to define the architecture of the model that will be trained.\n",
        "\n",
        "Complete the `create_model` function below which should return a Keras' `Sequential` model.\n",
        "\n",
        "Aside from defining the architecture of the model, you should also compile it so make sure to use a `loss` function that is compatible with the `class_mode` you defined in the previous exercise, which should also be compatible with the output of your network. You can tell if they aren't compatible if you get an error during training.\n",
        "\n",
        "**Note that you should use at least 3 convolution layers to achieve the desired performance.**"
      ]
    },
    {
      "cell_type": "code",
      "execution_count": 11,
      "metadata": {
        "cellView": "code",
        "id": "oDPK8tUB_O9e",
        "lines_to_next_cell": 2
      },
      "outputs": [],
      "source": [
        "# GRADED FUNCTION: create_model\n",
        "def create_model():\n",
        "  # DEFINE A KERAS MODEL TO CLASSIFY CATS V DOGS\n",
        "  # USE AT LEAST 3 CONVOLUTION LAYERS\n",
        "\n",
        "  ### START CODE HERE\n",
        "\n",
        "  model = tf.keras.models.Sequential([ \n",
        "      tf.keras.layers.Conv2D(32, (3, 3), padding = 'same', activation = 'relu', input_shape= (150, 150, 3)),\n",
        "      tf.keras.layers.MaxPooling2D(2,2),\n",
        "      tf.keras.layers.Conv2D(64, (3, 3), padding = 'same', activation = 'relu'),\n",
        "      tf.keras.layers.MaxPooling2D(2,2),\n",
        "      tf.keras.layers.Conv2D(128, (3, 3), padding = 'same', activation = 'relu'),\n",
        "      tf.keras.layers.MaxPooling2D(2,2),\n",
        "      tf.keras.layers.Flatten(),\n",
        "      tf.keras.layers.Dense(512, activation = 'relu'),\n",
        "      tf.keras.layers.Dense(1, activation = 'sigmoid')\n",
        "      \n",
        "  ])\n",
        "\n",
        "  \n",
        "  model.compile(optimizer='adam',\n",
        "                loss='binary_crossentropy',\n",
        "                metrics=['accuracy']) \n",
        "    \n",
        "  ### END CODE HERE\n",
        "\n",
        "  return model\n"
      ]
    },
    {
      "cell_type": "markdown",
      "metadata": {
        "id": "SMFNJZmTCZv6"
      },
      "source": [
        "Now it is time to train your model!\n",
        "\n",
        "Note: You can ignore the `UserWarning: Possibly corrupt EXIF data.` warnings."
      ]
    },
    {
      "cell_type": "code",
      "execution_count": 12,
      "metadata": {
        "id": "5qE1G6JB4fMn",
        "colab": {
          "base_uri": "https://localhost:8080/"
        },
        "outputId": "92296ac7-8508-443c-c995-fe9e1a743069"
      },
      "outputs": [
        {
          "output_type": "stream",
          "name": "stdout",
          "text": [
            "Epoch 1/100\n",
            "100/100 [==============================] - ETA: 0s - loss: 0.7487 - accuracy: 0.5225"
          ]
        },
        {
          "output_type": "stream",
          "name": "stderr",
          "text": [
            "/usr/local/lib/python3.7/dist-packages/PIL/TiffImagePlugin.py:770: UserWarning: Possibly corrupt EXIF data.  Expecting to read 32 bytes but only got 0. Skipping tag 270\n",
            "  \" Skipping tag %s\" % (size, len(data), tag)\n",
            "/usr/local/lib/python3.7/dist-packages/PIL/TiffImagePlugin.py:770: UserWarning: Possibly corrupt EXIF data.  Expecting to read 5 bytes but only got 0. Skipping tag 271\n",
            "  \" Skipping tag %s\" % (size, len(data), tag)\n",
            "/usr/local/lib/python3.7/dist-packages/PIL/TiffImagePlugin.py:770: UserWarning: Possibly corrupt EXIF data.  Expecting to read 8 bytes but only got 0. Skipping tag 272\n",
            "  \" Skipping tag %s\" % (size, len(data), tag)\n",
            "/usr/local/lib/python3.7/dist-packages/PIL/TiffImagePlugin.py:770: UserWarning: Possibly corrupt EXIF data.  Expecting to read 8 bytes but only got 0. Skipping tag 282\n",
            "  \" Skipping tag %s\" % (size, len(data), tag)\n",
            "/usr/local/lib/python3.7/dist-packages/PIL/TiffImagePlugin.py:770: UserWarning: Possibly corrupt EXIF data.  Expecting to read 8 bytes but only got 0. Skipping tag 283\n",
            "  \" Skipping tag %s\" % (size, len(data), tag)\n",
            "/usr/local/lib/python3.7/dist-packages/PIL/TiffImagePlugin.py:770: UserWarning: Possibly corrupt EXIF data.  Expecting to read 20 bytes but only got 0. Skipping tag 306\n",
            "  \" Skipping tag %s\" % (size, len(data), tag)\n",
            "/usr/local/lib/python3.7/dist-packages/PIL/TiffImagePlugin.py:770: UserWarning: Possibly corrupt EXIF data.  Expecting to read 48 bytes but only got 0. Skipping tag 532\n",
            "  \" Skipping tag %s\" % (size, len(data), tag)\n",
            "/usr/local/lib/python3.7/dist-packages/PIL/TiffImagePlugin.py:788: UserWarning: Corrupt EXIF data.  Expecting to read 2 bytes but only got 0. \n",
            "  warnings.warn(str(msg))\n"
          ]
        },
        {
          "output_type": "stream",
          "name": "stdout",
          "text": [
            "\b\b\b\b\b\b\b\b\b\b\b\b\b\b\b\b\b\b\b\b\b\b\b\b\b\b\b\b\b\b\b\b\b\b\b\b\b\b\b\b\b\b\b\b\b\b\b\b\b\b\b\b\b\b\b\b\b\b\b\b\b\b\b\b\b\b\b\b\b\b\b\b\b\b\b\b\b\b\b\b\b\b\b\b\r100/100 [==============================] - 139s 1s/step - loss: 0.7487 - accuracy: 0.5225 - val_loss: 0.6868 - val_accuracy: 0.5320\n",
            "Epoch 2/100\n",
            "100/100 [==============================] - 137s 1s/step - loss: 0.6885 - accuracy: 0.5280 - val_loss: 0.6862 - val_accuracy: 0.5270\n",
            "Epoch 3/100\n",
            "100/100 [==============================] - 137s 1s/step - loss: 0.6874 - accuracy: 0.5535 - val_loss: 0.6888 - val_accuracy: 0.5480\n",
            "Epoch 4/100\n",
            "100/100 [==============================] - 137s 1s/step - loss: 0.6783 - accuracy: 0.5775 - val_loss: 0.6616 - val_accuracy: 0.6150\n",
            "Epoch 5/100\n",
            "100/100 [==============================] - 136s 1s/step - loss: 0.6771 - accuracy: 0.5940 - val_loss: 0.6787 - val_accuracy: 0.5860\n",
            "Epoch 6/100\n",
            "100/100 [==============================] - 136s 1s/step - loss: 0.6688 - accuracy: 0.6090 - val_loss: 0.6667 - val_accuracy: 0.6030\n",
            "Epoch 7/100\n",
            "100/100 [==============================] - 136s 1s/step - loss: 0.6419 - accuracy: 0.6236 - val_loss: 0.6347 - val_accuracy: 0.6440\n",
            "Epoch 8/100\n",
            "100/100 [==============================] - 139s 1s/step - loss: 0.6425 - accuracy: 0.6325 - val_loss: 0.6583 - val_accuracy: 0.6150\n",
            "Epoch 9/100\n",
            "100/100 [==============================] - 137s 1s/step - loss: 0.6300 - accuracy: 0.6465 - val_loss: 0.6129 - val_accuracy: 0.6470\n",
            "Epoch 10/100\n",
            "100/100 [==============================] - 140s 1s/step - loss: 0.6032 - accuracy: 0.6615 - val_loss: 0.6226 - val_accuracy: 0.6610\n",
            "Epoch 11/100\n",
            "100/100 [==============================] - 145s 1s/step - loss: 0.6110 - accuracy: 0.6682 - val_loss: 0.6371 - val_accuracy: 0.6300\n",
            "Epoch 12/100\n",
            "100/100 [==============================] - 139s 1s/step - loss: 0.6148 - accuracy: 0.6615 - val_loss: 0.5863 - val_accuracy: 0.6880\n",
            "Epoch 13/100\n",
            "100/100 [==============================] - 136s 1s/step - loss: 0.5970 - accuracy: 0.6820 - val_loss: 0.5917 - val_accuracy: 0.6840\n",
            "Epoch 14/100\n",
            "100/100 [==============================] - 138s 1s/step - loss: 0.6075 - accuracy: 0.6675 - val_loss: 0.6291 - val_accuracy: 0.6560\n",
            "Epoch 15/100\n",
            "100/100 [==============================] - 138s 1s/step - loss: 0.5948 - accuracy: 0.6680 - val_loss: 0.5842 - val_accuracy: 0.7040\n",
            "Epoch 16/100\n",
            "100/100 [==============================] - 136s 1s/step - loss: 0.5845 - accuracy: 0.6860 - val_loss: 0.6353 - val_accuracy: 0.6410\n",
            "Epoch 17/100\n",
            "100/100 [==============================] - 138s 1s/step - loss: 0.5808 - accuracy: 0.6890 - val_loss: 0.5682 - val_accuracy: 0.6870\n",
            "Epoch 18/100\n",
            "100/100 [==============================] - 138s 1s/step - loss: 0.5720 - accuracy: 0.7120 - val_loss: 0.5851 - val_accuracy: 0.6820\n",
            "Epoch 19/100\n",
            "100/100 [==============================] - 136s 1s/step - loss: 0.5791 - accuracy: 0.6810 - val_loss: 0.5689 - val_accuracy: 0.6910\n",
            "Epoch 20/100\n",
            "100/100 [==============================] - 141s 1s/step - loss: 0.5426 - accuracy: 0.7285 - val_loss: 0.5787 - val_accuracy: 0.7060\n",
            "Epoch 21/100\n",
            "100/100 [==============================] - 137s 1s/step - loss: 0.5533 - accuracy: 0.7125 - val_loss: 0.5396 - val_accuracy: 0.7340\n",
            "Epoch 22/100\n",
            "100/100 [==============================] - 140s 1s/step - loss: 0.5548 - accuracy: 0.7200 - val_loss: 0.5666 - val_accuracy: 0.7020\n",
            "Epoch 23/100\n",
            "100/100 [==============================] - 137s 1s/step - loss: 0.5467 - accuracy: 0.7250 - val_loss: 0.5554 - val_accuracy: 0.7140\n",
            "Epoch 24/100\n",
            "100/100 [==============================] - 138s 1s/step - loss: 0.5380 - accuracy: 0.7365 - val_loss: 0.5327 - val_accuracy: 0.7340\n",
            "Epoch 25/100\n",
            "100/100 [==============================] - 136s 1s/step - loss: 0.5339 - accuracy: 0.7255 - val_loss: 0.5394 - val_accuracy: 0.7250\n",
            "Epoch 26/100\n",
            "100/100 [==============================] - 136s 1s/step - loss: 0.5372 - accuracy: 0.7285 - val_loss: 0.5561 - val_accuracy: 0.7210\n",
            "Epoch 27/100\n",
            "100/100 [==============================] - 136s 1s/step - loss: 0.5250 - accuracy: 0.7435 - val_loss: 0.5370 - val_accuracy: 0.7130\n",
            "Epoch 28/100\n",
            "100/100 [==============================] - 143s 1s/step - loss: 0.5444 - accuracy: 0.7255 - val_loss: 0.5450 - val_accuracy: 0.7300\n",
            "Epoch 29/100\n",
            "100/100 [==============================] - 138s 1s/step - loss: 0.5405 - accuracy: 0.7275 - val_loss: 0.5372 - val_accuracy: 0.7320\n",
            "Epoch 30/100\n",
            "100/100 [==============================] - 136s 1s/step - loss: 0.5490 - accuracy: 0.7230 - val_loss: 0.5280 - val_accuracy: 0.7360\n",
            "Epoch 31/100\n",
            "100/100 [==============================] - 138s 1s/step - loss: 0.5364 - accuracy: 0.7310 - val_loss: 0.5103 - val_accuracy: 0.7420\n",
            "Epoch 32/100\n",
            "100/100 [==============================] - 137s 1s/step - loss: 0.5119 - accuracy: 0.7510 - val_loss: 0.5305 - val_accuracy: 0.7440\n",
            "Epoch 33/100\n",
            "100/100 [==============================] - 135s 1s/step - loss: 0.5264 - accuracy: 0.7280 - val_loss: 0.5045 - val_accuracy: 0.7420\n",
            "Epoch 34/100\n",
            "100/100 [==============================] - 136s 1s/step - loss: 0.5263 - accuracy: 0.7377 - val_loss: 0.5014 - val_accuracy: 0.7420\n",
            "Epoch 35/100\n",
            "100/100 [==============================] - 138s 1s/step - loss: 0.5019 - accuracy: 0.7460 - val_loss: 0.4922 - val_accuracy: 0.7700\n",
            "Epoch 36/100\n",
            "100/100 [==============================] - 139s 1s/step - loss: 0.5074 - accuracy: 0.7550 - val_loss: 0.5046 - val_accuracy: 0.7640\n",
            "Epoch 37/100\n",
            "100/100 [==============================] - 138s 1s/step - loss: 0.5125 - accuracy: 0.7485 - val_loss: 0.5627 - val_accuracy: 0.7170\n",
            "Epoch 38/100\n",
            "100/100 [==============================] - 138s 1s/step - loss: 0.5056 - accuracy: 0.7525 - val_loss: 0.5040 - val_accuracy: 0.7430\n",
            "Epoch 39/100\n",
            "100/100 [==============================] - 137s 1s/step - loss: 0.4999 - accuracy: 0.7710 - val_loss: 0.4760 - val_accuracy: 0.7730\n",
            "Epoch 40/100\n",
            "100/100 [==============================] - 138s 1s/step - loss: 0.5014 - accuracy: 0.7590 - val_loss: 0.4961 - val_accuracy: 0.7680\n",
            "Epoch 41/100\n",
            "100/100 [==============================] - 138s 1s/step - loss: 0.4803 - accuracy: 0.7720 - val_loss: 0.4789 - val_accuracy: 0.7630\n",
            "Epoch 42/100\n",
            "100/100 [==============================] - 136s 1s/step - loss: 0.5146 - accuracy: 0.7485 - val_loss: 0.5284 - val_accuracy: 0.7520\n",
            "Epoch 43/100\n",
            "100/100 [==============================] - 134s 1s/step - loss: 0.4847 - accuracy: 0.7675 - val_loss: 0.4991 - val_accuracy: 0.7490\n",
            "Epoch 44/100\n",
            "100/100 [==============================] - 137s 1s/step - loss: 0.4957 - accuracy: 0.7540 - val_loss: 0.4912 - val_accuracy: 0.7560\n",
            "Epoch 45/100\n",
            "100/100 [==============================] - 141s 1s/step - loss: 0.4601 - accuracy: 0.7775 - val_loss: 0.4984 - val_accuracy: 0.7520\n",
            "Epoch 46/100\n",
            "100/100 [==============================] - 143s 1s/step - loss: 0.4551 - accuracy: 0.7893 - val_loss: 0.5249 - val_accuracy: 0.7640\n",
            "Epoch 47/100\n",
            "100/100 [==============================] - 139s 1s/step - loss: 0.4940 - accuracy: 0.7638 - val_loss: 0.5119 - val_accuracy: 0.7440\n",
            "Epoch 48/100\n",
            "100/100 [==============================] - 137s 1s/step - loss: 0.4857 - accuracy: 0.7620 - val_loss: 0.5102 - val_accuracy: 0.7490\n",
            "Epoch 49/100\n",
            "100/100 [==============================] - 139s 1s/step - loss: 0.4840 - accuracy: 0.7710 - val_loss: 0.4718 - val_accuracy: 0.7760\n",
            "Epoch 50/100\n",
            "100/100 [==============================] - 137s 1s/step - loss: 0.4599 - accuracy: 0.7960 - val_loss: 0.4525 - val_accuracy: 0.7850\n",
            "Epoch 51/100\n",
            "100/100 [==============================] - 138s 1s/step - loss: 0.4472 - accuracy: 0.7890 - val_loss: 0.4530 - val_accuracy: 0.7840\n",
            "Epoch 52/100\n",
            "100/100 [==============================] - 138s 1s/step - loss: 0.4404 - accuracy: 0.7895 - val_loss: 0.5056 - val_accuracy: 0.7570\n",
            "Epoch 53/100\n",
            "100/100 [==============================] - 139s 1s/step - loss: 0.4610 - accuracy: 0.7830 - val_loss: 0.5097 - val_accuracy: 0.7480\n",
            "Epoch 54/100\n",
            "100/100 [==============================] - 139s 1s/step - loss: 0.4530 - accuracy: 0.7870 - val_loss: 0.4587 - val_accuracy: 0.7920\n",
            "Epoch 55/100\n",
            "100/100 [==============================] - 138s 1s/step - loss: 0.4591 - accuracy: 0.7800 - val_loss: 0.4794 - val_accuracy: 0.7780\n",
            "Epoch 56/100\n",
            "100/100 [==============================] - 145s 1s/step - loss: 0.4665 - accuracy: 0.7795 - val_loss: 0.4515 - val_accuracy: 0.7850\n",
            "Epoch 57/100\n",
            "100/100 [==============================] - 139s 1s/step - loss: 0.4543 - accuracy: 0.7835 - val_loss: 0.4545 - val_accuracy: 0.8030\n",
            "Epoch 58/100\n",
            "100/100 [==============================] - 141s 1s/step - loss: 0.4195 - accuracy: 0.7965 - val_loss: 0.5101 - val_accuracy: 0.7450\n",
            "Epoch 59/100\n",
            "100/100 [==============================] - 140s 1s/step - loss: 0.4489 - accuracy: 0.7895 - val_loss: 0.4652 - val_accuracy: 0.7860\n",
            "Epoch 60/100\n",
            "100/100 [==============================] - 141s 1s/step - loss: 0.4440 - accuracy: 0.7900 - val_loss: 0.4783 - val_accuracy: 0.7730\n",
            "Epoch 61/100\n",
            "100/100 [==============================] - 140s 1s/step - loss: 0.4438 - accuracy: 0.7975 - val_loss: 0.4350 - val_accuracy: 0.7970\n",
            "Epoch 62/100\n",
            "100/100 [==============================] - 143s 1s/step - loss: 0.4487 - accuracy: 0.7815 - val_loss: 0.4161 - val_accuracy: 0.8210\n",
            "Epoch 63/100\n",
            "100/100 [==============================] - 140s 1s/step - loss: 0.4339 - accuracy: 0.8010 - val_loss: 0.4777 - val_accuracy: 0.7820\n",
            "Epoch 64/100\n",
            "100/100 [==============================] - 140s 1s/step - loss: 0.4513 - accuracy: 0.7908 - val_loss: 0.4592 - val_accuracy: 0.7840\n",
            "Epoch 65/100\n",
            "100/100 [==============================] - 136s 1s/step - loss: 0.4352 - accuracy: 0.8045 - val_loss: 0.4485 - val_accuracy: 0.7840\n",
            "Epoch 66/100\n",
            "100/100 [==============================] - 141s 1s/step - loss: 0.4184 - accuracy: 0.8058 - val_loss: 0.4581 - val_accuracy: 0.7870\n",
            "Epoch 67/100\n",
            "100/100 [==============================] - 141s 1s/step - loss: 0.4276 - accuracy: 0.8028 - val_loss: 0.4379 - val_accuracy: 0.7960\n",
            "Epoch 68/100\n",
            "100/100 [==============================] - 138s 1s/step - loss: 0.4151 - accuracy: 0.8150 - val_loss: 0.4296 - val_accuracy: 0.8040\n",
            "Epoch 69/100\n",
            "100/100 [==============================] - 138s 1s/step - loss: 0.4156 - accuracy: 0.8170 - val_loss: 0.4575 - val_accuracy: 0.7900\n",
            "Epoch 70/100\n",
            "100/100 [==============================] - 144s 1s/step - loss: 0.4434 - accuracy: 0.7895 - val_loss: 0.4181 - val_accuracy: 0.8020\n",
            "Epoch 71/100\n",
            "100/100 [==============================] - 144s 1s/step - loss: 0.4163 - accuracy: 0.8090 - val_loss: 0.4579 - val_accuracy: 0.7910\n",
            "Epoch 72/100\n",
            "100/100 [==============================] - 139s 1s/step - loss: 0.4211 - accuracy: 0.8055 - val_loss: 0.4421 - val_accuracy: 0.7880\n",
            "Epoch 73/100\n",
            "100/100 [==============================] - 141s 1s/step - loss: 0.4127 - accuracy: 0.8170 - val_loss: 0.4312 - val_accuracy: 0.7940\n",
            "Epoch 74/100\n",
            "100/100 [==============================] - 139s 1s/step - loss: 0.4215 - accuracy: 0.8068 - val_loss: 0.4206 - val_accuracy: 0.8030\n",
            "Epoch 75/100\n",
            "100/100 [==============================] - 136s 1s/step - loss: 0.4282 - accuracy: 0.8090 - val_loss: 0.4511 - val_accuracy: 0.7950\n",
            "Epoch 76/100\n",
            "100/100 [==============================] - 136s 1s/step - loss: 0.4111 - accuracy: 0.8105 - val_loss: 0.4720 - val_accuracy: 0.7860\n",
            "Epoch 77/100\n",
            "100/100 [==============================] - 137s 1s/step - loss: 0.4385 - accuracy: 0.8000 - val_loss: 0.4388 - val_accuracy: 0.7930\n",
            "Epoch 78/100\n",
            "100/100 [==============================] - 138s 1s/step - loss: 0.4184 - accuracy: 0.8150 - val_loss: 0.4437 - val_accuracy: 0.8080\n",
            "Epoch 79/100\n",
            "100/100 [==============================] - 137s 1s/step - loss: 0.4307 - accuracy: 0.8000 - val_loss: 0.4290 - val_accuracy: 0.8100\n",
            "Epoch 80/100\n",
            "100/100 [==============================] - 136s 1s/step - loss: 0.4170 - accuracy: 0.8225 - val_loss: 0.4604 - val_accuracy: 0.7850\n",
            "Epoch 81/100\n",
            "100/100 [==============================] - 137s 1s/step - loss: 0.4029 - accuracy: 0.8175 - val_loss: 0.4218 - val_accuracy: 0.8090\n",
            "Epoch 82/100\n",
            "100/100 [==============================] - 137s 1s/step - loss: 0.4103 - accuracy: 0.8195 - val_loss: 0.4265 - val_accuracy: 0.8210\n",
            "Epoch 83/100\n",
            "100/100 [==============================] - 141s 1s/step - loss: 0.4171 - accuracy: 0.8110 - val_loss: 0.3948 - val_accuracy: 0.8240\n",
            "Epoch 84/100\n",
            "100/100 [==============================] - 138s 1s/step - loss: 0.4092 - accuracy: 0.8095 - val_loss: 0.4177 - val_accuracy: 0.8090\n",
            "Epoch 85/100\n",
            "100/100 [==============================] - 139s 1s/step - loss: 0.3999 - accuracy: 0.8188 - val_loss: 0.4065 - val_accuracy: 0.8210\n",
            "Epoch 86/100\n",
            "100/100 [==============================] - 138s 1s/step - loss: 0.4178 - accuracy: 0.8160 - val_loss: 0.4319 - val_accuracy: 0.7990\n",
            "Epoch 87/100\n",
            "100/100 [==============================] - 138s 1s/step - loss: 0.3882 - accuracy: 0.8255 - val_loss: 0.4327 - val_accuracy: 0.8060\n",
            "Epoch 88/100\n",
            "100/100 [==============================] - 138s 1s/step - loss: 0.4220 - accuracy: 0.8135 - val_loss: 0.4560 - val_accuracy: 0.7960\n",
            "Epoch 89/100\n",
            "100/100 [==============================] - 139s 1s/step - loss: 0.3961 - accuracy: 0.8225 - val_loss: 0.4338 - val_accuracy: 0.8080\n",
            "Epoch 90/100\n",
            "100/100 [==============================] - 137s 1s/step - loss: 0.3960 - accuracy: 0.8190 - val_loss: 0.4291 - val_accuracy: 0.8040\n",
            "Epoch 91/100\n",
            "100/100 [==============================] - 138s 1s/step - loss: 0.4033 - accuracy: 0.8150 - val_loss: 0.4316 - val_accuracy: 0.7980\n",
            "Epoch 92/100\n",
            "100/100 [==============================] - 139s 1s/step - loss: 0.3809 - accuracy: 0.8310 - val_loss: 0.4158 - val_accuracy: 0.8070\n",
            "Epoch 93/100\n",
            "100/100 [==============================] - 141s 1s/step - loss: 0.4163 - accuracy: 0.8105 - val_loss: 0.4083 - val_accuracy: 0.8210\n",
            "Epoch 94/100\n",
            "100/100 [==============================] - 139s 1s/step - loss: 0.3956 - accuracy: 0.8210 - val_loss: 0.3866 - val_accuracy: 0.8260\n",
            "Epoch 95/100\n",
            "100/100 [==============================] - 139s 1s/step - loss: 0.3674 - accuracy: 0.8410 - val_loss: 0.4111 - val_accuracy: 0.8070\n",
            "Epoch 96/100\n",
            "100/100 [==============================] - 140s 1s/step - loss: 0.3921 - accuracy: 0.8170 - val_loss: 0.4063 - val_accuracy: 0.8060\n",
            "Epoch 97/100\n",
            "100/100 [==============================] - 138s 1s/step - loss: 0.3863 - accuracy: 0.8345 - val_loss: 0.4185 - val_accuracy: 0.8060\n",
            "Epoch 98/100\n",
            "100/100 [==============================] - 139s 1s/step - loss: 0.3754 - accuracy: 0.8255 - val_loss: 0.4110 - val_accuracy: 0.7950\n",
            "Epoch 99/100\n",
            "100/100 [==============================] - 140s 1s/step - loss: 0.3714 - accuracy: 0.8435 - val_loss: 0.3759 - val_accuracy: 0.8270\n",
            "Epoch 100/100\n",
            "100/100 [==============================] - 139s 1s/step - loss: 0.3827 - accuracy: 0.8323 - val_loss: 0.3859 - val_accuracy: 0.8140\n"
          ]
        }
      ],
      "source": [
        "# Get the untrained model\n",
        "model = create_model()\n",
        "\n",
        "# Train the model\n",
        "# Note that this may take some time.\n",
        "history = model.fit(train_generator,\n",
        "                    steps_per_epoch=100,  # finish 100 steps instead of 1125 (training_len/batch, 22500/20) steps in each epoch\n",
        "                    validation_steps=50,  # use same 50 datasets in each epoch to validate\n",
        "                    epochs=100,\n",
        "                    verbose=1,\n",
        "                    validation_data=validation_generator)"
      ]
    },
    {
      "cell_type": "markdown",
      "metadata": {
        "id": "VGsaDMc-GMd4"
      },
      "source": [
        "Once training has finished, you can run the following cell to check the training and validation accuracy achieved at the end of each epoch.\n",
        "\n",
        "**To pass this assignment, your model should achieve a training and validation accuracy of at least 80% and the final testing accuracy should be either higher than the training one or have a 5% difference at maximum**. If your model didn't achieve these thresholds, try training again with a different model architecture, remember to use at least 3 convolutional layers or try tweaking the image augmentation process.\n",
        "\n",
        "You might wonder why the training threshold to pass this assignment is significantly lower compared to last week's assignment. Image augmentation does help with overfitting but usually this comes at the expense of requiring more training time. To keep the training time reasonable, the same number of epochs as in the previous assignment are kept. \n",
        "\n",
        "However, as an optional exercise you are encouraged to try training for more epochs and to achieve really good training and validation accuracies."
      ]
    },
    {
      "cell_type": "code",
      "execution_count": 24,
      "metadata": {
        "id": "MWZrJN4-65RC",
        "colab": {
          "base_uri": "https://localhost:8080/",
          "height": 564
        },
        "outputId": "5b8a0811-4201-4023-afa6-32e286cc9802"
      },
      "outputs": [
        {
          "output_type": "display_data",
          "data": {
            "image/png": "[encoded data removed]",
            "text/plain": [
              "<Figure size 432x288 with 1 Axes>"
            ]
          },
          "metadata": {
            "needs_background": "light"
          }
        },
        {
          "output_type": "stream",
          "name": "stdout",
          "text": [
            "\n"
          ]
        },
        {
          "output_type": "display_data",
          "data": {
            "image/png": "[encoded data removed]",
            "text/plain": [
              "<Figure size 432x288 with 1 Axes>"
            ]
          },
          "metadata": {
            "needs_background": "light"
          }
        }
      ],
      "source": [
        "#-----------------------------------------------------------\n",
        "# Retrieve a list of list results on training and test data\n",
        "# sets for each training epoch\n",
        "#-----------------------------------------------------------\n",
        "acc=history.history['accuracy']\n",
        "val_acc=history.history['val_accuracy']\n",
        "loss=history.history['loss']\n",
        "val_loss=history.history['val_loss']\n",
        "\n",
        "epochs=range(len(acc)) # Get number of epochs\n",
        "\n",
        "#------------------------------------------------\n",
        "# Plot training and validation accuracy per epoch\n",
        "#------------------------------------------------\n",
        "plt.plot(epochs, acc, 'r')\n",
        "plt.plot(epochs, val_acc, 'b')\n",
        "plt.title('Training and validation accuracy')\n",
        "plt.legend([\"Training Accuracy\",\"Validation Accuracy\"])\n",
        "plt.show()\n",
        "print(\"\")\n",
        "\n",
        "#------------------------------------------------\n",
        "# Plot training and validation loss per epoch\n",
        "#------------------------------------------------\n",
        "plt.plot(epochs, loss, 'r')\n",
        "plt.plot(epochs, val_loss, 'b')\n",
        "plt.title('Training and validation losses')\n",
        "plt.legend([\"Training Loss\",\"Validation Loss\"])\n",
        "plt.show()\n",
        "\n",
        "\n"
      ]
    },
    {
      "cell_type": "markdown",
      "metadata": {
        "id": "NYIaqsN2pav6"
      },
      "source": [
        "You will probably encounter that the model is overfitting, which means that it is doing a great job at classifying the images in the training set but struggles with new data. This is perfectly fine and you will learn how to mitigate this issue in the upcomming week.\n",
        "\n",
        "Before closing the assignment, be sure to also download the `history.pkl` file which contains the information of the training history of your model. You can download this file by running the cell below:"
      ]
    },
    {
      "cell_type": "code",
      "execution_count": 14,
      "metadata": {
        "id": "yWcrc9nZTsHj",
        "colab": {
          "base_uri": "https://localhost:8080/",
          "height": 17
        },
        "outputId": "b3199590-af37-4e1a-cda0-69b63929ba2f"
      },
      "outputs": [
        {
          "output_type": "display_data",
          "data": {
            "application/javascript": [
              "\n",
              "    async function download(id, filename, size) {\n",
              "      if (!google.colab.kernel.accessAllowed) {\n",
              "        return;\n",
              "      }\n",
              "      const div = document.createElement('div');\n",
              "      const label = document.createElement('label');\n",
              "      label.textContent = `Downloading \"${filename}\": `;\n",
              "      div.appendChild(label);\n",
              "      const progress = document.createElement('progress');\n",
              "      progress.max = size;\n",
              "      div.appendChild(progress);\n",
              "      document.body.appendChild(div);\n",
              "\n",
              "      const buffers = [];\n",
              "      let downloaded = 0;\n",
              "\n",
              "      const channel = await google.colab.kernel.comms.open(id);\n",
              "      // Send a message to notify the kernel that we're ready.\n",
              "      channel.send({})\n",
              "\n",
              "      for await (const message of channel.messages) {\n",
              "        // Send a message to notify the kernel that we're ready.\n",
              "        channel.send({})\n",
              "        if (message.buffers) {\n",
              "          for (const buffer of message.buffers) {\n",
              "            buffers.push(buffer);\n",
              "            downloaded += buffer.byteLength;\n",
              "            progress.value = downloaded;\n",
              "          }\n",
              "        }\n",
              "      }\n",
              "      const blob = new Blob(buffers, {type: 'application/binary'});\n",
              "      const a = document.createElement('a');\n",
              "      a.href = window.URL.createObjectURL(blob);\n",
              "      a.download = filename;\n",
              "      div.appendChild(a);\n",
              "      a.click();\n",
              "      div.remove();\n",
              "    }\n",
              "  "
            ],
            "text/plain": [
              "<IPython.core.display.Javascript object>"
            ]
          },
          "metadata": {}
        },
        {
          "output_type": "display_data",
          "data": {
            "application/javascript": [
              "download(\"download_9e69e1b2-073c-41c7-bc95-c6ffbc3aac68\", \"history_augmented.pkl\", 3688)"
            ],
            "text/plain": [
              "<IPython.core.display.Javascript object>"
            ]
          },
          "metadata": {}
        }
      ],
      "source": [
        "def download_history():\n",
        "  import pickle\n",
        "  from google.colab import files\n",
        "\n",
        "  with open('history_augmented.pkl', 'wb') as f:\n",
        "    pickle.dump(history.history, f)\n",
        "\n",
        "  files.download('history_augmented.pkl')\n",
        "\n",
        "download_history()"
      ]
    },
    {
      "cell_type": "markdown",
      "metadata": {
        "id": "yEj7UVe0OgMq"
      },
      "source": [
        "You will also need to submit this notebook for grading. To download it, click on the `File` tab in the upper left corner of the screen then click on `Download` -> `Download .ipynb`. You can name it anything you want as long as it is a valid `.ipynb` (jupyter notebook) file."
      ]
    },
    {
      "cell_type": "markdown",
      "metadata": {
        "id": "joAaZSWWpbOI"
      },
      "source": [
        "**Congratulations on finishing this week's assignment!**\n",
        "\n",
        "You have successfully implemented a convolutional neural network that classifies images of cats and dogs, along with the helper functions needed to pre-process the images!\n",
        "\n",
        "**Keep it up!**"
      ]
    }
  ],
  "metadata": {
    "accelerator": "GPU",
    "kernelspec": {
      "display_name": "Python 3",
      "language": "python",
      "name": "python3"
    },
    "language_info": {
      "codemirror_mode": {
        "name": "ipython",
        "version": 3
      },
      "file_extension": ".py",
      "mimetype": "text/x-python",
      "name": "python",
      "nbconvert_exporter": "python",
      "pygments_lexer": "ipython3",
      "version": "3.7.4"
    },
    "colab": {
      "name": "Copy of C2W2_Assignment.ipynb",
      "provenance": [],
      "collapsed_sections": []
    }
  },
  "nbformat": 4,
  "nbformat_minor": 0
}