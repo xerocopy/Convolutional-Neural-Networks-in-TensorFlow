{
 "cells": [
  {
   "cell_type": "markdown",
   "metadata": {
    "id": "zhXYFsFO745Y"
   },
   "source": [
    "<a href=\"https://colab.research.google.com/github/https-deeplearning-ai/tensorflow-1-public/blob/master/C2/W2/ungraded_labs/C2_W2_Lab_2_horses_v_humans_augmentation.ipynb\" target=\"_parent\"><img src=\"https://colab.research.google.com/assets/colab-badge.svg\" alt=\"Open In Colab\"/></a>"
   ]
  },
  {
   "cell_type": "markdown",
   "metadata": {
    "id": "37v_yExZppEp"
   },
   "source": [
    "# Ungraded Lab: Data Augmentation on the Horses or Humans Dataset\n",
    "\n",
    "In the previous lab, you saw how data augmentation helped improve the model's performance on unseen data. By tweaking the cat and dog training images, the model was able to learn features that are also representative of the validation data. However, applying data augmentation requires good understanding of your dataset. Simply transforming it randomly will not always yield good results. \n",
    "\n",
    "In the next cells, you will apply the same techniques to the `Horses or Humans` dataset and analyze the results."
   ]
  },
  {
   "cell_type": "code",
   "execution_count": 1,
   "metadata": {
    "id": "Lslf0vB3rQlU"
   },
   "outputs": [
    {
     "name": "stderr",
     "output_type": "stream",
     "text": [
      "Downloading...\n",
      "From: https://drive.google.com/uc?id=1onaG42NZft3wCE1WH0GDEbUhu75fedP5\n",
      "To: C:\\Users\\jingc\\Documents\\GitHub\\Convolutional-Neural-Networks-in-TensorFlow\\C2W2_dataaugmentation\\horse-or-human.zip\n",
      "\n",
      "  0%|          | 0.00/150M [00:00<?, ?B/s]\n",
      "  0%|          | 524k/150M [00:00<02:27, 1.01MB/s]\n",
      "  1%|          | 1.05M/150M [00:00<01:17, 1.92MB/s]\n",
      "  1%|1         | 2.10M/150M [00:00<00:42, 3.50MB/s]\n",
      "  2%|2         | 3.15M/150M [00:00<00:32, 4.55MB/s]\n",
      "  3%|2         | 4.19M/150M [00:01<00:27, 5.27MB/s]\n",
      "  4%|3         | 5.24M/150M [00:01<00:25, 5.73MB/s]\n",
      "  4%|4         | 6.29M/150M [00:01<00:23, 6.09MB/s]\n",
      "  5%|4         | 7.34M/150M [00:01<00:22, 6.31MB/s]\n",
      "  6%|5         | 8.39M/150M [00:01<00:21, 6.48MB/s]\n",
      "  6%|6         | 9.44M/150M [00:01<00:21, 6.61MB/s]\n",
      "  7%|7         | 10.5M/150M [00:01<00:20, 6.68MB/s]\n",
      "  8%|7         | 11.5M/150M [00:02<00:20, 6.75MB/s]\n",
      "  8%|8         | 12.6M/150M [00:02<00:20, 6.78MB/s]\n",
      "  9%|9         | 13.6M/150M [00:02<00:19, 6.80MB/s]\n",
      " 10%|9         | 14.7M/150M [00:02<00:19, 6.82MB/s]\n",
      " 11%|#         | 15.7M/150M [00:02<00:19, 6.84MB/s]\n",
      " 11%|#1        | 16.8M/150M [00:02<00:19, 6.85MB/s]\n",
      " 12%|#1        | 17.8M/150M [00:03<00:19, 6.83MB/s]\n",
      " 13%|#2        | 18.9M/150M [00:03<00:19, 6.88MB/s]\n",
      " 13%|#3        | 19.9M/150M [00:03<00:18, 6.86MB/s]\n",
      " 14%|#4        | 21.0M/150M [00:03<00:18, 6.87MB/s]\n",
      " 15%|#4        | 22.0M/150M [00:03<00:18, 6.86MB/s]\n",
      " 15%|#5        | 23.1M/150M [00:03<00:18, 6.86MB/s]\n",
      " 16%|#6        | 24.1M/150M [00:03<00:18, 6.89MB/s]\n",
      " 17%|#6        | 25.2M/150M [00:04<00:18, 6.86MB/s]\n",
      " 18%|#7        | 26.2M/150M [00:04<00:17, 6.87MB/s]\n",
      " 18%|#8        | 27.3M/150M [00:04<00:17, 6.87MB/s]\n",
      " 19%|#8        | 28.3M/150M [00:04<00:17, 6.86MB/s]\n",
      " 20%|#9        | 29.4M/150M [00:04<00:17, 6.87MB/s]\n",
      " 20%|##        | 30.4M/150M [00:04<00:17, 6.87MB/s]\n",
      " 21%|##1       | 31.5M/150M [00:05<00:17, 6.86MB/s]\n",
      " 22%|##1       | 32.5M/150M [00:05<00:17, 6.87MB/s]\n",
      " 22%|##2       | 33.6M/150M [00:05<00:16, 6.87MB/s]\n",
      " 23%|##3       | 34.6M/150M [00:05<00:16, 6.88MB/s]\n",
      " 24%|##3       | 35.7M/150M [00:05<00:21, 5.39MB/s]\n",
      " 25%|##4       | 36.7M/150M [00:05<00:19, 5.78MB/s]\n",
      " 25%|##5       | 37.7M/150M [00:06<00:18, 6.05MB/s]\n",
      " 26%|##5       | 38.8M/150M [00:06<00:17, 6.28MB/s]\n",
      " 27%|##6       | 39.8M/150M [00:06<00:17, 6.44MB/s]\n",
      " 27%|##7       | 40.9M/150M [00:06<00:16, 6.56MB/s]\n",
      " 28%|##8       | 41.9M/150M [00:06<00:16, 6.65MB/s]\n",
      " 29%|##8       | 43.0M/150M [00:06<00:15, 6.71MB/s]\n",
      " 29%|##9       | 44.0M/150M [00:07<00:15, 6.78MB/s]\n",
      " 30%|###       | 45.1M/150M [00:07<00:15, 6.80MB/s]\n",
      " 31%|###       | 46.1M/150M [00:07<00:15, 6.80MB/s]\n",
      " 32%|###1      | 47.2M/150M [00:08<00:37, 2.76MB/s]\n",
      " 32%|###2      | 48.2M/150M [00:08<00:30, 3.37MB/s]\n",
      " 33%|###2      | 49.3M/150M [00:08<00:25, 3.97MB/s]\n",
      " 34%|###3      | 50.3M/150M [00:08<00:21, 4.55MB/s]\n",
      " 34%|###4      | 51.4M/150M [00:08<00:19, 5.05MB/s]\n",
      " 35%|###5      | 52.4M/150M [00:08<00:17, 5.49MB/s]\n",
      " 36%|###5      | 53.5M/150M [00:09<00:16, 5.77MB/s]\n",
      " 36%|###6      | 54.5M/150M [00:09<00:15, 6.14MB/s]\n",
      " 37%|###7      | 55.6M/150M [00:09<00:16, 5.85MB/s]\n",
      " 38%|###7      | 56.6M/150M [00:09<00:15, 6.12MB/s]\n",
      " 39%|###8      | 57.7M/150M [00:09<00:14, 6.33MB/s]\n",
      " 39%|###9      | 58.7M/150M [00:09<00:14, 6.48MB/s]\n",
      " 40%|###9      | 59.8M/150M [00:10<00:13, 6.60MB/s]\n",
      " 41%|####      | 60.8M/150M [00:10<00:13, 6.67MB/s]\n",
      " 41%|####1     | 61.9M/150M [00:10<00:13, 6.73MB/s]\n",
      " 42%|####2     | 62.9M/150M [00:10<00:12, 6.76MB/s]\n",
      " 43%|####2     | 64.0M/150M [00:10<00:12, 6.79MB/s]\n",
      " 43%|####3     | 65.0M/150M [00:10<00:12, 6.82MB/s]\n",
      " 44%|####4     | 66.1M/150M [00:11<00:12, 6.83MB/s]\n",
      " 45%|####4     | 67.1M/150M [00:11<00:12, 6.79MB/s]\n",
      " 46%|####5     | 68.2M/150M [00:11<00:11, 6.87MB/s]\n",
      " 46%|####6     | 69.2M/150M [00:11<00:15, 5.19MB/s]\n",
      " 47%|####6     | 70.3M/150M [00:11<00:14, 5.48MB/s]\n",
      " 48%|####7     | 71.3M/150M [00:12<00:24, 3.15MB/s]\n",
      " 48%|####8     | 72.4M/150M [00:12<00:21, 3.65MB/s]\n",
      " 49%|####9     | 73.4M/150M [00:12<00:17, 4.40MB/s]\n",
      " 50%|####9     | 74.4M/150M [00:12<00:15, 4.93MB/s]\n",
      " 50%|#####     | 75.5M/150M [00:13<00:13, 5.37MB/s]\n",
      " 51%|#####1    | 76.5M/150M [00:13<00:12, 5.74MB/s]\n",
      " 52%|#####1    | 77.6M/150M [00:13<00:14, 4.99MB/s]\n",
      " 53%|#####2    | 78.6M/150M [00:13<00:13, 5.35MB/s]\n",
      " 53%|#####3    | 79.7M/150M [00:13<00:12, 5.72MB/s]\n",
      " 54%|#####3    | 80.7M/150M [00:13<00:11, 6.02MB/s]\n",
      " 55%|#####4    | 81.8M/150M [00:14<00:10, 6.26MB/s]\n",
      " 55%|#####5    | 82.8M/150M [00:14<00:10, 6.44MB/s]\n",
      " 56%|#####6    | 83.9M/150M [00:14<00:10, 6.55MB/s]\n",
      " 57%|#####6    | 84.9M/150M [00:14<00:09, 6.63MB/s]\n",
      " 57%|#####7    | 86.0M/150M [00:14<00:09, 6.71MB/s]\n",
      " 58%|#####8    | 87.0M/150M [00:14<00:09, 6.75MB/s]\n",
      " 59%|#####8    | 88.1M/150M [00:15<00:09, 6.80MB/s]\n",
      " 60%|#####9    | 89.1M/150M [00:15<00:08, 6.81MB/s]\n",
      " 60%|######    | 90.2M/150M [00:15<00:08, 6.84MB/s]\n",
      " 61%|######    | 91.2M/150M [00:15<00:08, 6.84MB/s]\n",
      " 62%|######1   | 92.3M/150M [00:15<00:08, 6.85MB/s]\n",
      " 62%|######2   | 93.3M/150M [00:15<00:08, 6.86MB/s]\n",
      " 63%|######3   | 94.4M/150M [00:15<00:08, 6.86MB/s]\n",
      " 64%|######3   | 95.4M/150M [00:16<00:07, 6.86MB/s]\n",
      " 64%|######4   | 96.5M/150M [00:16<00:07, 6.86MB/s]\n",
      " 65%|######5   | 97.5M/150M [00:16<00:07, 6.87MB/s]\n",
      " 66%|######5   | 98.6M/150M [00:16<00:07, 6.86MB/s]\n",
      " 67%|######6   | 99.6M/150M [00:16<00:07, 6.87MB/s]\n",
      " 67%|######7   | 101M/150M [00:16<00:07, 6.87MB/s] \n",
      " 68%|######8   | 102M/150M [00:17<00:06, 6.86MB/s]\n",
      " 69%|######8   | 103M/150M [00:17<00:06, 6.87MB/s]\n",
      " 69%|######9   | 104M/150M [00:17<00:06, 6.87MB/s]\n",
      " 70%|#######   | 105M/150M [00:17<00:06, 6.88MB/s]\n",
      " 71%|#######   | 106M/150M [00:17<00:06, 6.87MB/s]\n",
      " 72%|#######1  | 107M/150M [00:17<00:06, 6.87MB/s]\n",
      " 72%|#######2  | 108M/150M [00:17<00:06, 6.86MB/s]\n",
      " 73%|#######2  | 109M/150M [00:18<00:05, 6.87MB/s]\n",
      " 74%|#######3  | 110M/150M [00:18<00:05, 6.88MB/s]\n",
      " 74%|#######4  | 111M/150M [00:18<00:05, 6.87MB/s]\n",
      " 75%|#######5  | 112M/150M [00:18<00:05, 6.66MB/s]\n",
      " 76%|#######5  | 113M/150M [00:18<00:06, 5.43MB/s]\n",
      " 76%|#######6  | 114M/150M [00:19<00:06, 5.79MB/s]\n",
      " 77%|#######7  | 115M/150M [00:19<00:05, 6.07MB/s]\n",
      " 78%|#######7  | 116M/150M [00:19<00:05, 6.30MB/s]\n",
      " 79%|#######8  | 117M/150M [00:19<00:04, 6.46MB/s]\n",
      " 79%|#######9  | 118M/150M [00:19<00:04, 6.57MB/s]\n",
      " 80%|#######9  | 120M/150M [00:19<00:04, 6.65MB/s]\n",
      " 81%|########  | 121M/150M [00:19<00:04, 6.74MB/s]\n",
      " 81%|########1 | 122M/150M [00:20<00:04, 6.77MB/s]\n",
      " 82%|########2 | 123M/150M [00:20<00:03, 6.80MB/s]\n",
      " 83%|########2 | 124M/150M [00:20<00:03, 6.81MB/s]\n",
      " 83%|########3 | 125M/150M [00:20<00:06, 3.95MB/s]\n",
      " 84%|########4 | 126M/150M [00:21<00:05, 4.53MB/s]\n",
      " 85%|########4 | 127M/150M [00:21<00:04, 5.04MB/s]\n",
      " 86%|########5 | 128M/150M [00:21<00:03, 5.49MB/s]\n",
      " 86%|########6 | 129M/150M [00:21<00:03, 5.83MB/s]\n",
      " 87%|########6 | 130M/150M [00:21<00:03, 5.37MB/s]\n",
      " 88%|########7 | 131M/150M [00:22<00:04, 4.06MB/s]\n",
      " 88%|########8 | 132M/150M [00:22<00:03, 4.63MB/s]\n",
      " 89%|########9 | 133M/150M [00:22<00:03, 4.64MB/s]\n",
      " 90%|########9 | 134M/150M [00:22<00:02, 5.14MB/s]\n",
      " 90%|######### | 135M/150M [00:22<00:02, 5.30MB/s]\n",
      " 91%|#########1| 136M/150M [00:23<00:02, 4.64MB/s]\n",
      " 92%|#########1| 137M/150M [00:23<00:02, 5.15MB/s]\n",
      " 93%|#########2| 138M/150M [00:23<00:02, 5.56MB/s]\n",
      " 93%|#########3| 139M/150M [00:23<00:01, 5.90MB/s]\n",
      " 94%|#########3| 141M/150M [00:23<00:01, 5.69MB/s]\n",
      " 95%|#########4| 142M/150M [00:24<00:01, 5.07MB/s]\n",
      " 95%|#########5| 143M/150M [00:24<00:01, 5.51MB/s]\n",
      " 96%|#########6| 144M/150M [00:24<00:01, 5.85MB/s]\n",
      " 97%|#########6| 145M/150M [00:24<00:00, 6.12MB/s]\n",
      " 97%|#########7| 146M/150M [00:24<00:00, 6.32MB/s]\n",
      " 98%|#########8| 147M/150M [00:24<00:00, 6.49MB/s]\n",
      " 99%|#########8| 148M/150M [00:24<00:00, 6.60MB/s]\n",
      "100%|#########9| 149M/150M [00:25<00:00, 6.68MB/s]\n",
      "100%|##########| 150M/150M [00:25<00:00, 5.92MB/s]\n",
      "Downloading...\n",
      "From: https://drive.google.com/uc?id=1LYeusSEIiZQpwN-mthh5nKdA75VsKG1U\n",
      "To: C:\\Users\\jingc\\Documents\\GitHub\\Convolutional-Neural-Networks-in-TensorFlow\\C2W2_dataaugmentation\\validation-horse-or-human.zip\n",
      "\n",
      "  0%|          | 0.00/11.5M [00:00<?, ?B/s]\n",
      "  5%|4         | 524k/11.5M [00:00<00:11, 952kB/s]\n",
      " 14%|#3        | 1.57M/11.5M [00:00<00:03, 2.52MB/s]\n",
      " 23%|##2       | 2.62M/11.5M [00:00<00:02, 3.75MB/s]\n",
      " 32%|###1      | 3.67M/11.5M [00:01<00:01, 4.64MB/s]\n",
      " 41%|####1     | 4.72M/11.5M [00:01<00:01, 5.27MB/s]\n",
      " 50%|#####     | 5.77M/11.5M [00:01<00:00, 5.74MB/s]\n",
      " 59%|#####9    | 6.82M/11.5M [00:01<00:00, 6.08MB/s]\n",
      " 69%|######8   | 7.86M/11.5M [00:01<00:00, 6.31MB/s]\n",
      " 78%|#######7  | 8.91M/11.5M [00:01<00:00, 6.47MB/s]\n",
      " 87%|########6 | 9.96M/11.5M [00:01<00:00, 6.60MB/s]\n",
      " 96%|#########5| 11.0M/11.5M [00:02<00:00, 6.69MB/s]\n",
      "100%|##########| 11.5M/11.5M [00:02<00:00, 5.30MB/s]\n"
     ]
    }
   ],
   "source": [
    "# Download the dataset\n",
    "\n",
    "# horses-or-humans dataset\n",
    "!gdown --id 1onaG42NZft3wCE1WH0GDEbUhu75fedP5\n",
    "\n",
    "# horses-or-humans validation dataset\n",
    "!gdown --id 1LYeusSEIiZQpwN-mthh5nKdA75VsKG1U"
   ]
  },
  {
   "cell_type": "code",
   "execution_count": 2,
   "metadata": {
    "id": "RXZT2UsyIVe_"
   },
   "outputs": [],
   "source": [
    "import os\n",
    "import zipfile\n",
    "\n",
    "# Extract the archive\n",
    "zip_ref = zipfile.ZipFile('./horse-or-human.zip', 'r')\n",
    "zip_ref.extractall('tmp/horse-or-human')\n",
    "\n",
    "zip_ref = zipfile.ZipFile('./validation-horse-or-human.zip', 'r')\n",
    "zip_ref.extractall('tmp/validation-horse-or-human')\n",
    "\n",
    "zip_ref.close()\n",
    "\n",
    "# Directory with training horse pictures\n",
    "train_horse_dir = os.path.join('tmp/horse-or-human/horses')\n",
    "\n",
    "# Directory with training human pictures\n",
    "train_human_dir = os.path.join('tmp/horse-or-human/humans')\n",
    "\n",
    "# Directory with training horse pictures\n",
    "validation_horse_dir = os.path.join('tmp/validation-horse-or-human/horses')\n",
    "\n",
    "# Directory with training human pictures\n",
    "validation_human_dir = os.path.join('tmp/validation-horse-or-human/humans')"
   ]
  },
  {
   "cell_type": "code",
   "execution_count": 3,
   "metadata": {
    "id": "PixZ2s5QbYQ3"
   },
   "outputs": [],
   "source": [
    "import tensorflow as tf\n",
    "\n",
    "# Build the model\n",
    "model = tf.keras.models.Sequential([\n",
    "    # Note the input shape is the desired size of the image 300x300 with 3 bytes color\n",
    "    # This is the first convolution\n",
    "    tf.keras.layers.Conv2D(16, (3,3), activation='relu', input_shape=(300, 300, 3)),\n",
    "    tf.keras.layers.MaxPooling2D(2, 2),\n",
    "    # The second convolution\n",
    "    tf.keras.layers.Conv2D(32, (3,3), activation='relu'),\n",
    "    tf.keras.layers.MaxPooling2D(2,2),\n",
    "    # The third convolution\n",
    "    tf.keras.layers.Conv2D(64, (3,3), activation='relu'),\n",
    "    tf.keras.layers.MaxPooling2D(2,2),\n",
    "    # The fourth convolution\n",
    "    tf.keras.layers.Conv2D(64, (3,3), activation='relu'),\n",
    "    tf.keras.layers.MaxPooling2D(2,2),\n",
    "    # The fifth convolution\n",
    "    tf.keras.layers.Conv2D(64, (3,3), activation='relu'),\n",
    "    tf.keras.layers.MaxPooling2D(2,2),\n",
    "    # Flatten the results to feed into a DNN\n",
    "    tf.keras.layers.Flatten(),\n",
    "    # 512 neuron hidden layer\n",
    "    tf.keras.layers.Dense(512, activation='relu'),\n",
    "    # Only 1 output neuron. It will contain a value from 0-1 where 0 for 1 class ('horses') and 1 for the other ('humans')\n",
    "    tf.keras.layers.Dense(1, activation='sigmoid')\n",
    "])"
   ]
  },
  {
   "cell_type": "code",
   "execution_count": 4,
   "metadata": {
    "id": "8DHWhFP_uhq3"
   },
   "outputs": [],
   "source": [
    "from tensorflow.keras.optimizers import RMSprop\n",
    "\n",
    "# Set training parameters\n",
    "model.compile(loss='binary_crossentropy',\n",
    "              optimizer=RMSprop(learning_rate=1e-4),\n",
    "              metrics=['accuracy'])"
   ]
  },
  {
   "cell_type": "code",
   "execution_count": 5,
   "metadata": {
    "id": "ClebU9NJg99G"
   },
   "outputs": [
    {
     "name": "stdout",
     "output_type": "stream",
     "text": [
      "Found 1027 images belonging to 2 classes.\n",
      "Found 256 images belonging to 2 classes.\n"
     ]
    }
   ],
   "source": [
    "from tensorflow.keras.preprocessing.image import ImageDataGenerator\n",
    "\n",
    "# Apply data augmentation\n",
    "train_datagen = ImageDataGenerator(\n",
    "      rescale=1./255,\n",
    "      rotation_range=40,\n",
    "      width_shift_range=0.2,\n",
    "      height_shift_range=0.2,\n",
    "      shear_range=0.2,\n",
    "      zoom_range=0.2,\n",
    "      horizontal_flip=True,\n",
    "      fill_mode='nearest')\n",
    "\n",
    "validation_datagen = ImageDataGenerator(rescale=1/255)\n",
    "\n",
    "# Flow training images in batches of 128 using train_datagen generator\n",
    "train_generator = train_datagen.flow_from_directory(\n",
    "        'tmp/horse-or-human/',  # This is the source directory for training images\n",
    "        target_size=(300, 300),  # All images will be resized to 150x150\n",
    "        batch_size=128,\n",
    "        # Since we use binary_crossentropy loss, we need binary labels\n",
    "        class_mode='binary')\n",
    "\n",
    "# Flow training images in batches of 128 using train_datagen generator\n",
    "validation_generator = validation_datagen.flow_from_directory(\n",
    "        'tmp/validation-horse-or-human/',  # This is the source directory for training images\n",
    "        target_size=(300, 300),  # All images will be resized to 150x150\n",
    "        batch_size=32,\n",
    "        # Since we use binary_crossentropy loss, we need binary labels\n",
    "        class_mode='binary')"
   ]
  },
  {
   "cell_type": "code",
   "execution_count": 6,
   "metadata": {
    "id": "Fb1_lgobv81m"
   },
   "outputs": [
    {
     "name": "stdout",
     "output_type": "stream",
     "text": [
      "Epoch 1/20\n",
      "8/8 [==============================] - 34s 4s/step - loss: 0.6808 - accuracy: 0.5406 - val_loss: 0.6877 - val_accuracy: 0.5000\n",
      "Epoch 2/20\n",
      "8/8 [==============================] - 28s 4s/step - loss: 0.6630 - accuracy: 0.6785 - val_loss: 0.6653 - val_accuracy: 0.5039\n",
      "Epoch 3/20\n",
      "8/8 [==============================] - 29s 3s/step - loss: 0.6409 - accuracy: 0.6808 - val_loss: 0.6271 - val_accuracy: 0.7617\n",
      "Epoch 4/20\n",
      "8/8 [==============================] - 29s 3s/step - loss: 0.6183 - accuracy: 0.6819 - val_loss: 0.6426 - val_accuracy: 0.5547\n",
      "Epoch 5/20\n",
      "8/8 [==============================] - 29s 3s/step - loss: 0.5747 - accuracy: 0.7208 - val_loss: 0.6925 - val_accuracy: 0.5117\n",
      "Epoch 6/20\n",
      "8/8 [==============================] - 28s 3s/step - loss: 0.5611 - accuracy: 0.7197 - val_loss: 0.8111 - val_accuracy: 0.5000\n",
      "Epoch 7/20\n",
      "8/8 [==============================] - 27s 3s/step - loss: 0.5241 - accuracy: 0.7542 - val_loss: 1.2906 - val_accuracy: 0.5000\n",
      "Epoch 8/20\n",
      "8/8 [==============================] - 29s 3s/step - loss: 0.6090 - accuracy: 0.6719 - val_loss: 0.8606 - val_accuracy: 0.5117\n",
      "Epoch 9/20\n",
      "8/8 [==============================] - 29s 3s/step - loss: 0.5202 - accuracy: 0.7664 - val_loss: 0.9281 - val_accuracy: 0.5117\n",
      "Epoch 10/20\n",
      "8/8 [==============================] - 29s 3s/step - loss: 0.5278 - accuracy: 0.7430 - val_loss: 0.9644 - val_accuracy: 0.5039\n",
      "Epoch 11/20\n",
      "8/8 [==============================] - 29s 3s/step - loss: 0.5219 - accuracy: 0.7319 - val_loss: 0.9549 - val_accuracy: 0.5156\n",
      "Epoch 12/20\n",
      "8/8 [==============================] - 27s 3s/step - loss: 0.4789 - accuracy: 0.8009 - val_loss: 1.8734 - val_accuracy: 0.5000\n",
      "Epoch 13/20\n",
      "8/8 [==============================] - 29s 3s/step - loss: 0.5848 - accuracy: 0.7019 - val_loss: 1.0369 - val_accuracy: 0.5234\n",
      "Epoch 14/20\n",
      "8/8 [==============================] - 29s 3s/step - loss: 0.4750 - accuracy: 0.7831 - val_loss: 0.6353 - val_accuracy: 0.6211\n",
      "Epoch 15/20\n",
      "8/8 [==============================] - 28s 3s/step - loss: 0.4625 - accuracy: 0.7786 - val_loss: 1.2690 - val_accuracy: 0.5078\n",
      "Epoch 16/20\n",
      "8/8 [==============================] - 28s 3s/step - loss: 0.5122 - accuracy: 0.7653 - val_loss: 0.8982 - val_accuracy: 0.5508\n",
      "Epoch 17/20\n",
      "8/8 [==============================] - 29s 3s/step - loss: 0.4743 - accuracy: 0.7842 - val_loss: 0.7568 - val_accuracy: 0.6016\n",
      "Epoch 18/20\n",
      "8/8 [==============================] - 29s 3s/step - loss: 0.4662 - accuracy: 0.8009 - val_loss: 0.7461 - val_accuracy: 0.6133\n",
      "Epoch 19/20\n",
      "8/8 [==============================] - 32s 4s/step - loss: 0.4718 - accuracy: 0.7725 - val_loss: 1.0642 - val_accuracy: 0.5508\n",
      "Epoch 20/20\n",
      "8/8 [==============================] - 27s 4s/step - loss: 0.4476 - accuracy: 0.7998 - val_loss: 0.7871 - val_accuracy: 0.6172\n"
     ]
    }
   ],
   "source": [
    "# Constant for epochs\n",
    "EPOCHS = 20\n",
    "\n",
    "# Train the model\n",
    "history = model.fit(\n",
    "      train_generator,\n",
    "      steps_per_epoch=8,  \n",
    "      epochs=EPOCHS,\n",
    "      verbose=1,\n",
    "      validation_data = validation_generator,\n",
    "      validation_steps=8)"
   ]
  },
  {
   "cell_type": "code",
   "execution_count": 7,
   "metadata": {
    "id": "7zNPRWOVJdOH"
   },
   "outputs": [
    {
     "data": {
      "image/png": "[encoded data removed]",
      "text/plain": [
       "<Figure size 432x288 with 1 Axes>"
      ]
     },
     "metadata": {
      "needs_background": "light"
     },
     "output_type": "display_data"
    },
    {
     "data": {
      "image/png": "[encoded data removed]",
      "text/plain": [
       "<Figure size 432x288 with 1 Axes>"
      ]
     },
     "metadata": {
      "needs_background": "light"
     },
     "output_type": "display_data"
    }
   ],
   "source": [
    "import matplotlib.pyplot as plt\n",
    "\n",
    "# Plot the model results\n",
    "acc = history.history['accuracy']\n",
    "val_acc = history.history['val_accuracy']\n",
    "loss = history.history['loss']\n",
    "val_loss = history.history['val_loss']\n",
    "\n",
    "epochs = range(len(acc))\n",
    "\n",
    "plt.plot(epochs, acc, 'r', label='Training accuracy')\n",
    "plt.plot(epochs, val_acc, 'b', label='Validation accuracy')\n",
    "plt.title('Training and validation accuracy')\n",
    "\n",
    "plt.figure()\n",
    "\n",
    "plt.plot(epochs, loss, 'r', label='Training Loss')\n",
    "plt.plot(epochs, val_loss, 'b', label='Validation Loss')\n",
    "plt.title('Training and validation loss')\n",
    "plt.legend()\n",
    "\n",
    "plt.show()"
   ]
  },
  {
   "cell_type": "markdown",
   "metadata": {
    "id": "hwyabYvCsvtn"
   },
   "source": [
    "As you can see in the results, the preprocessing techniques used in augmenting the data did not help much in the results. The validation accuracy is fluctuating and not trending up like the training accuracy. This might be because the additional training data generated still do not represent the features in the validation data. For example, some human or horse poses in the validation set cannot be mimicked by the image processing techniques that `ImageDataGenerator` provides. It might also be that the background of the training images are also learned so the white background of the validation set is throwing the model off even with cropping. Try looking at the validation images in the `tmp/validation-horse-or-human` directory (note: if you are using Colab, you can use the file explorer on the left to explore the images) and see if you can augment the training images to match its characteristics. If this is not possible, then at this point you can consider other techniques and you will see that in next week's lessons."
   ]
  }
 ],
 "metadata": {
  "accelerator": "GPU",
  "colab": {
   "collapsed_sections": [],
   "name": "Copy of C2_W2_Lab_2_horses_v_humans_augmentation.ipynb",
   "private_outputs": true,
   "provenance": []
  },
  "kernelspec": {
   "display_name": "Python 3 (ipykernel)",
   "language": "python",
   "name": "python3"
  },
  "language_info": {
   "codemirror_mode": {
    "name": "ipython",
    "version": 3
   },
   "file_extension": ".py",
   "mimetype": "text/x-python",
   "name": "python",
   "nbconvert_exporter": "python",
   "pygments_lexer": "ipython3",
   "version": "3.7.11"
  }
 },
 "nbformat": 4,
 "nbformat_minor": 1
}
