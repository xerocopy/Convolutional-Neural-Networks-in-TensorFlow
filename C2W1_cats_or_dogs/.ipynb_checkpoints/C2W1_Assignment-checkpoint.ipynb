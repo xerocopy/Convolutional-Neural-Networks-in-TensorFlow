{
 "cells": [
  {
   "cell_type": "markdown",
   "id": "AuW-xg_bTsaF",
   "metadata": {
    "id": "AuW-xg_bTsaF"
   },
   "source": [
    "# Week 1: Using CNN's with the Cats vs Dogs Dataset\n",
    "\n",
    "\n",
    "Welcome to the 1st assignment of the course! This week, you will be using the famous `Cats vs Dogs` dataset to train a model that can classify images of dogs from images of cats. For this, you will create your own Convolutional Neural Network in Tensorflow and leverage Keras' image preprocessing utilities.\n",
    "\n",
    "You will also create some helper functions to move the images around the filesystem so if you are not familiar with the `os` module be sure to take a look a the [docs](https://docs.python.org/3/library/os.html).\n",
    "\n",
    "Let's get started!"
   ]
  },
  {
   "cell_type": "code",
   "execution_count": 1,
   "id": "dn-6c02VmqiN",
   "metadata": {
    "id": "dn-6c02VmqiN"
   },
   "outputs": [],
   "source": [
    "import os\n",
    "import zipfile\n",
    "import random\n",
    "import shutil\n",
    "import tensorflow as tf\n",
    "from tensorflow.keras.preprocessing.image import ImageDataGenerator\n",
    "from shutil import copyfile\n",
    "import matplotlib.pyplot as plt"
   ]
  },
  {
   "cell_type": "markdown",
   "id": "bLTQd84RUs1j",
   "metadata": {
    "id": "bLTQd84RUs1j"
   },
   "source": [
    "Download the dataset from its original source by running the cell below. \n",
    "\n",
    "Note that the `zip` file that contains the images is unzipped under the `/tmp` directory."
   ]
  },
  {
   "cell_type": "code",
   "execution_count": 2,
   "id": "3sd9dQWa23aj",
   "metadata": {
    "colab": {
     "base_uri": "https://localhost:8080/"
    },
    "id": "3sd9dQWa23aj",
    "lines_to_next_cell": 2,
    "outputId": "97706b76-8af1-4e37-9052-a94ab2272fc5"
   },
   "outputs": [
    {
     "name": "stdout",
     "output_type": "stream",
     "text": [
      "--2022-02-25 00:46:52--  https://download.microsoft.com/download/3/E/1/3E1C3F21-ECDB-4869-8368-6DEBA77B919F/kagglecatsanddogs_3367a.zip\n",
      "Resolving download.microsoft.com (download.microsoft.com)... 23.62.212.111, 2600:1402:2000:1bb::e59, 2600:1402:2000:193::e59\n",
      "Connecting to download.microsoft.com (download.microsoft.com)|23.62.212.111|:443... connected.\n",
      "HTTP request sent, awaiting response... 200 OK\n",
      "Length: 824894548 (787M) [application/octet-stream]\n",
      "Saving to: ‘/tmp/cats-and-dogs.zip’\n",
      "\n",
      "/tmp/cats-and-dogs. 100%[===================>] 786.68M   153MB/s    in 5.6s    \n",
      "\n",
      "2022-02-25 00:46:58 (140 MB/s) - ‘/tmp/cats-and-dogs.zip’ saved [824894548/824894548]\n",
      "\n"
     ]
    }
   ],
   "source": [
    "# If the URL doesn't work, visit https://www.microsoft.com/en-us/download/confirmation.aspx?id=54765\n",
    "# And right click on the 'Download Manually' link to get a new URL to the dataset\n",
    "\n",
    "# Note: This is a very large dataset and will take some time to download\n",
    "\n",
    "!wget --no-check-certificate \\\n",
    "    \"https://download.microsoft.com/download/3/E/1/3E1C3F21-ECDB-4869-8368-6DEBA77B919F/kagglecatsanddogs_3367a.zip\" \\\n",
    "    -O \"/tmp/cats-and-dogs.zip\"\n",
    "\n",
    "local_zip = '/tmp/cats-and-dogs.zip'\n",
    "zip_ref   = zipfile.ZipFile(local_zip, 'r')\n",
    "zip_ref.extractall('/tmp')\n",
    "zip_ref.close()"
   ]
  },
  {
   "cell_type": "markdown",
   "id": "e_HsUV9WVJHL",
   "metadata": {
    "id": "e_HsUV9WVJHL"
   },
   "source": [
    "Now the images are stored within the `/tmp/PetImages` directory. There is a subdirectory for each class, so one for dogs and one for cats."
   ]
  },
  {
   "cell_type": "code",
   "execution_count": 3,
   "id": "DM851ZmN28J3",
   "metadata": {
    "colab": {
     "base_uri": "https://localhost:8080/"
    },
    "id": "DM851ZmN28J3",
    "outputId": "73539426-0060-49ac-cd45-f6bb31704eb4"
   },
   "outputs": [
    {
     "name": "stdout",
     "output_type": "stream",
     "text": [
      "There are 12501 images of dogs.\n",
      "There are 12501 images of cats.\n"
     ]
    }
   ],
   "source": [
    "source_path = '/tmp/PetImages'\n",
    "\n",
    "source_path_dogs = os.path.join(source_path, 'Dog')\n",
    "source_path_cats = os.path.join(source_path, 'Cat')\n",
    "\n",
    "\n",
    "# os.listdir returns a list containing all files under the given path\n",
    "print(f\"There are {len(os.listdir(source_path_dogs))} images of dogs.\")\n",
    "print(f\"There are {len(os.listdir(source_path_cats))} images of cats.\")"
   ]
  },
  {
   "cell_type": "markdown",
   "id": "G7dI86rmRGmC",
   "metadata": {
    "id": "G7dI86rmRGmC"
   },
   "source": [
    "**Expected Output:**\n",
    "\n",
    "```\n",
    "There are 12501 images of dogs.\n",
    "There are 12501 images of cats.\n",
    "```"
   ]
  },
  {
   "cell_type": "markdown",
   "id": "iFbMliudNIjW",
   "metadata": {
    "id": "iFbMliudNIjW"
   },
   "source": [
    "You will need a directory for cats-v-dogs, and subdirectories for training\n",
    "and testing. These in turn will need subdirectories for 'cats' and 'dogs'. To accomplish this, complete the `create_train_test_dirs` below:"
   ]
  },
  {
   "cell_type": "code",
   "execution_count": 40,
   "id": "F-QkLjxpmyK2",
   "metadata": {
    "cellView": "code",
    "colab": {
     "base_uri": "https://localhost:8080/"
    },
    "id": "F-QkLjxpmyK2",
    "outputId": "2e1a0061-8fc3-4248-cde1-955bfb2fd212"
   },
   "outputs": [
    {
     "name": "stdout",
     "output_type": "stream",
     "text": [
      "/tmp/cats-v-dogs/training\n",
      "/tmp/cats-v-dogs/training/cats\n",
      "/tmp/cats-v-dogs/training/dogs\n",
      "/tmp/cats-v-dogs/testing\n",
      "/tmp/cats-v-dogs/testing/cats\n",
      "/tmp/cats-v-dogs/testing/dogs\n"
     ]
    }
   ],
   "source": [
    "# Define root directory\n",
    "root_dir = '/tmp/cats-v-dogs'\n",
    "\n",
    "# Empty directory to prevent FileExistsError is the function is run several times\n",
    "if os.path.exists(root_dir):\n",
    "  shutil.rmtree(root_dir)\n",
    "\n",
    "# GRADED FUNCTION: create_train_test_dirs\n",
    "def create_train_test_dirs(root_path):\n",
    "  ### START CODE HERE\n",
    "\n",
    "  # HINT:\n",
    "  # Use os.makedirs to create your directories with intermediate subdirectories\n",
    "  # Don't hardcode the paths. Use os.path.join to append the new directories to the root_path parameter\n",
    "  \n",
    "  dirs = ['training', 'testing']\n",
    "  files = ['cats','dogs']\n",
    "\n",
    "  for train_test_dirs in dirs:   \n",
    "    print(os.path.join(root_path, train_test_dirs))\n",
    "    for cats_and_dogs in files:\n",
    "      path = os.path.join(root_path, train_test_dirs, cats_and_dogs)\n",
    "      os.makedirs(path, exist_ok = True)  \n",
    "      print(os.path.join(root_path, train_test_dirs, cats_and_dogs))\n",
    "\n",
    "\n",
    "  pass\n",
    "\n",
    "  ### END CODE HERE\n",
    "\n",
    "  \n",
    "try:\n",
    "  #create_train_test_dirs(root_path=root_dir)\n",
    "  create_train_test_dirs(root_dir)\n",
    "except FileExistsError:\n",
    "  print(\"You should not be seeing this since the upper directory is removed beforehand\")"
   ]
  },
  {
   "cell_type": "code",
   "execution_count": 41,
   "id": "5dhtL344OK00",
   "metadata": {
    "colab": {
     "base_uri": "https://localhost:8080/"
    },
    "id": "5dhtL344OK00",
    "outputId": "439842bc-85b4-4361-8f2d-b23d33313b5b"
   },
   "outputs": [
    {
     "name": "stdout",
     "output_type": "stream",
     "text": [
      "/tmp/cats-v-dogs/testing\n",
      "/tmp/cats-v-dogs/training\n",
      "/tmp/cats-v-dogs/testing/dogs\n",
      "/tmp/cats-v-dogs/testing/cats\n",
      "/tmp/cats-v-dogs/training/dogs\n",
      "/tmp/cats-v-dogs/training/cats\n"
     ]
    }
   ],
   "source": [
    "# Test your create_train_test_dirs function\n",
    "\n",
    "for rootdir, dirs, files in os.walk(root_dir):\n",
    "    for subdir in dirs:\n",
    "        print(os.path.join(rootdir, subdir))"
   ]
  },
  {
   "cell_type": "markdown",
   "id": "D7A0RK3IQsvg",
   "metadata": {
    "id": "D7A0RK3IQsvg"
   },
   "source": [
    "**Expected Output (directory order might vary):**\n",
    "\n",
    "``` txt\n",
    "/tmp/cats-v-dogs/training\n",
    "/tmp/cats-v-dogs/testing\n",
    "/tmp/cats-v-dogs/training/cats\n",
    "/tmp/cats-v-dogs/training/dogs\n",
    "/tmp/cats-v-dogs/testing/cats\n",
    "/tmp/cats-v-dogs/testing/dogs\n",
    "\n",
    "```"
   ]
  },
  {
   "cell_type": "markdown",
   "id": "R93T7HdE5txZ",
   "metadata": {
    "id": "R93T7HdE5txZ"
   },
   "source": [
    "Code the `split_data` function which takes in the following arguments:\n",
    "- SOURCE: directory containing the files\n",
    "\n",
    "- TRAINING: directory that a portion of the files will be copied to (will be used for training)\n",
    "- TESTING: directory that a portion of the files will be copied to (will be used for testing)\n",
    "- SPLIT SIZE: to determine the portion\n",
    "\n",
    "The files should be randomized, so that the training set is a random sample of the files, and the test set is made up of the remaining files.\n",
    "\n",
    "For example, if `SOURCE` is `PetImages/Cat`, and `SPLIT` SIZE is .9 then 90% of the images in `PetImages/Cat` will be copied to the `TRAINING` dir\n",
    "and 10% of the images will be copied to the `TESTING` dir.\n",
    "\n",
    "All images should be checked before the copy, so if they have a zero file length, they will be omitted from the copying process. If this is the case then your function should print out a message such as `\"filename is zero length, so ignoring.\"`. **You should perform this check before the split so that only non-zero images are considered when doing the actual split.**\n",
    "\n",
    "\n",
    "Hints:\n",
    "\n",
    "- `os.listdir(DIRECTORY)` returns a list with the contents of that directory.\n",
    "\n",
    "- `os.path.getsize(PATH)` returns the size of the file\n",
    "\n",
    "- `copyfile(source, destination)` copies a file from source to destination\n",
    "\n",
    "- `random.sample(list, len(list))` shuffles a list"
   ]
  },
  {
   "cell_type": "code",
   "execution_count": 6,
   "id": "zvSODo0f9LaU",
   "metadata": {
    "cellView": "code",
    "id": "zvSODo0f9LaU"
   },
   "outputs": [],
   "source": [
    "# GRADED FUNCTION: split_data\n",
    "def split_data(SOURCE, TRAINING, TESTING, SPLIT_SIZE):\n",
    "\n",
    "  ### START CODE HERE\n",
    "  source = os.listdir(SOURCE)\n",
    "  #print('SOURCE: ', SOURCE)\n",
    "  #print('source: ' , source)\n",
    "  all_files = []\n",
    "  for file_name in source:\n",
    "    file_path = SOURCE + file_name\n",
    "    #print('file_path: ', file_path)\n",
    "    \n",
    "    if os.path.getsize(file_path):\n",
    "      all_files.append(file_name)\n",
    "      #print('file_name: ', file_name)\n",
    "    else:\n",
    "      print('{}.jpg is zero length, so ignoring.'.format(file_name))\n",
    "\n",
    "  shuffle = random.sample(all_files, len(all_files))\n",
    "  train = shuffle[:int(SPLIT_SIZE * len(all_files))]\n",
    "  test = shuffle[int(SPLIT_SIZE * len(all_files)):]\n",
    "\n",
    "\n",
    "  for train_sample in train:\n",
    "    copyfile(SOURCE + train_sample, TRAINING + train_sample)\n",
    "  for test_sample in test: \n",
    "    copyfile(SOURCE + test_sample, TESTING + test_sample)\n",
    "\n",
    "  pass\n",
    "\n",
    "  ### END CODE HERE\n"
   ]
  },
  {
   "cell_type": "code",
   "execution_count": 7,
   "id": "FlIdoUeX9S-9",
   "metadata": {
    "colab": {
     "base_uri": "https://localhost:8080/"
    },
    "id": "FlIdoUeX9S-9",
    "outputId": "28b07adf-7bbe-45c1-8086-8a8cb2e35d6f"
   },
   "outputs": [
    {
     "name": "stdout",
     "output_type": "stream",
     "text": [
      "666.jpg.jpg is zero length, so ignoring.\n",
      "11702.jpg.jpg is zero length, so ignoring.\n",
      "\n",
      "\n",
      "There are 11250 images of cats for training\n",
      "There are 11250 images of dogs for training\n",
      "There are 1250 images of cats for testing\n",
      "There are 1250 images of dogs for testing\n"
     ]
    }
   ],
   "source": [
    "# Test your split_data function\n",
    "\n",
    "# Define paths\n",
    "CAT_SOURCE_DIR = \"/tmp/PetImages/Cat/\"\n",
    "DOG_SOURCE_DIR = \"/tmp/PetImages/Dog/\"\n",
    "\n",
    "TRAINING_DIR = \"/tmp/cats-v-dogs/training/\"\n",
    "TESTING_DIR = \"/tmp/cats-v-dogs/testing/\"\n",
    "\n",
    "TRAINING_CATS_DIR = os.path.join(TRAINING_DIR, \"cats/\")\n",
    "TESTING_CATS_DIR = os.path.join(TESTING_DIR, \"cats/\")\n",
    "\n",
    "TRAINING_DOGS_DIR = os.path.join(TRAINING_DIR, \"dogs/\")\n",
    "TESTING_DOGS_DIR = os.path.join(TESTING_DIR, \"dogs/\")\n",
    "\n",
    "# Empty directories in case you run this cell multiple times\n",
    "if len(os.listdir(TRAINING_CATS_DIR)) > 0:\n",
    "  for file in os.scandir(TRAINING_CATS_DIR):\n",
    "    os.remove(file.path)\n",
    "if len(os.listdir(TRAINING_DOGS_DIR)) > 0:\n",
    "  for file in os.scandir(TRAINING_DOGS_DIR):\n",
    "    os.remove(file.path)\n",
    "if len(os.listdir(TESTING_CATS_DIR)) > 0:\n",
    "  for file in os.scandir(TESTING_CATS_DIR):\n",
    "    os.remove(file.path)\n",
    "if len(os.listdir(TESTING_DOGS_DIR)) > 0:\n",
    "  for file in os.scandir(TESTING_DOGS_DIR):\n",
    "    os.remove(file.path)\n",
    "\n",
    "# Define proportion of images used for training\n",
    "split_size = .9\n",
    "\n",
    "# Run the function\n",
    "# NOTE: Messages about zero length images should be printed out\n",
    "split_data(CAT_SOURCE_DIR, TRAINING_CATS_DIR, TESTING_CATS_DIR, split_size)\n",
    "split_data(DOG_SOURCE_DIR, TRAINING_DOGS_DIR, TESTING_DOGS_DIR, split_size)\n",
    "\n",
    "# Check that the number of images matches the expected output\n",
    "print(f\"\\n\\nThere are {len(os.listdir(TRAINING_CATS_DIR))} images of cats for training\")\n",
    "print(f\"There are {len(os.listdir(TRAINING_DOGS_DIR))} images of dogs for training\")\n",
    "print(f\"There are {len(os.listdir(TESTING_CATS_DIR))} images of cats for testing\")\n",
    "print(f\"There are {len(os.listdir(TESTING_DOGS_DIR))} images of dogs for testing\")\n"
   ]
  },
  {
   "cell_type": "markdown",
   "id": "Zil4QmOD_mXF",
   "metadata": {
    "id": "Zil4QmOD_mXF"
   },
   "source": [
    "Now that you have successfully organized the data in a way that can be easily fed to Keras' `ImageDataGenerator`, it is time for you to code the generators that will yield batches of images, both for training and validation. For this, complete the `train_val_generators` function below.\n",
    "\n",
    "Something important to note is that the images in this dataset come in a variety of resolutions. Luckily, the `flow_from_directory` method allows you to standarize this by defining a tuple called `target_size` that will be used to convert each image to this target resolution. **For this exercise, use a `target_size` of (150, 150)**.\n",
    "\n",
    "**Note:** So far, you have seen the term `testing` being used a lot for referring to a subset of images within the dataset. In this exercise, all of the `testing` data is actually being used as `validation` data. This is not very important within the context of the task at hand but it is worth mentioning to avoid confusion."
   ]
  },
  {
   "cell_type": "markdown",
   "id": "hvskJNOFVSaz",
   "metadata": {
    "id": "hvskJNOFVSaz"
   },
   "source": [
    "**Expected Output:**\n",
    "\n",
    "```\n",
    "666.jpg is zero length, so ignoring.\n",
    "11702.jpg is zero length, so ignoring.\n",
    "```\n",
    "\n",
    "```\n",
    "There are 11250 images of cats for training\n",
    "There are 11250 images of dogs for training\n",
    "There are 1250 images of cats for testing\n",
    "There are 1250 images of dogs for testing\n",
    "```"
   ]
  },
  {
   "cell_type": "code",
   "execution_count": 29,
   "id": "fQrZfVgz4j2g",
   "metadata": {
    "cellView": "code",
    "id": "fQrZfVgz4j2g"
   },
   "outputs": [],
   "source": [
    "# GRADED FUNCTION: train_val_generators\n",
    "def train_val_generators(TRAINING_DIR, VALIDATION_DIR):\n",
    "  ### START CODE HERE\n",
    "\n",
    "  # Instantiate the ImageDataGenerator class (don't forget to set the rescale argument)\n",
    "  train_datagen = ImageDataGenerator(rescale=1/255)\n",
    "\n",
    "  # Pass in the appropiate arguments to the flow_from_directory method\n",
    "  train_generator = train_datagen.flow_from_directory(directory=TRAINING_DIR,\n",
    "                                                      batch_size=20,\n",
    "                                                      class_mode='binary',\n",
    "                                                      target_size=(150, 150))\n",
    "\n",
    "  # Instantiate the ImageDataGenerator class (don't forget to set the rescale argument)\n",
    "  validation_datagen = ImageDataGenerator(rescale=1/255)\n",
    "\n",
    "  # Pass in the appropiate arguments to the flow_from_directory method\n",
    "  validation_generator = validation_datagen.flow_from_directory(directory=VALIDATION_DIR,\n",
    "                                                                batch_size=20,\n",
    "                                                                class_mode='binary',\n",
    "                                                                target_size=(150, 150))\n",
    "  ### END CODE HERE\n",
    "  return train_generator, validation_generator\n"
   ]
  },
  {
   "cell_type": "code",
   "execution_count": 30,
   "id": "qM7FxrjGiobD",
   "metadata": {
    "colab": {
     "base_uri": "https://localhost:8080/"
    },
    "id": "qM7FxrjGiobD",
    "outputId": "1718e46d-4b57-4e45-e1aa-0cc261fefd95"
   },
   "outputs": [
    {
     "name": "stdout",
     "output_type": "stream",
     "text": [
      "Found 22498 images belonging to 2 classes.\n",
      "Found 2500 images belonging to 2 classes.\n"
     ]
    }
   ],
   "source": [
    "# Test your generators\n",
    "train_generator, validation_generator = train_val_generators(TRAINING_DIR, TESTING_DIR)"
   ]
  },
  {
   "cell_type": "markdown",
   "id": "tiPNmSfZjHwJ",
   "metadata": {
    "id": "tiPNmSfZjHwJ"
   },
   "source": [
    "**Expected Output:**\n",
    "\n",
    "```\n",
    "Found 22498 images belonging to 2 classes.\n",
    "Found 2500 images belonging to 2 classes.\n",
    "```\n"
   ]
  },
  {
   "cell_type": "markdown",
   "id": "TI3oEmyQCZoO",
   "metadata": {
    "id": "TI3oEmyQCZoO"
   },
   "source": [
    "One last step before training is to define the architecture of the model that will be trained.\n",
    "\n",
    "Complete the `create_model` function below which should return a Keras' `Sequential` model.\n",
    "\n",
    "Aside from defining the architecture of the model, you should also compile it so make sure to use a `loss` function that is compatible with the `class_mode` you defined in the previous exercise, which should also be compatible with the output of your network. You can tell if they aren't compatible if you get an error during training.\n",
    "\n",
    "**Note that you should use at least 3 convolution layers to achieve the desired performance.**"
   ]
  },
  {
   "cell_type": "code",
   "execution_count": 31,
   "id": "4ad2lybCDP6C",
   "metadata": {
    "colab": {
     "base_uri": "https://localhost:8080/"
    },
    "id": "4ad2lybCDP6C",
    "outputId": "52d8d6a3-732a-4eff-f9ca-7f99330f8a41"
   },
   "outputs": [
    {
     "name": "stdout",
     "output_type": "stream",
     "text": [
      "data batch shape: (20, 150, 150, 3)\n",
      "labels batch shape: (20,)\n"
     ]
    }
   ],
   "source": [
    "for data_batch, labels_batch in train_generator:\n",
    "    print('data batch shape:', data_batch.shape)\n",
    "    print('labels batch shape:', labels_batch.shape)\n",
    "    break"
   ]
  },
  {
   "cell_type": "code",
   "execution_count": 32,
   "id": "oDPK8tUB_O9e",
   "metadata": {
    "cellView": "code",
    "id": "oDPK8tUB_O9e",
    "lines_to_next_cell": 2
   },
   "outputs": [],
   "source": [
    "from tensorflow.keras.optimizers import RMSprop\n",
    "\n",
    "# GRADED FUNCTION: create_model\n",
    "def create_model():\n",
    "  # DEFINE A KERAS MODEL TO CLASSIFY CATS V DOGS\n",
    "  # USE AT LEAST 3 CONVOLUTION LAYERS\n",
    "\n",
    "  ### START CODE HERE\n",
    "\n",
    "  model = tf.keras.models.Sequential([ \n",
    "            tf.keras.layers.Conv2D(32, (3, 3), padding = 'same', activation = 'relu', input_shape=(150,150,3)),\n",
    "            tf.keras.layers.MaxPooling2D(2,2),\n",
    "            tf.keras.layers.Conv2D(64, (3, 3), padding = 'same', activation = 'relu'),\n",
    "            tf.keras.layers.MaxPooling2D(2,2),\n",
    "            tf.keras.layers.Conv2D(128, (3, 3), padding = 'same', activation = 'relu'),\n",
    "            tf.keras.layers.MaxPooling2D(2,2),\n",
    "            tf.keras.layers.Flatten(),\n",
    "            tf.keras.layers.Dense(512, activation = 'relu'),\n",
    "            tf.keras.layers.Dense(1, activation = 'sigmoid')\n",
    "  ])\n",
    "\n",
    "  \n",
    "  model.compile(optimizer=RMSprop(learning_rate=0.001),\n",
    "                loss='binary_crossentropy',\n",
    "                metrics=['accuracy']) \n",
    "  \n",
    "  model.summary()\n",
    "  ### END CODE HERE\n",
    "\n",
    "  return model\n"
   ]
  },
  {
   "cell_type": "markdown",
   "id": "SMFNJZmTCZv6",
   "metadata": {
    "id": "SMFNJZmTCZv6"
   },
   "source": [
    "Now it is time to train your model!\n",
    "\n",
    "**Note:** You can ignore the `UserWarning: Possibly corrupt EXIF data.` warnings."
   ]
  },
  {
   "cell_type": "code",
   "execution_count": 34,
   "id": "5qE1G6JB4fMn",
   "metadata": {
    "colab": {
     "base_uri": "https://localhost:8080/"
    },
    "id": "5qE1G6JB4fMn",
    "outputId": "a0aa19e0-e323-4e60-ff8d-45035b34bc0a"
   },
   "outputs": [
    {
     "name": "stdout",
     "output_type": "stream",
     "text": [
      "Model: \"sequential_5\"\n",
      "_________________________________________________________________\n",
      " Layer (type)                Output Shape              Param #   \n",
      "=================================================================\n",
      " conv2d_15 (Conv2D)          (None, 150, 150, 32)      896       \n",
      "                                                                 \n",
      " max_pooling2d_15 (MaxPoolin  (None, 75, 75, 32)       0         \n",
      " g2D)                                                            \n",
      "                                                                 \n",
      " conv2d_16 (Conv2D)          (None, 75, 75, 64)        18496     \n",
      "                                                                 \n",
      " max_pooling2d_16 (MaxPoolin  (None, 37, 37, 64)       0         \n",
      " g2D)                                                            \n",
      "                                                                 \n",
      " conv2d_17 (Conv2D)          (None, 37, 37, 128)       73856     \n",
      "                                                                 \n",
      " max_pooling2d_17 (MaxPoolin  (None, 18, 18, 128)      0         \n",
      " g2D)                                                            \n",
      "                                                                 \n",
      " flatten_5 (Flatten)         (None, 41472)             0         \n",
      "                                                                 \n",
      " dense_10 (Dense)            (None, 512)               21234176  \n",
      "                                                                 \n",
      " dense_11 (Dense)            (None, 1)                 513       \n",
      "                                                                 \n",
      "=================================================================\n",
      "Total params: 21,327,937\n",
      "Trainable params: 21,327,937\n",
      "Non-trainable params: 0\n",
      "_________________________________________________________________\n",
      "Epoch 1/100\n",
      "100/100 [==============================] - 12s 114ms/step - loss: 0.9612 - accuracy: 0.5400 - val_loss: 0.6809 - val_accuracy: 0.5710\n",
      "Epoch 2/100\n",
      "100/100 [==============================] - 11s 111ms/step - loss: 0.7051 - accuracy: 0.6055 - val_loss: 0.6076 - val_accuracy: 0.6750\n",
      "Epoch 3/100\n",
      "100/100 [==============================] - 11s 112ms/step - loss: 0.6516 - accuracy: 0.6610 - val_loss: 0.5811 - val_accuracy: 0.6930\n",
      "Epoch 4/100\n",
      "100/100 [==============================] - 11s 113ms/step - loss: 0.6021 - accuracy: 0.6875 - val_loss: 0.6116 - val_accuracy: 0.6680\n",
      "Epoch 5/100\n",
      "100/100 [==============================] - 11s 113ms/step - loss: 0.5891 - accuracy: 0.7020 - val_loss: 0.5324 - val_accuracy: 0.7360\n",
      "Epoch 6/100\n",
      "100/100 [==============================] - 13s 132ms/step - loss: 0.5437 - accuracy: 0.7335 - val_loss: 0.5319 - val_accuracy: 0.7550\n",
      "Epoch 7/100\n",
      "100/100 [==============================] - 11s 113ms/step - loss: 0.5243 - accuracy: 0.7330 - val_loss: 0.5158 - val_accuracy: 0.7410\n",
      "Epoch 8/100\n",
      "100/100 [==============================] - 11s 114ms/step - loss: 0.5037 - accuracy: 0.7570 - val_loss: 0.5056 - val_accuracy: 0.7510\n",
      "Epoch 9/100\n",
      "100/100 [==============================] - 13s 131ms/step - loss: 0.4880 - accuracy: 0.7710 - val_loss: 0.5358 - val_accuracy: 0.7400\n",
      "Epoch 10/100\n",
      "100/100 [==============================] - 11s 115ms/step - loss: 0.4853 - accuracy: 0.7715 - val_loss: 0.5460 - val_accuracy: 0.7360\n",
      "Epoch 11/100\n",
      "100/100 [==============================] - 13s 132ms/step - loss: 0.4754 - accuracy: 0.7790 - val_loss: 0.4657 - val_accuracy: 0.7660\n",
      "Epoch 12/100\n",
      "100/100 [==============================] - 11s 113ms/step - loss: 0.4620 - accuracy: 0.7910 - val_loss: 0.5141 - val_accuracy: 0.7640\n",
      "Epoch 13/100\n",
      " 25/100 [======>.......................] - ETA: 5s - loss: 0.4498 - accuracy: 0.8000"
     ]
    },
    {
     "name": "stderr",
     "output_type": "stream",
     "text": [
      "/usr/local/lib/python3.7/dist-packages/PIL/TiffImagePlugin.py:770: UserWarning: Possibly corrupt EXIF data.  Expecting to read 32 bytes but only got 0. Skipping tag 270\n",
      "  \" Skipping tag %s\" % (size, len(data), tag)\n",
      "/usr/local/lib/python3.7/dist-packages/PIL/TiffImagePlugin.py:770: UserWarning: Possibly corrupt EXIF data.  Expecting to read 5 bytes but only got 0. Skipping tag 271\n",
      "  \" Skipping tag %s\" % (size, len(data), tag)\n",
      "/usr/local/lib/python3.7/dist-packages/PIL/TiffImagePlugin.py:770: UserWarning: Possibly corrupt EXIF data.  Expecting to read 8 bytes but only got 0. Skipping tag 272\n",
      "  \" Skipping tag %s\" % (size, len(data), tag)\n",
      "/usr/local/lib/python3.7/dist-packages/PIL/TiffImagePlugin.py:770: UserWarning: Possibly corrupt EXIF data.  Expecting to read 8 bytes but only got 0. Skipping tag 282\n",
      "  \" Skipping tag %s\" % (size, len(data), tag)\n",
      "/usr/local/lib/python3.7/dist-packages/PIL/TiffImagePlugin.py:770: UserWarning: Possibly corrupt EXIF data.  Expecting to read 8 bytes but only got 0. Skipping tag 283\n",
      "  \" Skipping tag %s\" % (size, len(data), tag)\n",
      "/usr/local/lib/python3.7/dist-packages/PIL/TiffImagePlugin.py:770: UserWarning: Possibly corrupt EXIF data.  Expecting to read 20 bytes but only got 0. Skipping tag 306\n",
      "  \" Skipping tag %s\" % (size, len(data), tag)\n",
      "/usr/local/lib/python3.7/dist-packages/PIL/TiffImagePlugin.py:770: UserWarning: Possibly corrupt EXIF data.  Expecting to read 48 bytes but only got 0. Skipping tag 532\n",
      "  \" Skipping tag %s\" % (size, len(data), tag)\n",
      "/usr/local/lib/python3.7/dist-packages/PIL/TiffImagePlugin.py:788: UserWarning: Corrupt EXIF data.  Expecting to read 2 bytes but only got 0. \n",
      "  warnings.warn(str(msg))\n"
     ]
    },
    {
     "name": "stdout",
     "output_type": "stream",
     "text": [
      "100/100 [==============================] - 13s 131ms/step - loss: 0.4631 - accuracy: 0.7920 - val_loss: 0.4558 - val_accuracy: 0.7960\n",
      "Epoch 14/100\n",
      "100/100 [==============================] - 11s 114ms/step - loss: 0.4563 - accuracy: 0.7818 - val_loss: 0.4301 - val_accuracy: 0.8090\n",
      "Epoch 15/100\n",
      "100/100 [==============================] - 11s 115ms/step - loss: 0.4598 - accuracy: 0.7995 - val_loss: 0.4836 - val_accuracy: 0.7810\n",
      "Epoch 16/100\n",
      "100/100 [==============================] - 11s 113ms/step - loss: 0.4597 - accuracy: 0.7950 - val_loss: 0.4827 - val_accuracy: 0.7920\n",
      "Epoch 17/100\n",
      "100/100 [==============================] - 13s 132ms/step - loss: 0.4319 - accuracy: 0.8018 - val_loss: 0.4530 - val_accuracy: 0.7900\n",
      "Epoch 18/100\n",
      "100/100 [==============================] - 11s 114ms/step - loss: 0.4366 - accuracy: 0.7975 - val_loss: 0.4846 - val_accuracy: 0.7870\n",
      "Epoch 19/100\n",
      "100/100 [==============================] - 11s 113ms/step - loss: 0.4194 - accuracy: 0.8045 - val_loss: 0.4514 - val_accuracy: 0.7830\n",
      "Epoch 20/100\n",
      "100/100 [==============================] - 11s 114ms/step - loss: 0.4506 - accuracy: 0.8025 - val_loss: 0.5267 - val_accuracy: 0.7380\n",
      "Epoch 21/100\n",
      "100/100 [==============================] - 11s 113ms/step - loss: 0.4087 - accuracy: 0.8190 - val_loss: 0.4293 - val_accuracy: 0.8030\n",
      "Epoch 22/100\n",
      "100/100 [==============================] - 11s 113ms/step - loss: 0.4139 - accuracy: 0.8170 - val_loss: 0.4254 - val_accuracy: 0.8240\n",
      "Epoch 23/100\n",
      "100/100 [==============================] - 11s 115ms/step - loss: 0.4008 - accuracy: 0.8280 - val_loss: 0.4339 - val_accuracy: 0.8080\n",
      "Epoch 24/100\n",
      "100/100 [==============================] - 13s 133ms/step - loss: 0.3895 - accuracy: 0.8345 - val_loss: 0.4708 - val_accuracy: 0.7890\n",
      "Epoch 25/100\n",
      "100/100 [==============================] - 12s 115ms/step - loss: 0.3792 - accuracy: 0.8273 - val_loss: 0.3804 - val_accuracy: 0.8160\n",
      "Epoch 26/100\n",
      "100/100 [==============================] - 12s 115ms/step - loss: 0.3872 - accuracy: 0.8280 - val_loss: 0.4791 - val_accuracy: 0.7780\n",
      "Epoch 27/100\n",
      "100/100 [==============================] - 11s 114ms/step - loss: 0.3601 - accuracy: 0.8470 - val_loss: 0.5032 - val_accuracy: 0.7990\n",
      "Epoch 28/100\n",
      "100/100 [==============================] - 11s 114ms/step - loss: 0.3978 - accuracy: 0.8260 - val_loss: 0.4291 - val_accuracy: 0.8100\n",
      "Epoch 29/100\n",
      "100/100 [==============================] - 13s 131ms/step - loss: 0.3781 - accuracy: 0.8345 - val_loss: 0.4467 - val_accuracy: 0.7990\n",
      "Epoch 30/100\n",
      "100/100 [==============================] - 11s 113ms/step - loss: 0.3688 - accuracy: 0.8525 - val_loss: 0.4421 - val_accuracy: 0.8150\n",
      "Epoch 31/100\n",
      "100/100 [==============================] - 11s 113ms/step - loss: 0.3489 - accuracy: 0.8520 - val_loss: 0.6143 - val_accuracy: 0.7820\n",
      "Epoch 32/100\n",
      "100/100 [==============================] - 13s 131ms/step - loss: 0.3568 - accuracy: 0.8475 - val_loss: 0.5429 - val_accuracy: 0.8160\n",
      "Epoch 33/100\n",
      "100/100 [==============================] - 11s 114ms/step - loss: 0.3343 - accuracy: 0.8609 - val_loss: 0.4614 - val_accuracy: 0.8100\n",
      "Epoch 34/100\n",
      "100/100 [==============================] - 11s 113ms/step - loss: 0.3420 - accuracy: 0.8600 - val_loss: 0.3644 - val_accuracy: 0.8440\n",
      "Epoch 35/100\n",
      "100/100 [==============================] - 11s 114ms/step - loss: 0.3273 - accuracy: 0.8580 - val_loss: 0.3880 - val_accuracy: 0.8150\n",
      "Epoch 36/100\n",
      "100/100 [==============================] - 11s 114ms/step - loss: 0.3360 - accuracy: 0.8660 - val_loss: 0.4507 - val_accuracy: 0.8040\n",
      "Epoch 37/100\n",
      "100/100 [==============================] - 11s 114ms/step - loss: 0.3253 - accuracy: 0.8710 - val_loss: 0.4518 - val_accuracy: 0.8210\n",
      "Epoch 38/100\n",
      "100/100 [==============================] - 11s 114ms/step - loss: 0.3549 - accuracy: 0.8515 - val_loss: 0.4062 - val_accuracy: 0.8390\n",
      "Epoch 39/100\n",
      "100/100 [==============================] - 12s 115ms/step - loss: 0.3275 - accuracy: 0.8714 - val_loss: 0.4936 - val_accuracy: 0.7940\n",
      "Epoch 40/100\n",
      "100/100 [==============================] - 12s 115ms/step - loss: 0.3248 - accuracy: 0.8705 - val_loss: 0.4386 - val_accuracy: 0.7860\n",
      "Epoch 41/100\n",
      "100/100 [==============================] - 11s 113ms/step - loss: 0.3337 - accuracy: 0.8550 - val_loss: 0.4219 - val_accuracy: 0.8190\n",
      "Epoch 42/100\n",
      "100/100 [==============================] - 13s 133ms/step - loss: 0.3266 - accuracy: 0.8585 - val_loss: 0.3819 - val_accuracy: 0.8400\n",
      "Epoch 43/100\n",
      "100/100 [==============================] - 13s 133ms/step - loss: 0.3398 - accuracy: 0.8590 - val_loss: 0.5346 - val_accuracy: 0.8030\n",
      "Epoch 44/100\n",
      "100/100 [==============================] - 11s 114ms/step - loss: 0.3215 - accuracy: 0.8665 - val_loss: 0.3668 - val_accuracy: 0.8360\n",
      "Epoch 45/100\n",
      "100/100 [==============================] - 11s 114ms/step - loss: 0.3212 - accuracy: 0.8705 - val_loss: 0.5104 - val_accuracy: 0.7900\n",
      "Epoch 46/100\n",
      "100/100 [==============================] - 11s 114ms/step - loss: 0.3033 - accuracy: 0.8795 - val_loss: 0.4753 - val_accuracy: 0.7810\n",
      "Epoch 47/100\n",
      "100/100 [==============================] - 13s 132ms/step - loss: 0.3050 - accuracy: 0.8744 - val_loss: 0.4345 - val_accuracy: 0.8480\n",
      "Epoch 48/100\n",
      "100/100 [==============================] - 11s 114ms/step - loss: 0.2720 - accuracy: 0.8939 - val_loss: 0.4169 - val_accuracy: 0.8490\n",
      "Epoch 49/100\n",
      "100/100 [==============================] - 13s 132ms/step - loss: 0.2921 - accuracy: 0.8960 - val_loss: 0.4086 - val_accuracy: 0.8310\n",
      "Epoch 50/100\n",
      "100/100 [==============================] - 12s 115ms/step - loss: 0.3021 - accuracy: 0.8795 - val_loss: 0.4694 - val_accuracy: 0.8230\n",
      "Epoch 51/100\n",
      "100/100 [==============================] - 11s 114ms/step - loss: 0.3016 - accuracy: 0.8785 - val_loss: 0.4240 - val_accuracy: 0.8300\n",
      "Epoch 52/100\n",
      "100/100 [==============================] - 11s 115ms/step - loss: 0.2895 - accuracy: 0.8845 - val_loss: 0.5206 - val_accuracy: 0.7580\n",
      "Epoch 53/100\n",
      "100/100 [==============================] - 13s 132ms/step - loss: 0.3011 - accuracy: 0.8869 - val_loss: 0.4627 - val_accuracy: 0.8450\n",
      "Epoch 54/100\n",
      "100/100 [==============================] - 12s 115ms/step - loss: 0.2752 - accuracy: 0.8925 - val_loss: 0.4172 - val_accuracy: 0.8290\n",
      "Epoch 55/100\n",
      "100/100 [==============================] - 11s 115ms/step - loss: 0.2957 - accuracy: 0.8915 - val_loss: 0.3890 - val_accuracy: 0.8360\n",
      "Epoch 56/100\n",
      "100/100 [==============================] - 11s 114ms/step - loss: 0.2966 - accuracy: 0.8815 - val_loss: 0.4130 - val_accuracy: 0.8380\n",
      "Epoch 57/100\n",
      "100/100 [==============================] - 13s 131ms/step - loss: 0.2857 - accuracy: 0.8870 - val_loss: 0.6520 - val_accuracy: 0.8230\n",
      "Epoch 58/100\n",
      "100/100 [==============================] - 11s 114ms/step - loss: 0.2947 - accuracy: 0.8850 - val_loss: 0.4286 - val_accuracy: 0.8500\n",
      "Epoch 59/100\n",
      "100/100 [==============================] - 13s 131ms/step - loss: 0.2880 - accuracy: 0.8835 - val_loss: 0.4971 - val_accuracy: 0.8310\n",
      "Epoch 60/100\n",
      "100/100 [==============================] - 11s 115ms/step - loss: 0.2827 - accuracy: 0.8760 - val_loss: 0.4087 - val_accuracy: 0.8570\n",
      "Epoch 61/100\n",
      "100/100 [==============================] - 12s 115ms/step - loss: 0.2686 - accuracy: 0.8925 - val_loss: 0.3933 - val_accuracy: 0.8470\n",
      "Epoch 62/100\n",
      "100/100 [==============================] - 11s 115ms/step - loss: 0.2687 - accuracy: 0.8924 - val_loss: 0.4149 - val_accuracy: 0.8440\n",
      "Epoch 63/100\n",
      "100/100 [==============================] - 13s 133ms/step - loss: 0.2810 - accuracy: 0.8855 - val_loss: 0.4378 - val_accuracy: 0.8410\n",
      "Epoch 64/100\n",
      "100/100 [==============================] - 12s 116ms/step - loss: 0.2817 - accuracy: 0.8880 - val_loss: 0.3709 - val_accuracy: 0.8500\n",
      "Epoch 65/100\n",
      "100/100 [==============================] - 11s 115ms/step - loss: 0.2602 - accuracy: 0.8955 - val_loss: 0.5009 - val_accuracy: 0.8290\n",
      "Epoch 66/100\n",
      "100/100 [==============================] - 12s 115ms/step - loss: 0.2822 - accuracy: 0.8884 - val_loss: 0.5682 - val_accuracy: 0.8320\n",
      "Epoch 67/100\n",
      "100/100 [==============================] - 11s 115ms/step - loss: 0.2925 - accuracy: 0.8930 - val_loss: 0.4276 - val_accuracy: 0.8540\n",
      "Epoch 68/100\n",
      "100/100 [==============================] - 11s 113ms/step - loss: 0.2934 - accuracy: 0.8905 - val_loss: 0.4198 - val_accuracy: 0.8370\n",
      "Epoch 69/100\n",
      "100/100 [==============================] - 11s 114ms/step - loss: 0.2785 - accuracy: 0.8905 - val_loss: 0.6794 - val_accuracy: 0.8220\n",
      "Epoch 70/100\n",
      "100/100 [==============================] - 11s 115ms/step - loss: 0.2787 - accuracy: 0.9019 - val_loss: 0.3862 - val_accuracy: 0.8320\n",
      "Epoch 71/100\n",
      "100/100 [==============================] - 11s 115ms/step - loss: 0.2821 - accuracy: 0.8944 - val_loss: 0.4092 - val_accuracy: 0.8390\n",
      "Epoch 72/100\n",
      "100/100 [==============================] - 11s 113ms/step - loss: 0.2738 - accuracy: 0.8939 - val_loss: 0.4502 - val_accuracy: 0.8440\n",
      "Epoch 73/100\n",
      "100/100 [==============================] - 13s 132ms/step - loss: 0.2714 - accuracy: 0.8985 - val_loss: 0.5024 - val_accuracy: 0.8330\n",
      "Epoch 74/100\n",
      "100/100 [==============================] - 12s 115ms/step - loss: 0.2534 - accuracy: 0.9085 - val_loss: 0.3855 - val_accuracy: 0.8630\n",
      "Epoch 75/100\n",
      "100/100 [==============================] - 11s 114ms/step - loss: 0.2738 - accuracy: 0.8985 - val_loss: 0.4170 - val_accuracy: 0.8380\n",
      "Epoch 76/100\n",
      "100/100 [==============================] - 11s 114ms/step - loss: 0.2684 - accuracy: 0.8995 - val_loss: 0.4672 - val_accuracy: 0.8450\n",
      "Epoch 77/100\n",
      "100/100 [==============================] - 11s 113ms/step - loss: 0.2775 - accuracy: 0.8980 - val_loss: 0.4751 - val_accuracy: 0.8580\n",
      "Epoch 78/100\n",
      "100/100 [==============================] - 13s 131ms/step - loss: 0.2524 - accuracy: 0.9065 - val_loss: 0.4749 - val_accuracy: 0.8500\n",
      "Epoch 79/100\n",
      "100/100 [==============================] - 12s 115ms/step - loss: 0.2652 - accuracy: 0.9030 - val_loss: 0.4308 - val_accuracy: 0.8510\n",
      "Epoch 80/100\n",
      "100/100 [==============================] - 11s 114ms/step - loss: 0.2858 - accuracy: 0.8955 - val_loss: 0.4448 - val_accuracy: 0.8010\n",
      "Epoch 81/100\n",
      "100/100 [==============================] - 12s 116ms/step - loss: 0.2369 - accuracy: 0.9080 - val_loss: 0.4980 - val_accuracy: 0.7670\n",
      "Epoch 82/100\n",
      "100/100 [==============================] - 11s 114ms/step - loss: 0.2798 - accuracy: 0.8910 - val_loss: 0.4650 - val_accuracy: 0.8360\n",
      "Epoch 83/100\n",
      "100/100 [==============================] - 13s 132ms/step - loss: 0.2784 - accuracy: 0.8815 - val_loss: 0.6207 - val_accuracy: 0.8250\n",
      "Epoch 84/100\n",
      "100/100 [==============================] - 13s 131ms/step - loss: 0.2781 - accuracy: 0.9040 - val_loss: 0.3922 - val_accuracy: 0.8650\n",
      "Epoch 85/100\n",
      "100/100 [==============================] - 12s 116ms/step - loss: 0.2825 - accuracy: 0.9025 - val_loss: 0.3899 - val_accuracy: 0.8670\n",
      "Epoch 86/100\n",
      "100/100 [==============================] - 11s 115ms/step - loss: 0.2677 - accuracy: 0.8990 - val_loss: 0.4255 - val_accuracy: 0.8460\n",
      "Epoch 87/100\n",
      "100/100 [==============================] - 13s 133ms/step - loss: 0.2845 - accuracy: 0.8990 - val_loss: 0.4944 - val_accuracy: 0.8330\n",
      "Epoch 88/100\n",
      "100/100 [==============================] - 12s 116ms/step - loss: 0.2620 - accuracy: 0.9025 - val_loss: 0.4996 - val_accuracy: 0.8450\n",
      "Epoch 89/100\n",
      "100/100 [==============================] - 12s 116ms/step - loss: 0.2756 - accuracy: 0.9030 - val_loss: 0.6288 - val_accuracy: 0.7460\n",
      "Epoch 90/100\n",
      "100/100 [==============================] - 13s 133ms/step - loss: 0.2648 - accuracy: 0.9050 - val_loss: 0.4062 - val_accuracy: 0.8510\n",
      "Epoch 91/100\n",
      "100/100 [==============================] - 12s 115ms/step - loss: 0.2606 - accuracy: 0.8995 - val_loss: 0.3804 - val_accuracy: 0.8520\n",
      "Epoch 92/100\n",
      "100/100 [==============================] - 12s 115ms/step - loss: 0.2567 - accuracy: 0.9054 - val_loss: 0.4510 - val_accuracy: 0.8720\n",
      "Epoch 93/100\n",
      "100/100 [==============================] - 12s 115ms/step - loss: 0.2659 - accuracy: 0.9049 - val_loss: 0.4838 - val_accuracy: 0.8220\n",
      "Epoch 94/100\n",
      "100/100 [==============================] - 11s 115ms/step - loss: 0.2340 - accuracy: 0.9110 - val_loss: 0.7445 - val_accuracy: 0.7870\n",
      "Epoch 95/100\n",
      "100/100 [==============================] - 11s 115ms/step - loss: 0.2393 - accuracy: 0.9075 - val_loss: 0.4643 - val_accuracy: 0.8370\n",
      "Epoch 96/100\n",
      "100/100 [==============================] - 11s 113ms/step - loss: 0.2713 - accuracy: 0.9020 - val_loss: 0.3808 - val_accuracy: 0.8660\n",
      "Epoch 97/100\n",
      "100/100 [==============================] - 11s 114ms/step - loss: 0.2439 - accuracy: 0.9105 - val_loss: 0.4414 - val_accuracy: 0.8310\n",
      "Epoch 98/100\n",
      "100/100 [==============================] - 11s 114ms/step - loss: 0.2774 - accuracy: 0.9035 - val_loss: 0.4052 - val_accuracy: 0.8420\n",
      "Epoch 99/100\n",
      "100/100 [==============================] - 12s 115ms/step - loss: 0.2786 - accuracy: 0.9000 - val_loss: 0.5382 - val_accuracy: 0.8540\n",
      "Epoch 100/100\n",
      "100/100 [==============================] - 11s 114ms/step - loss: 0.2414 - accuracy: 0.9110 - val_loss: 0.5415 - val_accuracy: 0.8030\n"
     ]
    }
   ],
   "source": [
    "# Get the untrained model\n",
    "model = create_model()\n",
    "\n",
    "# Train the model\n",
    "# Note that this may take some time.\n",
    "history = model.fit(train_generator,\n",
    "                    steps_per_epoch=100,  \n",
    "                    # Total number of steps (batches of samples) before declaring one epoch finished and starting the next epoch.\n",
    "                    validation_steps=50, \n",
    "                    # Only relevant if validation_data is provided and is a tf.data dataset. \n",
    "                    # Total number of steps (batches of samples) to draw before stopping when \n",
    "                    # performing validation at the end of every epoch. If 'validation_steps' is None, \n",
    "                    # validation will run until the validation_data dataset is exhausted. In the case\n",
    "                    # of an infinitely repeated dataset, it will run into an infinite loop. \n",
    "                    # If 'validation_steps' is specified and only part of the dataset will be consumed,\n",
    "                    # the evaluation will start from the beginning of the dataset at each epoch. \n",
    "                    # This ensures that the same validation samples are used every time.\n",
    "                    epochs=100,\n",
    "                    verbose=1,\n",
    "                    validation_data=validation_generator #Data on which to evaluate the loss and any model metrics at the end of each epoch. \n",
    "                    )\n"
   ]
  },
  {
   "cell_type": "code",
   "execution_count": 36,
   "id": "oQObLQWlzX-v",
   "metadata": {
    "id": "oQObLQWlzX-v"
   },
   "outputs": [],
   "source": [
    "# GRADED FUNCTION: create_model\n",
    "def create_model():\n",
    "  # DEFINE A KERAS MODEL TO CLASSIFY CATS V DOGS\n",
    "  # USE AT LEAST 3 CONVOLUTION LAYERS\n",
    "\n",
    "  ### START CODE HERE\n",
    "\n",
    "  model = tf.keras.models.Sequential([ \n",
    "            tf.keras.layers.Conv2D(32, (3, 3), padding = 'same', activation = 'relu', input_shape=(150,150,3)),\n",
    "            tf.keras.layers.MaxPooling2D(2,2),\n",
    "            tf.keras.layers.Conv2D(64, (3, 3), padding = 'same', activation = 'relu'),\n",
    "            tf.keras.layers.MaxPooling2D(2,2),\n",
    "            tf.keras.layers.Conv2D(128, (3, 3), padding = 'same', activation = 'relu'),\n",
    "            tf.keras.layers.MaxPooling2D(2,2),\n",
    "            tf.keras.layers.Flatten(),\n",
    "            tf.keras.layers.Dense(512, activation = 'relu'),\n",
    "            tf.keras.layers.Dense(1, activation = 'sigmoid')\n",
    "  ])\n",
    "\n",
    "  \n",
    "  model.compile(optimizer='adam',\n",
    "                loss='binary_crossentropy',\n",
    "                metrics=['accuracy']) \n",
    "  \n",
    "  model.summary()\n",
    "  ### END CODE HERE\n",
    "\n",
    "  return model"
   ]
  },
  {
   "cell_type": "code",
   "execution_count": 37,
   "id": "vIIN11gCzkHd",
   "metadata": {
    "colab": {
     "base_uri": "https://localhost:8080/"
    },
    "id": "vIIN11gCzkHd",
    "outputId": "785a0c40-a052-4e67-f0cb-7132daeffc96"
   },
   "outputs": [
    {
     "name": "stdout",
     "output_type": "stream",
     "text": [
      "Model: \"sequential_6\"\n",
      "_________________________________________________________________\n",
      " Layer (type)                Output Shape              Param #   \n",
      "=================================================================\n",
      " conv2d_18 (Conv2D)          (None, 150, 150, 32)      896       \n",
      "                                                                 \n",
      " max_pooling2d_18 (MaxPoolin  (None, 75, 75, 32)       0         \n",
      " g2D)                                                            \n",
      "                                                                 \n",
      " conv2d_19 (Conv2D)          (None, 75, 75, 64)        18496     \n",
      "                                                                 \n",
      " max_pooling2d_19 (MaxPoolin  (None, 37, 37, 64)       0         \n",
      " g2D)                                                            \n",
      "                                                                 \n",
      " conv2d_20 (Conv2D)          (None, 37, 37, 128)       73856     \n",
      "                                                                 \n",
      " max_pooling2d_20 (MaxPoolin  (None, 18, 18, 128)      0         \n",
      " g2D)                                                            \n",
      "                                                                 \n",
      " flatten_6 (Flatten)         (None, 41472)             0         \n",
      "                                                                 \n",
      " dense_12 (Dense)            (None, 512)               21234176  \n",
      "                                                                 \n",
      " dense_13 (Dense)            (None, 1)                 513       \n",
      "                                                                 \n",
      "=================================================================\n",
      "Total params: 21,327,937\n",
      "Trainable params: 21,327,937\n",
      "Non-trainable params: 0\n",
      "_________________________________________________________________\n",
      "Epoch 1/100\n",
      "100/100 [==============================] - 12s 113ms/step - loss: 0.7184 - accuracy: 0.5225 - val_loss: 0.6921 - val_accuracy: 0.5360\n",
      "Epoch 2/100\n",
      "100/100 [==============================] - 11s 112ms/step - loss: 0.6840 - accuracy: 0.5655 - val_loss: 0.6573 - val_accuracy: 0.6030\n",
      "Epoch 3/100\n",
      "100/100 [==============================] - 11s 112ms/step - loss: 0.6569 - accuracy: 0.6165 - val_loss: 0.6323 - val_accuracy: 0.6570\n",
      "Epoch 4/100\n",
      "100/100 [==============================] - 12s 120ms/step - loss: 0.6294 - accuracy: 0.6480 - val_loss: 0.6296 - val_accuracy: 0.6540\n",
      "Epoch 5/100\n",
      "100/100 [==============================] - 11s 113ms/step - loss: 0.5956 - accuracy: 0.6785 - val_loss: 0.5988 - val_accuracy: 0.6750\n",
      "Epoch 6/100\n",
      "100/100 [==============================] - 13s 130ms/step - loss: 0.5714 - accuracy: 0.6995 - val_loss: 0.5414 - val_accuracy: 0.7240\n",
      "Epoch 7/100\n",
      "100/100 [==============================] - 11s 113ms/step - loss: 0.5489 - accuracy: 0.7145 - val_loss: 0.5671 - val_accuracy: 0.7060\n",
      "Epoch 8/100\n",
      " 12/100 [==>...........................] - ETA: 6s - loss: 0.5530 - accuracy: 0.7208"
     ]
    },
    {
     "name": "stderr",
     "output_type": "stream",
     "text": [
      "/usr/local/lib/python3.7/dist-packages/PIL/TiffImagePlugin.py:770: UserWarning: Possibly corrupt EXIF data.  Expecting to read 32 bytes but only got 0. Skipping tag 270\n",
      "  \" Skipping tag %s\" % (size, len(data), tag)\n",
      "/usr/local/lib/python3.7/dist-packages/PIL/TiffImagePlugin.py:770: UserWarning: Possibly corrupt EXIF data.  Expecting to read 5 bytes but only got 0. Skipping tag 271\n",
      "  \" Skipping tag %s\" % (size, len(data), tag)\n",
      "/usr/local/lib/python3.7/dist-packages/PIL/TiffImagePlugin.py:770: UserWarning: Possibly corrupt EXIF data.  Expecting to read 8 bytes but only got 0. Skipping tag 272\n",
      "  \" Skipping tag %s\" % (size, len(data), tag)\n",
      "/usr/local/lib/python3.7/dist-packages/PIL/TiffImagePlugin.py:770: UserWarning: Possibly corrupt EXIF data.  Expecting to read 8 bytes but only got 0. Skipping tag 282\n",
      "  \" Skipping tag %s\" % (size, len(data), tag)\n",
      "/usr/local/lib/python3.7/dist-packages/PIL/TiffImagePlugin.py:770: UserWarning: Possibly corrupt EXIF data.  Expecting to read 8 bytes but only got 0. Skipping tag 283\n",
      "  \" Skipping tag %s\" % (size, len(data), tag)\n",
      "/usr/local/lib/python3.7/dist-packages/PIL/TiffImagePlugin.py:770: UserWarning: Possibly corrupt EXIF data.  Expecting to read 20 bytes but only got 0. Skipping tag 306\n",
      "  \" Skipping tag %s\" % (size, len(data), tag)\n",
      "/usr/local/lib/python3.7/dist-packages/PIL/TiffImagePlugin.py:770: UserWarning: Possibly corrupt EXIF data.  Expecting to read 48 bytes but only got 0. Skipping tag 532\n",
      "  \" Skipping tag %s\" % (size, len(data), tag)\n",
      "/usr/local/lib/python3.7/dist-packages/PIL/TiffImagePlugin.py:788: UserWarning: Corrupt EXIF data.  Expecting to read 2 bytes but only got 0. \n",
      "  warnings.warn(str(msg))\n"
     ]
    },
    {
     "name": "stdout",
     "output_type": "stream",
     "text": [
      "100/100 [==============================] - 11s 112ms/step - loss: 0.5162 - accuracy: 0.7405 - val_loss: 0.4998 - val_accuracy: 0.7520\n",
      "Epoch 9/100\n",
      "100/100 [==============================] - 11s 113ms/step - loss: 0.5214 - accuracy: 0.7260 - val_loss: 0.7285 - val_accuracy: 0.6170\n",
      "Epoch 10/100\n",
      "100/100 [==============================] - 11s 115ms/step - loss: 0.5072 - accuracy: 0.7415 - val_loss: 0.4902 - val_accuracy: 0.7600\n",
      "Epoch 11/100\n",
      "100/100 [==============================] - 11s 113ms/step - loss: 0.4809 - accuracy: 0.7735 - val_loss: 0.5364 - val_accuracy: 0.7360\n",
      "Epoch 12/100\n",
      "100/100 [==============================] - 11s 114ms/step - loss: 0.4471 - accuracy: 0.7925 - val_loss: 0.4850 - val_accuracy: 0.7620\n",
      "Epoch 13/100\n",
      "100/100 [==============================] - 11s 113ms/step - loss: 0.4582 - accuracy: 0.7820 - val_loss: 0.4584 - val_accuracy: 0.7840\n",
      "Epoch 14/100\n",
      "100/100 [==============================] - 11s 112ms/step - loss: 0.4621 - accuracy: 0.7780 - val_loss: 0.4593 - val_accuracy: 0.7900\n",
      "Epoch 15/100\n",
      "100/100 [==============================] - 11s 112ms/step - loss: 0.4143 - accuracy: 0.8085 - val_loss: 0.4914 - val_accuracy: 0.7670\n",
      "Epoch 16/100\n",
      "100/100 [==============================] - 11s 113ms/step - loss: 0.4438 - accuracy: 0.7900 - val_loss: 0.4608 - val_accuracy: 0.7850\n",
      "Epoch 17/100\n",
      "100/100 [==============================] - 11s 114ms/step - loss: 0.4153 - accuracy: 0.8115 - val_loss: 0.5033 - val_accuracy: 0.7500\n",
      "Epoch 18/100\n",
      "100/100 [==============================] - 11s 114ms/step - loss: 0.4156 - accuracy: 0.8095 - val_loss: 0.4395 - val_accuracy: 0.7830\n",
      "Epoch 19/100\n",
      "100/100 [==============================] - 11s 113ms/step - loss: 0.3906 - accuracy: 0.8170 - val_loss: 0.4612 - val_accuracy: 0.7890\n",
      "Epoch 20/100\n",
      "100/100 [==============================] - 11s 113ms/step - loss: 0.3825 - accuracy: 0.8260 - val_loss: 0.4370 - val_accuracy: 0.7950\n",
      "Epoch 21/100\n",
      "100/100 [==============================] - 11s 113ms/step - loss: 0.4012 - accuracy: 0.8260 - val_loss: 0.4094 - val_accuracy: 0.8140\n",
      "Epoch 22/100\n",
      "100/100 [==============================] - 11s 113ms/step - loss: 0.3901 - accuracy: 0.8288 - val_loss: 0.4601 - val_accuracy: 0.7940\n",
      "Epoch 23/100\n",
      "100/100 [==============================] - 11s 113ms/step - loss: 0.3799 - accuracy: 0.8380 - val_loss: 0.4315 - val_accuracy: 0.7950\n",
      "Epoch 24/100\n",
      "100/100 [==============================] - 11s 113ms/step - loss: 0.3461 - accuracy: 0.8500 - val_loss: 0.4525 - val_accuracy: 0.7930\n",
      "Epoch 25/100\n",
      "100/100 [==============================] - 13s 129ms/step - loss: 0.3484 - accuracy: 0.8475 - val_loss: 0.4282 - val_accuracy: 0.7990\n",
      "Epoch 26/100\n",
      "100/100 [==============================] - 11s 112ms/step - loss: 0.3348 - accuracy: 0.8520 - val_loss: 0.4526 - val_accuracy: 0.8000\n",
      "Epoch 27/100\n",
      "100/100 [==============================] - 11s 112ms/step - loss: 0.3175 - accuracy: 0.8640 - val_loss: 0.4249 - val_accuracy: 0.8070\n",
      "Epoch 28/100\n",
      "100/100 [==============================] - 13s 129ms/step - loss: 0.3011 - accuracy: 0.8755 - val_loss: 0.4290 - val_accuracy: 0.8320\n",
      "Epoch 29/100\n",
      "100/100 [==============================] - 13s 131ms/step - loss: 0.3127 - accuracy: 0.8665 - val_loss: 0.4092 - val_accuracy: 0.8080\n",
      "Epoch 30/100\n",
      "100/100 [==============================] - 11s 114ms/step - loss: 0.2979 - accuracy: 0.8765 - val_loss: 0.4989 - val_accuracy: 0.7940\n",
      "Epoch 31/100\n",
      "100/100 [==============================] - 13s 131ms/step - loss: 0.2965 - accuracy: 0.8745 - val_loss: 0.4417 - val_accuracy: 0.8240\n",
      "Epoch 32/100\n",
      "100/100 [==============================] - 11s 112ms/step - loss: 0.2641 - accuracy: 0.8890 - val_loss: 0.4662 - val_accuracy: 0.8150\n",
      "Epoch 33/100\n",
      "100/100 [==============================] - 11s 114ms/step - loss: 0.2742 - accuracy: 0.8800 - val_loss: 0.3889 - val_accuracy: 0.8380\n",
      "Epoch 34/100\n",
      "100/100 [==============================] - 11s 113ms/step - loss: 0.2718 - accuracy: 0.8885 - val_loss: 0.4372 - val_accuracy: 0.8220\n",
      "Epoch 35/100\n",
      "100/100 [==============================] - 13s 130ms/step - loss: 0.2549 - accuracy: 0.8920 - val_loss: 0.4201 - val_accuracy: 0.8080\n",
      "Epoch 36/100\n",
      "100/100 [==============================] - 11s 113ms/step - loss: 0.2248 - accuracy: 0.9135 - val_loss: 0.4220 - val_accuracy: 0.8220\n",
      "Epoch 37/100\n",
      "100/100 [==============================] - 11s 112ms/step - loss: 0.2244 - accuracy: 0.9120 - val_loss: 0.4664 - val_accuracy: 0.8300\n",
      "Epoch 38/100\n",
      "100/100 [==============================] - 11s 112ms/step - loss: 0.2143 - accuracy: 0.9140 - val_loss: 0.4417 - val_accuracy: 0.8160\n",
      "Epoch 39/100\n",
      "100/100 [==============================] - 11s 113ms/step - loss: 0.2133 - accuracy: 0.9150 - val_loss: 0.4569 - val_accuracy: 0.8240\n",
      "Epoch 40/100\n",
      "100/100 [==============================] - 11s 112ms/step - loss: 0.1944 - accuracy: 0.9290 - val_loss: 0.4798 - val_accuracy: 0.8160\n",
      "Epoch 41/100\n",
      "100/100 [==============================] - 11s 113ms/step - loss: 0.2073 - accuracy: 0.9285 - val_loss: 0.4726 - val_accuracy: 0.8270\n",
      "Epoch 42/100\n",
      "100/100 [==============================] - 11s 114ms/step - loss: 0.2214 - accuracy: 0.9160 - val_loss: 0.4755 - val_accuracy: 0.8390\n",
      "Epoch 43/100\n",
      "100/100 [==============================] - 11s 114ms/step - loss: 0.1804 - accuracy: 0.9290 - val_loss: 0.5039 - val_accuracy: 0.8210\n",
      "Epoch 44/100\n",
      "100/100 [==============================] - 11s 113ms/step - loss: 0.1661 - accuracy: 0.9370 - val_loss: 0.4018 - val_accuracy: 0.8570\n",
      "Epoch 45/100\n",
      "100/100 [==============================] - 11s 113ms/step - loss: 0.1808 - accuracy: 0.9345 - val_loss: 0.4901 - val_accuracy: 0.8180\n",
      "Epoch 46/100\n",
      "100/100 [==============================] - 11s 113ms/step - loss: 0.1546 - accuracy: 0.9404 - val_loss: 0.4267 - val_accuracy: 0.8310\n",
      "Epoch 47/100\n",
      "100/100 [==============================] - 13s 130ms/step - loss: 0.1635 - accuracy: 0.9455 - val_loss: 0.4593 - val_accuracy: 0.8220\n",
      "Epoch 48/100\n",
      "100/100 [==============================] - 11s 113ms/step - loss: 0.1270 - accuracy: 0.9545 - val_loss: 0.4610 - val_accuracy: 0.8260\n",
      "Epoch 49/100\n",
      "100/100 [==============================] - 11s 113ms/step - loss: 0.1608 - accuracy: 0.9430 - val_loss: 0.5025 - val_accuracy: 0.8320\n",
      "Epoch 50/100\n",
      "100/100 [==============================] - 11s 112ms/step - loss: 0.1467 - accuracy: 0.9485 - val_loss: 0.5315 - val_accuracy: 0.8280\n",
      "Epoch 51/100\n",
      "100/100 [==============================] - 11s 113ms/step - loss: 0.1281 - accuracy: 0.9565 - val_loss: 0.4762 - val_accuracy: 0.8320\n",
      "Epoch 52/100\n",
      "100/100 [==============================] - 11s 113ms/step - loss: 0.0991 - accuracy: 0.9670 - val_loss: 0.5851 - val_accuracy: 0.8150\n",
      "Epoch 53/100\n",
      "100/100 [==============================] - 11s 114ms/step - loss: 0.1209 - accuracy: 0.9545 - val_loss: 0.5301 - val_accuracy: 0.8330\n",
      "Epoch 54/100\n",
      "100/100 [==============================] - 11s 112ms/step - loss: 0.1265 - accuracy: 0.9605 - val_loss: 0.5326 - val_accuracy: 0.8240\n",
      "Epoch 55/100\n",
      "100/100 [==============================] - 11s 112ms/step - loss: 0.1123 - accuracy: 0.9680 - val_loss: 0.5606 - val_accuracy: 0.8130\n",
      "Epoch 56/100\n",
      "100/100 [==============================] - 11s 112ms/step - loss: 0.0942 - accuracy: 0.9695 - val_loss: 0.5931 - val_accuracy: 0.8210\n",
      "Epoch 57/100\n",
      "100/100 [==============================] - 13s 129ms/step - loss: 0.0885 - accuracy: 0.9645 - val_loss: 0.5873 - val_accuracy: 0.8210\n",
      "Epoch 58/100\n",
      "100/100 [==============================] - 11s 113ms/step - loss: 0.1056 - accuracy: 0.9625 - val_loss: 0.5236 - val_accuracy: 0.8230\n",
      "Epoch 59/100\n",
      "100/100 [==============================] - 11s 113ms/step - loss: 0.0993 - accuracy: 0.9680 - val_loss: 0.5205 - val_accuracy: 0.8490\n",
      "Epoch 60/100\n",
      "100/100 [==============================] - 11s 112ms/step - loss: 0.0838 - accuracy: 0.9705 - val_loss: 0.5706 - val_accuracy: 0.8380\n",
      "Epoch 61/100\n",
      "100/100 [==============================] - 13s 131ms/step - loss: 0.0883 - accuracy: 0.9715 - val_loss: 0.4899 - val_accuracy: 0.8310\n",
      "Epoch 62/100\n",
      "100/100 [==============================] - 11s 114ms/step - loss: 0.0826 - accuracy: 0.9780 - val_loss: 0.6735 - val_accuracy: 0.8330\n",
      "Epoch 63/100\n",
      "100/100 [==============================] - 11s 113ms/step - loss: 0.0768 - accuracy: 0.9770 - val_loss: 0.4984 - val_accuracy: 0.8500\n",
      "Epoch 64/100\n",
      "100/100 [==============================] - 11s 112ms/step - loss: 0.0690 - accuracy: 0.9785 - val_loss: 0.5772 - val_accuracy: 0.8510\n",
      "Epoch 65/100\n",
      "100/100 [==============================] - 11s 113ms/step - loss: 0.0560 - accuracy: 0.9805 - val_loss: 0.6161 - val_accuracy: 0.8540\n",
      "Epoch 66/100\n",
      "100/100 [==============================] - 11s 112ms/step - loss: 0.0820 - accuracy: 0.9715 - val_loss: 0.6080 - val_accuracy: 0.8200\n",
      "Epoch 67/100\n",
      "100/100 [==============================] - 13s 131ms/step - loss: 0.0704 - accuracy: 0.9750 - val_loss: 0.5890 - val_accuracy: 0.8370\n",
      "Epoch 68/100\n",
      "100/100 [==============================] - 11s 113ms/step - loss: 0.0617 - accuracy: 0.9830 - val_loss: 0.5655 - val_accuracy: 0.8330\n",
      "Epoch 69/100\n",
      "100/100 [==============================] - 11s 114ms/step - loss: 0.0683 - accuracy: 0.9810 - val_loss: 0.5826 - val_accuracy: 0.8370\n",
      "Epoch 70/100\n",
      "100/100 [==============================] - 11s 113ms/step - loss: 0.0545 - accuracy: 0.9790 - val_loss: 0.7457 - val_accuracy: 0.8180\n",
      "Epoch 71/100\n",
      "100/100 [==============================] - 11s 111ms/step - loss: 0.0530 - accuracy: 0.9800 - val_loss: 0.7620 - val_accuracy: 0.8200\n",
      "Epoch 72/100\n",
      "100/100 [==============================] - 11s 113ms/step - loss: 0.0673 - accuracy: 0.9815 - val_loss: 0.7620 - val_accuracy: 0.8410\n",
      "Epoch 73/100\n",
      "100/100 [==============================] - 11s 113ms/step - loss: 0.0489 - accuracy: 0.9860 - val_loss: 0.6417 - val_accuracy: 0.8280\n",
      "Epoch 74/100\n",
      "100/100 [==============================] - 11s 112ms/step - loss: 0.0513 - accuracy: 0.9815 - val_loss: 0.6550 - val_accuracy: 0.8440\n",
      "Epoch 75/100\n",
      "100/100 [==============================] - 11s 112ms/step - loss: 0.0442 - accuracy: 0.9845 - val_loss: 0.8123 - val_accuracy: 0.8280\n",
      "Epoch 76/100\n",
      "100/100 [==============================] - 13s 129ms/step - loss: 0.0699 - accuracy: 0.9755 - val_loss: 0.6966 - val_accuracy: 0.8370\n",
      "Epoch 77/100\n",
      "100/100 [==============================] - 11s 114ms/step - loss: 0.0368 - accuracy: 0.9840 - val_loss: 0.8184 - val_accuracy: 0.8320\n",
      "Epoch 78/100\n",
      "100/100 [==============================] - 13s 130ms/step - loss: 0.0549 - accuracy: 0.9840 - val_loss: 0.6748 - val_accuracy: 0.8310\n",
      "Epoch 79/100\n",
      "100/100 [==============================] - 11s 112ms/step - loss: 0.0537 - accuracy: 0.9780 - val_loss: 0.6312 - val_accuracy: 0.8370\n",
      "Epoch 80/100\n",
      "100/100 [==============================] - 11s 113ms/step - loss: 0.0412 - accuracy: 0.9860 - val_loss: 0.6901 - val_accuracy: 0.8490\n",
      "Epoch 81/100\n",
      "100/100 [==============================] - 11s 112ms/step - loss: 0.0380 - accuracy: 0.9900 - val_loss: 0.7428 - val_accuracy: 0.8330\n",
      "Epoch 82/100\n",
      "100/100 [==============================] - 11s 112ms/step - loss: 0.0532 - accuracy: 0.9815 - val_loss: 0.7690 - val_accuracy: 0.8390\n",
      "Epoch 83/100\n",
      "100/100 [==============================] - 11s 111ms/step - loss: 0.0353 - accuracy: 0.9910 - val_loss: 0.6723 - val_accuracy: 0.8540\n",
      "Epoch 84/100\n",
      "100/100 [==============================] - 11s 112ms/step - loss: 0.0242 - accuracy: 0.9950 - val_loss: 0.8027 - val_accuracy: 0.8340\n",
      "Epoch 85/100\n",
      "100/100 [==============================] - 11s 112ms/step - loss: 0.0386 - accuracy: 0.9885 - val_loss: 0.8154 - val_accuracy: 0.8180\n",
      "Epoch 86/100\n",
      "100/100 [==============================] - 11s 112ms/step - loss: 0.0495 - accuracy: 0.9870 - val_loss: 0.9814 - val_accuracy: 0.8130\n",
      "Epoch 87/100\n",
      "100/100 [==============================] - 11s 112ms/step - loss: 0.0509 - accuracy: 0.9835 - val_loss: 0.7155 - val_accuracy: 0.8350\n",
      "Epoch 88/100\n",
      "100/100 [==============================] - 11s 112ms/step - loss: 0.0353 - accuracy: 0.9865 - val_loss: 0.7143 - val_accuracy: 0.8210\n",
      "Epoch 89/100\n",
      "100/100 [==============================] - 11s 111ms/step - loss: 0.0327 - accuracy: 0.9870 - val_loss: 0.8290 - val_accuracy: 0.8210\n",
      "Epoch 90/100\n",
      "100/100 [==============================] - 11s 112ms/step - loss: 0.0337 - accuracy: 0.9915 - val_loss: 1.0484 - val_accuracy: 0.8260\n",
      "Epoch 91/100\n",
      "100/100 [==============================] - 11s 112ms/step - loss: 0.0323 - accuracy: 0.9875 - val_loss: 0.8807 - val_accuracy: 0.8380\n",
      "Epoch 92/100\n",
      "100/100 [==============================] - 11s 112ms/step - loss: 0.0373 - accuracy: 0.9885 - val_loss: 0.8098 - val_accuracy: 0.8350\n",
      "Epoch 93/100\n",
      "100/100 [==============================] - 11s 113ms/step - loss: 0.0133 - accuracy: 0.9960 - val_loss: 0.9208 - val_accuracy: 0.8230\n",
      "Epoch 94/100\n",
      "100/100 [==============================] - 11s 111ms/step - loss: 0.0206 - accuracy: 0.9935 - val_loss: 0.9223 - val_accuracy: 0.8290\n",
      "Epoch 95/100\n",
      "100/100 [==============================] - 13s 130ms/step - loss: 0.0347 - accuracy: 0.9855 - val_loss: 1.1532 - val_accuracy: 0.8000\n",
      "Epoch 96/100\n",
      "100/100 [==============================] - 13s 130ms/step - loss: 0.0504 - accuracy: 0.9805 - val_loss: 1.0462 - val_accuracy: 0.8340\n",
      "Epoch 97/100\n",
      "100/100 [==============================] - 11s 111ms/step - loss: 0.0295 - accuracy: 0.9905 - val_loss: 0.9513 - val_accuracy: 0.8350\n",
      "Epoch 98/100\n",
      "100/100 [==============================] - 11s 113ms/step - loss: 0.0212 - accuracy: 0.9935 - val_loss: 1.0931 - val_accuracy: 0.8280\n",
      "Epoch 99/100\n",
      "100/100 [==============================] - 11s 112ms/step - loss: 0.0364 - accuracy: 0.9885 - val_loss: 1.0668 - val_accuracy: 0.8200\n",
      "Epoch 100/100\n",
      "100/100 [==============================] - 11s 113ms/step - loss: 0.0425 - accuracy: 0.9865 - val_loss: 0.9863 - val_accuracy: 0.8260\n"
     ]
    }
   ],
   "source": [
    "# Get the untrained model\n",
    "model = create_model()\n",
    "\n",
    "# Train the model\n",
    "# Note that this may take some time.\n",
    "history = model.fit(train_generator,\n",
    "                    steps_per_epoch=100,  \n",
    "                    # Total number of steps (batches of samples) before declaring one epoch finished and starting the next epoch.\n",
    "                    validation_steps=50, \n",
    "                    # Only relevant if validation_data is provided and is a tf.data dataset. \n",
    "                    # Total number of steps (batches of samples) to draw before stopping when \n",
    "                    # performing validation at the end of every epoch. If 'validation_steps' is None, \n",
    "                    # validation will run until the validation_data dataset is exhausted. In the case\n",
    "                    # of an infinitely repeated dataset, it will run into an infinite loop. \n",
    "                    # If 'validation_steps' is specified and only part of the dataset will be consumed,\n",
    "                    # the evaluation will start from the beginning of the dataset at each epoch. \n",
    "                    # This ensures that the same validation samples are used every time.\n",
    "                    epochs=100,\n",
    "                    verbose=1,\n",
    "                    validation_data=validation_generator #Data on which to evaluate the loss and any model metrics at the end of each epoch. \n",
    "                    )"
   ]
  },
  {
   "cell_type": "markdown",
   "id": "VGsaDMc-GMd4",
   "metadata": {
    "id": "VGsaDMc-GMd4"
   },
   "source": [
    "Once training has finished, you can run the following cell to check the training and validation accuracy achieved at the end of each epoch.\n",
    "\n",
    "**To pass this assignment, your model should achieve a training accuracy of at least 95% and a validation accuracy of at least 80%**. If your model didn't achieve these thresholds, try training again with a different model architecture and remember to use at least 3 convolutional layers."
   ]
  },
  {
   "cell_type": "code",
   "execution_count": 38,
   "id": "MWZrJN4-65RC",
   "metadata": {
    "colab": {
     "base_uri": "https://localhost:8080/",
     "height": 547
    },
    "id": "MWZrJN4-65RC",
    "outputId": "dd7f2b73-83d6-4c0a-8385-ff0846e6ddc2"
   },
   "outputs": [
    {
     "data": {
      "image/png": "[encoded data removed]",
      "text/plain": [
       "<Figure size 432x288 with 1 Axes>"
      ]
     },
     "metadata": {
      "needs_background": "light"
     },
     "output_type": "display_data"
    },
    {
     "name": "stdout",
     "output_type": "stream",
     "text": [
      "\n"
     ]
    },
    {
     "data": {
      "image/png": "[encoded data removed]",
      "text/plain": [
       "<Figure size 432x288 with 1 Axes>"
      ]
     },
     "metadata": {
      "needs_background": "light"
     },
     "output_type": "display_data"
    }
   ],
   "source": [
    "#-----------------------------------------------------------\n",
    "# Retrieve a list of list results on training and test data\n",
    "# sets for each training epoch\n",
    "#-----------------------------------------------------------\n",
    "acc=history.history['accuracy']\n",
    "val_acc=history.history['val_accuracy']\n",
    "loss=history.history['loss']\n",
    "val_loss=history.history['val_loss']\n",
    "\n",
    "epochs=range(len(acc)) # Get number of epochs\n",
    "\n",
    "#------------------------------------------------\n",
    "# Plot training and validation accuracy per epoch\n",
    "#------------------------------------------------\n",
    "plt.plot(epochs, acc, 'r', \"Training Accuracy\")\n",
    "plt.plot(epochs, val_acc, 'b', \"Validation Accuracy\")\n",
    "plt.title('Training and validation accuracy')\n",
    "plt.show()\n",
    "print(\"\")\n",
    "\n",
    "#------------------------------------------------\n",
    "# Plot training and validation loss per epoch\n",
    "#------------------------------------------------\n",
    "plt.plot(epochs, loss, 'r', \"Training Loss\")\n",
    "plt.plot(epochs, val_loss, 'b', \"Validation Loss\")\n",
    "plt.show()"
   ]
  },
  {
   "cell_type": "markdown",
   "id": "NYIaqsN2pav6",
   "metadata": {
    "id": "NYIaqsN2pav6"
   },
   "source": [
    "You will probably encounter that the model is overfitting, which means that it is doing a great job at classifying the images in the training set but struggles with new data. This is perfectly fine and you will learn how to mitigate this issue in the upcoming week.\n",
    "\n",
    "Before downloading this notebook and closing the assignment, be sure to also download the `history.pkl` file which contains the information of the training history of your model. You can download this file by running the cell below:"
   ]
  },
  {
   "cell_type": "code",
   "execution_count": 39,
   "id": "yWcrc9nZTsHj",
   "metadata": {
    "colab": {
     "base_uri": "https://localhost:8080/",
     "height": 17
    },
    "id": "yWcrc9nZTsHj",
    "outputId": "2c006d4a-8ff7-413b-f367-31cbf3073ae2"
   },
   "outputs": [
    {
     "data": {
      "application/javascript": [
       "\n",
       "    async function download(id, filename, size) {\n",
       "      if (!google.colab.kernel.accessAllowed) {\n",
       "        return;\n",
       "      }\n",
       "      const div = document.createElement('div');\n",
       "      const label = document.createElement('label');\n",
       "      label.textContent = `Downloading \"${filename}\": `;\n",
       "      div.appendChild(label);\n",
       "      const progress = document.createElement('progress');\n",
       "      progress.max = size;\n",
       "      div.appendChild(progress);\n",
       "      document.body.appendChild(div);\n",
       "\n",
       "      const buffers = [];\n",
       "      let downloaded = 0;\n",
       "\n",
       "      const channel = await google.colab.kernel.comms.open(id);\n",
       "      // Send a message to notify the kernel that we're ready.\n",
       "      channel.send({})\n",
       "\n",
       "      for await (const message of channel.messages) {\n",
       "        // Send a message to notify the kernel that we're ready.\n",
       "        channel.send({})\n",
       "        if (message.buffers) {\n",
       "          for (const buffer of message.buffers) {\n",
       "            buffers.push(buffer);\n",
       "            downloaded += buffer.byteLength;\n",
       "            progress.value = downloaded;\n",
       "          }\n",
       "        }\n",
       "      }\n",
       "      const blob = new Blob(buffers, {type: 'application/binary'});\n",
       "      const a = document.createElement('a');\n",
       "      a.href = window.URL.createObjectURL(blob);\n",
       "      a.download = filename;\n",
       "      div.appendChild(a);\n",
       "      a.click();\n",
       "      div.remove();\n",
       "    }\n",
       "  "
      ],
      "text/plain": [
       "<IPython.core.display.Javascript object>"
      ]
     },
     "metadata": {},
     "output_type": "display_data"
    },
    {
     "data": {
      "application/javascript": [
       "download(\"download_9cd22ca0-20dd-4795-b068-6dfa391a45b7\", \"history.pkl\", 3688)"
      ],
      "text/plain": [
       "<IPython.core.display.Javascript object>"
      ]
     },
     "metadata": {},
     "output_type": "display_data"
    }
   ],
   "source": [
    "def download_history():\n",
    "  import pickle\n",
    "  from google.colab import files\n",
    "\n",
    "  with open('history.pkl', 'wb') as f:\n",
    "    pickle.dump(history.history, f)\n",
    "\n",
    "  files.download('history.pkl')\n",
    "\n",
    "download_history()"
   ]
  },
  {
   "cell_type": "markdown",
   "id": "gcBcDNWTZ75Q",
   "metadata": {
    "id": "gcBcDNWTZ75Q"
   },
   "source": [
    "You will also need to submit this notebook for grading. To download it, click on the `File` tab in the upper left corner of the screen then click on `Download` -> `Download .ipynb`. You can name it anything you want as long as it is a valid `.ipynb` (jupyter notebook) file."
   ]
  },
  {
   "cell_type": "markdown",
   "id": "joAaZSWWpbOI",
   "metadata": {
    "id": "joAaZSWWpbOI"
   },
   "source": [
    "**Congratulations on finishing this week's assignment!**\n",
    "\n",
    "You have successfully implemented a convolutional neural network that classifies images of cats and dogs, along with the helper functions needed to pre-process the images!\n",
    "\n",
    "**Keep it up!**"
   ]
  }
 ],
 "metadata": {
  "accelerator": "GPU",
  "colab": {
   "collapsed_sections": [],
   "name": "Copy of C2W1_Assignment.ipynb",
   "provenance": []
  },
  "kernelspec": {
   "display_name": "Python 3 (ipykernel)",
   "language": "python",
   "name": "python3"
  },
  "language_info": {
   "codemirror_mode": {
    "name": "ipython",
    "version": 3
   },
   "file_extension": ".py",
   "mimetype": "text/x-python",
   "name": "python",
   "nbconvert_exporter": "python",
   "pygments_lexer": "ipython3",
   "version": "3.7.11"
  }
 },
 "nbformat": 4,
 "nbformat_minor": 5
}
